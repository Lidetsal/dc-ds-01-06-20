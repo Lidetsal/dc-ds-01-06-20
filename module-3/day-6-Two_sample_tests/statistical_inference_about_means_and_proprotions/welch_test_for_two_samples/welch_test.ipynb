{
 "cells": [
  {
   "cell_type": "markdown",
   "metadata": {},
   "source": [
    "Materials in this notebook is adapted from [Statistics for Business and Economics 10e Chapter 10](https://www.amazon.com/Statistics-Business-Economics-Education-Printed/dp/1305585313/ref=sr_1_5?keywords=statistics+for+business+and+economics+pagano&qid=1581359479&sr=8-5)"
   ]
  },
  {
   "cell_type": "markdown",
   "metadata": {},
   "source": [
    "# Inference About the Difference Between Two Population Means: $\\sigma_1$ and $\\sigma_2$ are Unknown."
   ]
  },
  {
   "cell_type": "markdown",
   "metadata": {},
   "source": [
    "The College Board provided comparisons of Scholastic Aptitude Test (SAT) scores based on the highest level of education attained by the test taker’s parents. A research hypothesis was that students whose parents had attained a higher level of education would on average score higher on the SAT. During 2003, the overall mean SAT verbal score was 507 (The World Almanac 2004). SAT verbal scores for independent samples of students follow. The first sample shows the SAT verbal test scores for students whose parents are college graduates with a bachelor’s degree. The second sample shows the SAT verbal test scores for students whose parents are high school graduates but do not have a college degree"
   ]
  },
  {
   "cell_type": "markdown",
   "metadata": {},
   "source": [
    "__Your Turn__\n",
    "\n",
    "1. What is the first population?\n",
    "\n",
    "2. What is the secon population?\n",
    "\n",
    "3. Do you know the first population's mean? ($\\mu_{1}$)\n",
    "\n",
    "4. Do you know the second population's mean? ($\\mu_{2}$)\n",
    "\n",
    "5. Do you know the first population standard deviation? ($\\sigma_{1}$)\n",
    "\n",
    "6. Do you know the second population standard deviation? ($\\sigma_{2}$)"
   ]
  },
  {
   "cell_type": "code",
   "execution_count": 5,
   "metadata": {},
   "outputs": [],
   "source": [
    "## your answers are here"
   ]
  },
  {
   "cell_type": "code",
   "execution_count": 24,
   "metadata": {},
   "outputs": [],
   "source": [
    "sample_college = [485, 534, 650, 554, 550,\n",
    "                  575, 498, 448, 470, 591,\n",
    "                  480, 540, 520,515, 578]"
   ]
  },
  {
   "cell_type": "code",
   "execution_count": 25,
   "metadata": {},
   "outputs": [],
   "source": [
    "sample_high_school = [440, 585, 481, 486, 528, \n",
    "                     524, 492, 478, 430, 480, \n",
    "                     390, 535]"
   ]
  },
  {
   "cell_type": "markdown",
   "metadata": {},
   "source": [
    "3. Do you know the first sample's mean? ($\\bar{x}_{1}$)\n",
    "\n",
    "4. Do you know the second sample's mean? ($\\bar{x}_{2}$)\n",
    "\n",
    "5. Do you know the first sample's standard deviation? ($s_{1}$)\n",
    "\n",
    "6. Do you know the second sample's standard deviation? ($s_{2}$)"
   ]
  },
  {
   "cell_type": "code",
   "execution_count": 26,
   "metadata": {},
   "outputs": [],
   "source": [
    "import numpy as np"
   ]
  },
  {
   "cell_type": "code",
   "execution_count": 27,
   "metadata": {},
   "outputs": [
    {
     "name": "stdout",
     "output_type": "stream",
     "text": [
      "532.5333333333333\n",
      "487.4166666666667\n",
      "standard_college 51.40929444716738\n",
      "standard_high_school 50.01242901075248\n"
     ]
    }
   ],
   "source": [
    "## your answer here\n",
    "\n",
    "x1_bar = np.mean(sample_college)\n",
    "x2_bar = np.mean(sample_high_school)\n",
    "s1 = np.std(sample_college)\n",
    "s2 = np.std(sample_high_school)\n",
    "\n",
    "print(x1_bar)\n",
    "print(x2_bar)\n",
    "print('standard_college', s1)\n",
    "print('standard_high_school', s2)"
   ]
  },
  {
   "cell_type": "markdown",
   "metadata": {},
   "source": [
    "__Your Turn__\n",
    "\n",
    "1. Write alternative hypothesis. Do you want to use two-tailed or one-tailed test?\n",
    "\n",
    "2. Write null-hypothesis. Make sure that the null-hypothesis is logically complementary to the alternative hypothesis. \n",
    "\n",
    "3. Set a significance level. ($\\alpha$)"
   ]
  },
  {
   "cell_type": "code",
   "execution_count": null,
   "metadata": {},
   "outputs": [],
   "source": [
    "## your answer here\n",
    "\n",
    "#Null_hypothesis = There is no difference between the scores of students with college graduated parents and parents \n",
    "#with a highschool diploma only\n",
    "\n",
    "#Alternative hypothesis = Students who have parents with a college degree will have a higher mean \n",
    "#score than those whose parents have a higschool degree"
   ]
  },
  {
   "cell_type": "code",
   "execution_count": null,
   "metadata": {},
   "outputs": [],
   "source": []
  },
  {
   "cell_type": "code",
   "execution_count": null,
   "metadata": {},
   "outputs": [],
   "source": []
  },
  {
   "cell_type": "markdown",
   "metadata": {},
   "source": [
    "\n",
    "Mathematically we can express this as:\n",
    "\n",
    "\\begin{equation}\n",
    "    H_{a}:  \\mu_{1} - \\mu_{2} > D_{0} = 0\\\\\n",
    "    H_{0}:  \\mu_{1} - \\mu_{2} \\leq D_{0} = 0 \\\\\n",
    "    \\text{Significance Level: }\\alpha = 0.05\n",
    "\\end{equation}"
   ]
  },
  {
   "cell_type": "code",
   "execution_count": null,
   "metadata": {},
   "outputs": [],
   "source": []
  },
  {
   "cell_type": "markdown",
   "metadata": {},
   "source": [
    "<img src= \"img/welch_test.png\" width = 450>"
   ]
  },
  {
   "cell_type": "markdown",
   "metadata": {},
   "source": [
    "## Using scipy.stats"
   ]
  },
  {
   "cell_type": "code",
   "execution_count": 22,
   "metadata": {},
   "outputs": [],
   "source": [
    "import scipy.stats as stats"
   ]
  },
  {
   "cell_type": "code",
   "execution_count": 23,
   "metadata": {},
   "outputs": [
    {
     "data": {
      "text/plain": [
       "Ttest_indResult(statistic=2.211586919212515, pvalue=0.03680769761049924)"
      ]
     },
     "execution_count": 23,
     "metadata": {},
     "output_type": "execute_result"
    }
   ],
   "source": [
    "stats.ttest_ind(sample_college, \n",
    "                sample_high_school, \n",
    "                equal_var=False)"
   ]
  },
  {
   "cell_type": "markdown",
   "metadata": {},
   "source": [
    "## Using statsmodels"
   ]
  },
  {
   "cell_type": "code",
   "execution_count": 26,
   "metadata": {},
   "outputs": [],
   "source": [
    "from statsmodels.stats.weightstats import ttest_ind\n",
    "import numpy as np"
   ]
  },
  {
   "cell_type": "code",
   "execution_count": 24,
   "metadata": {},
   "outputs": [
    {
     "data": {
      "text/plain": [
       "(15,)"
      ]
     },
     "execution_count": 24,
     "metadata": {},
     "output_type": "execute_result"
    }
   ],
   "source": [
    "np.array(sample_college).shape"
   ]
  },
  {
   "cell_type": "code",
   "execution_count": 33,
   "metadata": {},
   "outputs": [
    {
     "data": {
      "text/plain": [
       "(2.211586919212515, 0.01840384880524962, 23.902154340470105)"
      ]
     },
     "execution_count": 33,
     "metadata": {},
     "output_type": "execute_result"
    }
   ],
   "source": [
    "ttest_ind(np.array(sample_college), np.array(sample_high_school), usevar='unequal', alternative= 'larger')"
   ]
  },
  {
   "cell_type": "code",
   "execution_count": null,
   "metadata": {},
   "outputs": [],
   "source": []
  }
 ],
 "metadata": {
  "kernelspec": {
   "display_name": "Python 3",
   "language": "python",
   "name": "python3"
  },
  "language_info": {
   "codemirror_mode": {
    "name": "ipython",
    "version": 3
   },
   "file_extension": ".py",
   "mimetype": "text/x-python",
   "name": "python",
   "nbconvert_exporter": "python",
   "pygments_lexer": "ipython3",
   "version": "3.7.4"
  },
  "toc": {
   "base_numbering": 1,
   "nav_menu": {},
   "number_sections": true,
   "sideBar": true,
   "skip_h1_title": false,
   "title_cell": "Table of Contents",
   "title_sidebar": "Contents",
   "toc_cell": false,
   "toc_position": {},
   "toc_section_display": true,
   "toc_window_display": false
  }
 },
 "nbformat": 4,
 "nbformat_minor": 2
}
