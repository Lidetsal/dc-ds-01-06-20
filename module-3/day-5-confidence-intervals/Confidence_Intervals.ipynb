{
 "cells": [
  {
   "cell_type": "markdown",
   "metadata": {},
   "source": [
    "## Goals of Today's Lecture:\n",
    "\n",
    "1. Summing up Week 1\n",
    "3. Confidence Intervals"
   ]
  },
  {
   "cell_type": "markdown",
   "metadata": {},
   "source": [
    "### This Weeek Today\n",
    "\n",
    "- Probability - Helps us quantify uncertainty under defined events\n",
    "- Random Variables - Enable us to mathematically map those events\n",
    "- Sampling - Helps us make generalizations about larger populations\n",
    "- Central Limit Theorem - Helps us describe the population regardless of its distribution\n",
    "- Hypothesis Testing - Helps us statistically gauge significant effects"
   ]
  },
  {
   "cell_type": "markdown",
   "metadata": {},
   "source": [
    "### Confidence Intervals\n",
    "\n",
    "\n",
    "![formula](./img/margin_of_error.png)\n",
    "\n",
    "Point estimate +/- margin of error"
   ]
  },
  {
   "cell_type": "markdown",
   "metadata": {},
   "source": [
    "**KEY POINT** : Our level of confidence that if we obtained a sample of equal size, our sample interval would contain the population mean.\n",
    "\n",
    "It **IS NOT** the probability that the population mean lies within our sample interval. <-- this implies that there is an element of probability related to having the population mean within our sample. \n",
    "The true population mean is either in or it is not.\n",
    "\n",
    "Let's understand this better using a [visual display](https://shiny.rit.albany.edu/stat/confidence/)."
   ]
  },
  {
   "cell_type": "markdown",
   "metadata": {},
   "source": [
    "### An Example\n",
    "Let's analyze a collection of Capital Bike Share data."
   ]
  },
  {
   "cell_type": "code",
   "execution_count": null,
   "metadata": {},
   "outputs": [],
   "source": [
    "# import os\n",
    "# os.chdir('/Users/schandrasekharan/Desktop/conf_int')"
   ]
  },
  {
   "cell_type": "code",
<<<<<<< HEAD
   "execution_count": 4,
=======
   "execution_count": 7,
>>>>>>> 3c5a63ce6c4bdfa366ebbe91d38460f938f0130c
   "metadata": {},
   "outputs": [],
   "source": [
    "import pandas as pd\n",
    "import numpy as np\n",
    "import matplotlib.pyplot as plt\n",
    "%matplotlib inline\n",
    "df = pd.read_csv('data/201904-capitalbikeshare-tripdata.csv')"
   ]
  },
  {
   "cell_type": "code",
<<<<<<< HEAD
   "execution_count": 5,
=======
   "execution_count": 8,
>>>>>>> 3c5a63ce6c4bdfa366ebbe91d38460f938f0130c
   "metadata": {},
   "outputs": [
    {
     "data": {
      "text/html": [
       "<div>\n",
       "<style scoped>\n",
       "    .dataframe tbody tr th:only-of-type {\n",
       "        vertical-align: middle;\n",
       "    }\n",
       "\n",
       "    .dataframe tbody tr th {\n",
       "        vertical-align: top;\n",
       "    }\n",
       "\n",
       "    .dataframe thead th {\n",
       "        text-align: right;\n",
       "    }\n",
       "</style>\n",
       "<table border=\"1\" class=\"dataframe\">\n",
       "  <thead>\n",
       "    <tr style=\"text-align: right;\">\n",
       "      <th></th>\n",
       "      <th>Duration</th>\n",
       "      <th>Start date</th>\n",
       "      <th>End date</th>\n",
       "      <th>Start station number</th>\n",
       "      <th>Start station</th>\n",
       "      <th>End station number</th>\n",
       "      <th>End station</th>\n",
       "      <th>Bike number</th>\n",
       "      <th>Member type</th>\n",
       "    </tr>\n",
       "  </thead>\n",
       "  <tbody>\n",
       "    <tr>\n",
       "      <th>0</th>\n",
       "      <td>313</td>\n",
       "      <td>2019-04-01 00:03:03</td>\n",
       "      <td>2019-04-01 00:08:16</td>\n",
       "      <td>31618</td>\n",
       "      <td>4th &amp; East Capitol St NE</td>\n",
       "      <td>31630</td>\n",
       "      <td>15th &amp; East Capitol St NE</td>\n",
       "      <td>W24063</td>\n",
       "      <td>Member</td>\n",
       "    </tr>\n",
       "    <tr>\n",
       "      <th>1</th>\n",
       "      <td>453</td>\n",
       "      <td>2019-04-01 00:07:37</td>\n",
       "      <td>2019-04-01 00:15:10</td>\n",
       "      <td>31119</td>\n",
       "      <td>14th &amp; Belmont St NW</td>\n",
       "      <td>31298</td>\n",
       "      <td>15th &amp; M St NW</td>\n",
       "      <td>W22080</td>\n",
       "      <td>Member</td>\n",
       "    </tr>\n",
       "    <tr>\n",
       "      <th>2</th>\n",
       "      <td>333</td>\n",
       "      <td>2019-04-01 00:09:31</td>\n",
       "      <td>2019-04-01 00:15:05</td>\n",
       "      <td>31203</td>\n",
       "      <td>14th &amp; Rhode Island Ave NW</td>\n",
       "      <td>31519</td>\n",
       "      <td>1st &amp; O St NW</td>\n",
       "      <td>W00276</td>\n",
       "      <td>Member</td>\n",
       "    </tr>\n",
       "    <tr>\n",
       "      <th>3</th>\n",
       "      <td>568</td>\n",
       "      <td>2019-04-01 00:10:20</td>\n",
       "      <td>2019-04-01 00:19:49</td>\n",
       "      <td>31202</td>\n",
       "      <td>14th &amp; R St NW</td>\n",
       "      <td>31103</td>\n",
       "      <td>16th &amp; Harvard St NW</td>\n",
       "      <td>W21582</td>\n",
       "      <td>Member</td>\n",
       "    </tr>\n",
       "    <tr>\n",
       "      <th>4</th>\n",
       "      <td>1609</td>\n",
       "      <td>2019-04-01 00:10:38</td>\n",
       "      <td>2019-04-01 00:37:28</td>\n",
       "      <td>31517</td>\n",
       "      <td>Union Market</td>\n",
       "      <td>31655</td>\n",
       "      <td>New Jersey Ave &amp; F St NW</td>\n",
       "      <td>75558</td>\n",
       "      <td>Member</td>\n",
       "    </tr>\n",
       "  </tbody>\n",
       "</table>\n",
       "</div>"
      ],
      "text/plain": [
       "   Duration           Start date             End date  Start station number  \\\n",
       "0       313  2019-04-01 00:03:03  2019-04-01 00:08:16                 31618   \n",
       "1       453  2019-04-01 00:07:37  2019-04-01 00:15:10                 31119   \n",
       "2       333  2019-04-01 00:09:31  2019-04-01 00:15:05                 31203   \n",
       "3       568  2019-04-01 00:10:20  2019-04-01 00:19:49                 31202   \n",
       "4      1609  2019-04-01 00:10:38  2019-04-01 00:37:28                 31517   \n",
       "\n",
       "                Start station  End station number                End station  \\\n",
       "0    4th & East Capitol St NE               31630  15th & East Capitol St NE   \n",
       "1        14th & Belmont St NW               31298             15th & M St NW   \n",
       "2  14th & Rhode Island Ave NW               31519              1st & O St NW   \n",
       "3              14th & R St NW               31103       16th & Harvard St NW   \n",
       "4                Union Market               31655   New Jersey Ave & F St NW   \n",
       "\n",
       "  Bike number Member type  \n",
       "0      W24063      Member  \n",
       "1      W22080      Member  \n",
       "2      W00276      Member  \n",
       "3      W21582      Member  \n",
       "4       75558      Member  "
      ]
     },
<<<<<<< HEAD
     "execution_count": 5,
=======
     "execution_count": 8,
>>>>>>> 3c5a63ce6c4bdfa366ebbe91d38460f938f0130c
     "metadata": {},
     "output_type": "execute_result"
    }
   ],
   "source": [
    "df.head()\n"
   ]
  },
  {
   "cell_type": "code",
<<<<<<< HEAD
   "execution_count": 6,
=======
   "execution_count": 9,
>>>>>>> 3c5a63ce6c4bdfa366ebbe91d38460f938f0130c
   "metadata": {},
   "outputs": [
    {
     "data": {
      "text/plain": [
       "count    324514.000000\n",
       "mean         14.173228\n",
       "std           9.659266\n",
       "min           1.000000\n",
       "25%           6.766667\n",
       "50%          11.700000\n",
       "75%          19.316667\n",
       "max          49.983333\n",
       "Name: Duration, dtype: float64"
      ]
     },
<<<<<<< HEAD
     "execution_count": 6,
=======
     "execution_count": 9,
>>>>>>> 3c5a63ce6c4bdfa366ebbe91d38460f938f0130c
     "metadata": {},
     "output_type": "execute_result"
    }
   ],
   "source": [
    "trip_durations = df['Duration']/60\n",
    "trip_durations = trip_durations[trip_durations < 50]\n",
    "trip_durations.describe()"
   ]
  },
  {
   "cell_type": "code",
   "execution_count": null,
   "metadata": {},
   "outputs": [],
   "source": []
  },
  {
   "cell_type": "code",
<<<<<<< HEAD
   "execution_count": 8,
=======
   "execution_count": 11,
>>>>>>> 3c5a63ce6c4bdfa366ebbe91d38460f938f0130c
   "metadata": {},
   "outputs": [
    {
     "data": {
<<<<<<< HEAD
      "image/png": "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\n",
=======
      "image/png": "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\n",
>>>>>>> 3c5a63ce6c4bdfa366ebbe91d38460f938f0130c
      "text/plain": [
       "<Figure size 432x288 with 1 Axes>"
      ]
     },
     "metadata": {
      "needs_background": "light"
     },
     "output_type": "display_data"
    }
   ],
   "source": [
    "trip_durations.hist(bins=70)\n",
    "plt.title(\"Distribution of ALL Samples Collected\")\n",
<<<<<<< HEAD
    "plt.xlabel(\"Duration in Mins\")\n",
=======
    "plt.xlabel(\"Duration in Min\")\n",
>>>>>>> 3c5a63ce6c4bdfa366ebbe91d38460f938f0130c
    "plt.ylabel(\"Frequency\")\n",
    "plt.show()"
   ]
  },
  {
   "cell_type": "code",
<<<<<<< HEAD
   "execution_count": 27,
   "metadata": {},
   "outputs": [
    {
     "ename": "TypeError",
     "evalue": "'module' object is not callable",
     "output_type": "error",
     "traceback": [
      "\u001b[0;31m---------------------------------------------------------------------------\u001b[0m",
      "\u001b[0;31mTypeError\u001b[0m                                 Traceback (most recent call last)",
      "\u001b[0;32m<ipython-input-27-8802c9acdc34>\u001b[0m in \u001b[0;36m<module>\u001b[0;34m\u001b[0m\n\u001b[1;32m      4\u001b[0m \u001b[0;34m\u001b[0m\u001b[0m\n\u001b[1;32m      5\u001b[0m \u001b[0;34m\u001b[0m\u001b[0m\n\u001b[0;32m----> 6\u001b[0;31m \u001b[0mnp\u001b[0m\u001b[0;34m.\u001b[0m\u001b[0mrandom\u001b[0m\u001b[0;34m(\u001b[0m\u001b[0;34m)\u001b[0m\u001b[0;34m\u001b[0m\u001b[0;34m\u001b[0m\u001b[0m\n\u001b[0m\u001b[1;32m      7\u001b[0m \u001b[0mtrip_durations\u001b[0m\u001b[0;34m.\u001b[0m\u001b[0mmode\u001b[0m\u001b[0;34m(\u001b[0m\u001b[0;34m)\u001b[0m\u001b[0;34m\u001b[0m\u001b[0;34m\u001b[0m\u001b[0m\n",
      "\u001b[0;31mTypeError\u001b[0m: 'module' object is not callable"
     ]
=======
   "execution_count": 12,
   "metadata": {},
   "outputs": [
    {
     "data": {
      "text/plain": [
       "0    6.65\n",
       "dtype: float64"
      ]
     },
     "execution_count": 12,
     "metadata": {},
     "output_type": "execute_result"
>>>>>>> 3c5a63ce6c4bdfa366ebbe91d38460f938f0130c
    }
   ],
   "source": [
    "#### The length of a bike ride is not normally distributed\n",
    "\n",
    "#### Get population statistics\n",
    "\n",
    "\n",
    "np.random()\n",
    "trip_durations.mode()"
   ]
  },
  {
   "cell_type": "code",
<<<<<<< HEAD
   "execution_count": 44,
=======
   "execution_count": 13,
>>>>>>> 3c5a63ce6c4bdfa366ebbe91d38460f938f0130c
   "metadata": {},
   "outputs": [
    {
     "name": "stdout",
     "output_type": "stream",
     "text": [
      "pop_mean is 14.173227811434836 \n",
      "pop_std is 9.659265893464935\n"
     ]
    }
   ],
   "source": [
    "pop_mean = trip_durations.mean()\n",
    "pop_std = trip_durations.std()\n",
    "print('pop_mean is {} \\npop_std is {}'.format(pop_mean,pop_std))"
   ]
  },
  {
   "cell_type": "markdown",
   "metadata": {},
   "source": [
    "#### Example 1:\n",
    "Let's construct an 80% and 95% confidence interval for one of our samples: \n",
    "\n",
    "__Your Turn__\n",
    "\n",
    "- Select a random sample of size 200 from trip_durations. Keep these in a variable name \"sample\"\n",
    "\n",
    "- Find the sample mean. Keep this number as \"x_bar\"\n",
    "\n",
    "- Find standard_error and confidence factors.\n",
    "\n",
    "- Calculate margin of error.\n"
   ]
  },
  {
   "cell_type": "code",
<<<<<<< HEAD
   "execution_count": 36,
=======
   "execution_count": 14,
>>>>>>> 3c5a63ce6c4bdfa366ebbe91d38460f938f0130c
   "metadata": {},
   "outputs": [],
   "source": [
    "import numpy as np\n",
    "import scipy.stats as stats\n"
   ]
  },
  {
   "cell_type": "code",
   "execution_count": 48,
   "metadata": {},
   "outputs": [],
   "source": [
    "# %load -r 1-3 supplement.py\n",
    "sample = np.random.choice(trip_durations, size=200)\n",
    "sample_size = 200\n",
    "x_bar = sample.mean()\n",
    "sigma = trip_durations.std()\n",
    "z_critical = scs.norm.ppf(0.9)\n",
    "standard_error = pop_std/np.sqrt(200)\n",
    "margin_error = z_critical * standard_error"
   ]
  },
  {
   "cell_type": "code",
   "execution_count": 51,
   "metadata": {},
   "outputs": [
    {
     "data": {
      "text/plain": [
       "0.6823580438450184"
      ]
     },
     "execution_count": 51,
     "metadata": {},
     "output_type": "execute_result"
    }
   ],
   "source": [
    "standard_error"
   ]
  },
  {
   "cell_type": "code",
   "execution_count": 49,
   "metadata": {},
   "outputs": [],
   "source": [
    "confidence_interval_80 = (x_bar - margin_error, x_bar + margin_error)"
   ]
  },
  {
   "cell_type": "code",
   "execution_count": 50,
   "metadata": {},
   "outputs": [
    {
     "data": {
      "text/plain": [
       "(12.114439647315132, 13.8633936860182)"
      ]
     },
     "execution_count": 50,
     "metadata": {},
     "output_type": "execute_result"
    }
   ],
   "source": [
    "confidence_interval_80"
   ]
  },
  {
   "cell_type": "code",
   "execution_count": 40,
   "metadata": {},
   "outputs": [],
   "source": []
  },
  {
   "cell_type": "code",
   "execution_count": null,
   "metadata": {},
   "outputs": [],
   "source": [
    "confidence_factor*"
   ]
  },
  {
   "cell_type": "code",
   "execution_count": null,
   "metadata": {},
   "outputs": [],
   "source": []
  },
  {
   "cell_type": "code",
   "execution_count": 26,
   "metadata": {},
   "outputs": [
    {
     "data": {
      "text/plain": [
       "(13.231818645783651, 15.909181354216344)"
      ]
     },
     "execution_count": 26,
     "metadata": {},
     "output_type": "execute_result"
    }
   ],
   "source": [
    "sample = trip_durations.sample(n= 200)\n",
    "\n",
    "x_bar = sample.mean()\n",
    "\n",
    "z_critical = stats.norm.ppf(0.975)\n",
    "\n",
    "sigma = trip_durations.std()\n",
    "\n",
    "sample_size = 200\n",
    "\n",
    "standard_error = sigma/sample_size**0.5\n",
    "\n",
    "margin_error = z_critical * standard_error\n",
    "\n",
    "confidence_interval_95 = (x_bar - margin_error, x_bar + margin_error)\n",
    "\n",
    "confidence_interval_95"
   ]
  },
  {
   "cell_type": "code",
   "execution_count": null,
   "metadata": {},
   "outputs": [],
   "source": [
    "## Find confidence interval with %80 confidence"
   ]
  },
  {
   "cell_type": "code",
   "execution_count": null,
   "metadata": {},
   "outputs": [],
   "source": [
    "# %load -r 5-11 supplement.py\n",
    "#80%\n",
    "z_critical_upper = scs.norm.ppf(0.9)\n",
    "# z_critical_lower = scs.norm.ppf(0.025)\n",
    "margin_of_error = z_critical_upper * (pop_std/(sample_size**0.5))\n",
    "confidence_interval = (sample_mean - margin_of_error,\n",
    "                       sample_mean + margin_of_error)\n",
    "confidence_interval"
   ]
  },
  {
   "cell_type": "code",
   "execution_count": null,
   "metadata": {},
   "outputs": [],
   "source": [
    "plt.hist(sample)\n",
    "plt.title(\"Distribution of ONE Sub-Sample\")\n",
    "plt.xlabel(\"Duration in Hrs\")\n",
    "plt.ylabel(\"Frequency\")\n",
    "plt.show()"
   ]
  },
  {
   "cell_type": "code",
   "execution_count": null,
   "metadata": {},
   "outputs": [],
   "source": [
    "many_samples = []\n",
    "\n",
    "for i in range(1000):\n",
    "    i = np.random.choice(trip_durations, size=200)\n",
    "    many_samples.append(i.mean())"
   ]
  },
  {
   "cell_type": "code",
   "execution_count": null,
   "metadata": {},
   "outputs": [],
   "source": [
    "plt.hist(many_samples)\n",
    "plt.title(\"Distribution of Sample Means\")\n",
    "plt.xlabel(\"Duration in Hrs\")\n",
    "plt.ylabel(\"Frequency\")\n",
    "plt.show()"
   ]
  },
  {
   "cell_type": "code",
   "execution_count": null,
   "metadata": {},
   "outputs": [],
   "source": [
    "## do the similar calculations for %95 confidence level"
   ]
  },
  {
   "cell_type": "code",
   "execution_count": 6,
   "metadata": {},
   "outputs": [],
   "source": [
    "# %load -r 13-21 supplement.py\n"
   ]
  },
  {
   "cell_type": "markdown",
   "metadata": {},
   "source": [
    "#### Example 2:\n",
    "The EPA considers indoor radon levels above 4 picocuries per liter (pCi/L) of air to be high enough to warrant amelioration efforts.  Tests in a sample of 200 Centre County Pennsylvania homes found 127 (63.5%) of these sampled households to have indoor radon levels above 4 pCi/L.  What is the population value being estimated by this sample percentage? What is the standard error of the corresponding sample proportion? What is the 95% confidence interval?\""
   ]
  },
  {
   "cell_type": "code",
   "execution_count": null,
   "metadata": {},
   "outputs": [],
   "source": [
    "p = 0.635\n",
    "std_error = (p*(1-p))/(200**0.5)\n",
    "\n",
    "critical_value = scs.norm.ppf(0.975)\n",
    "margin_of_error = critical_value*std_error\n",
    "confidence_interval = (p - margin_of_error, p + margin_of_error)\n",
    "print(confidence_interval)"
   ]
  },
  {
   "cell_type": "markdown",
   "metadata": {},
   "source": [
    "### Using the t-distribution\n",
    "\n",
    "1. You are inspecting a hardware factory and want to construct a 90% confidence interval of acceptable screw lengths. You draw a sample of 30 screws and calculate their mean length as 4.8 centimeters and the standard deviation as 0.4 centimeters. What are the bounds of your confidence interval?\n"
   ]
  },
  {
   "cell_type": "code",
   "execution_count": null,
   "metadata": {},
   "outputs": [],
   "source": [
    "import scipy.stats as scs\n",
    "n = 30\n",
    "mean = 4.8\n",
    "t_value = scs.t.ppf(0.95, n-1)\n",
    "margin_error = t_value * 0.4/(n**0.5)\n",
    "confidence_interval = (mean - margin_error, mean + margin_error)\n"
   ]
  },
  {
   "cell_type": "code",
   "execution_count": null,
   "metadata": {},
   "outputs": [],
   "source": [
    "confidence_interval"
   ]
  },
  {
   "cell_type": "markdown",
   "metadata": {},
   "source": [
    "**Q:** Let's assume that we have a sample of size=49 and we know the standard deviation of the population is $\\sigma = 5$. If we know that the sample mean is $\\bar{x} = 20$. What might be a good estimate for the population mean if we also know that the population mean is bigger than 20?"
   ]
  },
  {
   "cell_type": "code",
   "execution_count": null,
   "metadata": {},
   "outputs": [],
   "source": [
    "import matplotlib.pyplot as plt\n",
    "import numpy as np\n",
    "import scipy.stats as stats\n",
    "import math\n",
    "%matplotlib inline\n",
    "\n",
    "\n",
    "#suppose population mu is 21\n",
    "mu = 20\n",
    "# sample mean gives us a point estimator\n",
    "point_estimator = 19.5\n",
    "\n",
    "# we know population variance is 49\n",
    "std_error = 5/(np.sqrt(49))\n",
    "\n",
    "\n",
    "# how much confidence do we require\n",
    "confidence = 0.95\n",
    "\n",
    "# alpha \n",
    "alpha = 1- confidence\n",
    "\n",
    "# due to symmetry we divided alpha by 2\n",
    "# note that to find z_alpha_over_2 we used \n",
    "# standard normal distribution\n",
    "\n",
    "z_alpha_over_2 = np.abs(stats.norm.ppf(alpha/2))\n",
    "\n",
    "# print(z_alpha_over_2)\n",
    "\n",
    "\n",
    "# upper bound gives us a value so that\n",
    "# 2*(the area between point_estimator - upper_bound) = confidence\n",
    "\n",
    "upper_bound = point_estimator + z_alpha_over_2* std_error\n",
    "print(upper_bound)\n",
    "\n",
    "# now let's plot these\n",
    "\n",
    "# a normal distribution with mean=mu and std=sigma\n",
    "x = np.linspace(mu - 4*std_error, mu + 4*std_error, 100)\n",
    "plt.plot(x, stats.norm.pdf(x, mu, std_error))\n",
    "\n",
    "# a vertical line to mark point estimator\n",
    "plt.vlines(point_estimator, ymin=0,\n",
    "           ymax = stats.norm.pdf(point_estimator, mu, std_error))\n",
    "\n",
    "# a vertical line for population mu\n",
    "plt.vlines(mu, ymin=0,\n",
    "           ymax = stats.norm.pdf(mu, mu, std_error),\n",
    "          color = 'g')\n",
    "\n",
    "# a vertical line for upper bound\n",
    "plt.vlines(upper_bound, ymin=0,\n",
    "           ymax = stats.norm.pdf(upper_bound, \n",
    "                                 mu, std_error))\n",
    "\n",
    "\n",
    "# fill the area between upper_bound and point_estimator\n",
    "plt.fill_between(x= np.linspace(point_estimator, upper_bound, 100), \n",
    "                 y1= stats.norm.pdf(np.linspace(point_estimator,\n",
    "                                                upper_bound, 100), mu, std_error) ,\n",
    "                 facecolor='blue',\n",
    "                 alpha=0.35, \n",
    "                 label= 'btwn point estimator and\\n upper bound')\n",
    "\n",
    "# fill the area between point estimator and the left of it\n",
    "plt.fill_between(x= np.linspace(mu - 4*std_error, point_estimator, 100), \n",
    "                 y1= stats.norm.pdf(np.linspace(mu - 4*std_error, point_estimator,100), mu, std_error) ,\n",
    "                 facecolor='red',\n",
    "                 alpha=0.35, \n",
    "                 label= 'red area %.3f'%(stats.norm.cdf(point_estimator, mu, std_error)))\n",
    "\n",
    "plt.legend(loc = 'upper right')\n",
    "plt.show()"
   ]
  },
  {
   "cell_type": "code",
   "execution_count": null,
   "metadata": {},
   "outputs": [],
   "source": []
  }
 ],
 "metadata": {
  "kernelspec": {
   "display_name": "Python 3",
   "language": "python",
   "name": "python3"
  },
  "language_info": {
   "codemirror_mode": {
    "name": "ipython",
    "version": 3
   },
   "file_extension": ".py",
   "mimetype": "text/x-python",
   "name": "python",
   "nbconvert_exporter": "python",
   "pygments_lexer": "ipython3",
   "version": "3.7.4"
  },
  "toc": {
   "base_numbering": 1,
   "nav_menu": {},
   "number_sections": true,
   "sideBar": true,
   "skip_h1_title": false,
   "title_cell": "Table of Contents",
   "title_sidebar": "Contents",
   "toc_cell": false,
   "toc_position": {},
   "toc_section_display": true,
   "toc_window_display": false
  }
 },
 "nbformat": 4,
 "nbformat_minor": 4
}
