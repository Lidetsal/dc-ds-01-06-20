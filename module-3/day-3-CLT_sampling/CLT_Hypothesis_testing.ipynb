{
 "cells": [
  {
   "cell_type": "markdown",
   "metadata": {},
   "source": [
    "__Agenda__\n",
    "\n",
    "- Difference between population and sample\n",
    "- How can we get a good sample?\n",
    "- Point estimators from sample\n",
    "- Sampling distribution, especially sampling distribution of the mean\n",
    "- Central Limit Theorem - statement and use of it.\n",
    "- Creating confidence intervals around sample mean using CLT\n",
    "- Recap\n",
    "\n",
    "\n",
    "# Sampling Distributions\n",
    "\n",
    "## Population vs Sample\n",
    "\n",
    "__population__ A population is the set of all elements of interest in a study. (Finite population and infinite population)\n",
    "\n",
    "__sample__ A sample is a subset of the population.\n",
    "\n",
    "### Scenario\n",
    "\n",
    "The mayor's office has hired Flatiron Data Science Immersive students to determine a way to fix traffic congestion. A good starting point is to determine out what proportion of the population of DC owns a car.\n",
    "\n",
    "In order for us to make any determinations about a population, we must first get information about it.\n",
    "\n",
    "Because it's impractical to ever usually get data about *everyone* in a population, we must take a sample.\n",
    "\n",
    "Our sample should be:\n",
    "\n",
    "* Randomly selected- every item should have an *equal* chance of being selected\n",
    "* Representative of our population\n",
    "\n",
    "![pop](./img/sample_pop.png)\n",
    "\n",
    "\n",
    "**Random sampling is not easy to do, let's look at an example:**\n",
    "\n",
    "Imagine you are trying to determine what proportion of DC metro area people own a car\n",
    "\n",
    "* Stand outside of Flatiron at 12 pm and ask random people until *n* responses\n",
    "\n",
    "\n",
    "* Go to a randomly assigned street corner and at a random time and ask *n* people if they own a car\n",
    "\n",
    "\n",
    "__Objective of Sampling__\n",
    "\n",
    "When we gather a sample, we are trying to minimize the bias of our sample while also minimizing our cost.\n",
    "\n",
    "\n",
    "## Point Estimates\n",
    "\n",
    "!! Very important observation!!: We can consider random sampling as an 'random experiment' and then when we calculate mean, variance, standard deviation, median etc. these are functions on the outcomes of this experiment. We have a name for such functions can you remember it?\n",
    "\n",
    "![imgsample](./img/sample_stats.png)\n",
    "\n",
    "### It's your turn :)\n",
    "\n",
    "[Download data](https://www.kaggle.com/ishaanv/ISLR-Auto)\n",
    "\n",
    "[UCI-repo](https://archive.ics.uci.edu/ml/datasets/auto+mpg)"
   ]
  },
  {
   "cell_type": "code",
<<<<<<< HEAD
   "execution_count": 10,
=======
   "execution_count": 1,
>>>>>>> b204d8340b7f65f14dde69036476744e881deb25
   "metadata": {},
   "outputs": [],
   "source": [
    "import pandas as pd \n",
    "\n",
    "import numpy as np"
   ]
  },
  {
   "cell_type": "markdown",
   "metadata": {},
   "source": [
    "Take two random samples of 30 cars from auto dataset and find both sampling mean and standard deviation for mpg\n",
    "\n"
   ]
  },
  {
   "cell_type": "code",
<<<<<<< HEAD
   "execution_count": 11,
=======
   "execution_count": 2,
>>>>>>> b204d8340b7f65f14dde69036476744e881deb25
   "metadata": {},
   "outputs": [],
   "source": [
    "import pickle"
   ]
  },
  {
   "cell_type": "markdown",
   "metadata": {},
   "source": [
    "We \"pickled\" two samples before and use these to work with"
   ]
  },
  {
   "cell_type": "code",
<<<<<<< HEAD
   "execution_count": 16,
=======
   "execution_count": 3,
>>>>>>> b204d8340b7f65f14dde69036476744e881deb25
   "metadata": {},
   "outputs": [],
   "source": [
    "pkl_obj = open('sample.pkl', 'rb')\n",
    "sample = pickle.load(pkl_obj)\n",
    "pkl_obj.close()"
   ]
  },
  {
   "cell_type": "markdown",
   "metadata": {},
   "source": [
    "Load the the second sample"
   ]
  },
  {
   "cell_type": "code",
<<<<<<< HEAD
   "execution_count": 17,
=======
   "execution_count": 4,
>>>>>>> b204d8340b7f65f14dde69036476744e881deb25
   "metadata": {},
   "outputs": [],
   "source": [
    "pkl_obj = open('sample2.pkl', 'rb')\n",
    "\n",
    "sample2 = pickle.load(pkl_obj)\n",
    "pkl_obj.close()"
   ]
  },
  {
   "cell_type": "code",
<<<<<<< HEAD
   "execution_count": 20,
=======
   "execution_count": 8,
>>>>>>> b204d8340b7f65f14dde69036476744e881deb25
   "metadata": {},
   "outputs": [
    {
     "data": {
      "text/html": [
       "<div>\n",
       "<style scoped>\n",
       "    .dataframe tbody tr th:only-of-type {\n",
       "        vertical-align: middle;\n",
       "    }\n",
       "\n",
       "    .dataframe tbody tr th {\n",
       "        vertical-align: top;\n",
       "    }\n",
       "\n",
       "    .dataframe thead th {\n",
       "        text-align: right;\n",
       "    }\n",
       "</style>\n",
       "<table border=\"1\" class=\"dataframe\">\n",
       "  <thead>\n",
       "    <tr style=\"text-align: right;\">\n",
       "      <th></th>\n",
       "      <th>mpg</th>\n",
       "      <th>cylinders</th>\n",
       "      <th>displacement</th>\n",
       "      <th>horsepower</th>\n",
       "      <th>weight</th>\n",
       "      <th>acceleration</th>\n",
       "      <th>model year</th>\n",
       "      <th>origin</th>\n",
       "      <th>car name</th>\n",
       "    </tr>\n",
       "  </thead>\n",
       "  <tbody>\n",
       "    <tr>\n",
       "      <th>12</th>\n",
       "      <td>15.0</td>\n",
       "      <td>8</td>\n",
       "      <td>400.0</td>\n",
       "      <td>150</td>\n",
       "      <td>3761</td>\n",
       "      <td>9.5</td>\n",
       "      <td>70</td>\n",
       "      <td>1</td>\n",
       "      <td>chevrolet monte carlo</td>\n",
       "    </tr>\n",
       "    <tr>\n",
       "      <th>195</th>\n",
       "      <td>29.0</td>\n",
       "      <td>4</td>\n",
       "      <td>90.0</td>\n",
       "      <td>70</td>\n",
       "      <td>1937</td>\n",
       "      <td>14.2</td>\n",
       "      <td>76</td>\n",
       "      <td>2</td>\n",
       "      <td>vw rabbit</td>\n",
       "    </tr>\n",
       "    <tr>\n",
       "      <th>287</th>\n",
       "      <td>16.9</td>\n",
       "      <td>8</td>\n",
       "      <td>350.0</td>\n",
       "      <td>155</td>\n",
       "      <td>4360</td>\n",
       "      <td>14.9</td>\n",
       "      <td>79</td>\n",
       "      <td>1</td>\n",
       "      <td>buick estate wagon (sw)</td>\n",
       "    </tr>\n",
       "    <tr>\n",
       "      <th>143</th>\n",
       "      <td>32.0</td>\n",
       "      <td>4</td>\n",
       "      <td>83.0</td>\n",
       "      <td>61</td>\n",
       "      <td>2003</td>\n",
       "      <td>19.0</td>\n",
       "      <td>74</td>\n",
       "      <td>3</td>\n",
       "      <td>datsun 710</td>\n",
       "    </tr>\n",
       "    <tr>\n",
       "      <th>383</th>\n",
       "      <td>22.0</td>\n",
       "      <td>6</td>\n",
       "      <td>232.0</td>\n",
       "      <td>112</td>\n",
       "      <td>2835</td>\n",
       "      <td>14.7</td>\n",
       "      <td>82</td>\n",
       "      <td>1</td>\n",
       "      <td>ford granada l</td>\n",
       "    </tr>\n",
       "  </tbody>\n",
       "</table>\n",
       "</div>"
      ],
      "text/plain": [
       "      mpg  cylinders  displacement  horsepower  weight  acceleration  \\\n",
       "12   15.0          8         400.0         150    3761           9.5   \n",
       "195  29.0          4          90.0          70    1937          14.2   \n",
       "287  16.9          8         350.0         155    4360          14.9   \n",
       "143  32.0          4          83.0          61    2003          19.0   \n",
       "383  22.0          6         232.0         112    2835          14.7   \n",
       "\n",
       "     model year  origin                 car name  \n",
       "12           70       1    chevrolet monte carlo  \n",
       "195          76       2                vw rabbit  \n",
       "287          79       1  buick estate wagon (sw)  \n",
       "143          74       3               datsun 710  \n",
       "383          82       1           ford granada l  "
      ]
     },
<<<<<<< HEAD
     "execution_count": 20,
=======
     "execution_count": 8,
>>>>>>> b204d8340b7f65f14dde69036476744e881deb25
     "metadata": {},
     "output_type": "execute_result"
    }
   ],
   "source": [
    "sample2.head()"
   ]
  },
  {
   "cell_type": "code",
<<<<<<< HEAD
   "execution_count": 26,
   "metadata": {},
   "outputs": [
    {
     "data": {
      "text/plain": [
       "21.200000000000003"
      ]
     },
     "execution_count": 26,
     "metadata": {},
     "output_type": "execute_result"
    }
   ],
   "source": [
    "sample2['mpg'].mean()"
   ]
  },
  {
   "cell_type": "code",
   "execution_count": 24,
   "metadata": {},
   "outputs": [
    {
     "data": {
      "text/plain": [
       "24.146666666666665"
      ]
     },
     "execution_count": 24,
     "metadata": {},
     "output_type": "execute_result"
    }
   ],
   "source": [
    "sample['mpg'].mean()"
   ]
  },
  {
   "cell_type": "code",
   "execution_count": 28,
   "metadata": {},
   "outputs": [
    {
     "data": {
      "text/plain": [
       "9.922274952342587"
      ]
     },
     "execution_count": 28,
     "metadata": {},
     "output_type": "execute_result"
    }
   ],
   "source": [
    "sample.mpg.std()"
   ]
  },
  {
   "cell_type": "code",
   "execution_count": 29,
   "metadata": {},
   "outputs": [
    {
     "data": {
      "text/plain": [
       "6.561696584646803"
      ]
     },
     "execution_count": 29,
     "metadata": {},
     "output_type": "execute_result"
    }
   ],
   "source": [
    "sample2.mpg.std()"
   ]
  },
  {
   "cell_type": "code",
   "execution_count": null,
=======
   "execution_count": 15,
>>>>>>> b204d8340b7f65f14dde69036476744e881deb25
   "metadata": {},
   "outputs": [],
   "source": []
  },
  {
   "cell_type": "code",
   "execution_count": 18,
   "metadata": {},
   "outputs": [],
   "source": [
    "# %load -r 24-30 supplement.py\n",
    "x1_bar = sample.mpg.mean()\n",
    "\n",
    "x2_bar = sample2.mpg.mean()\n",
    "\n",
    "s1_bar = sample.mpg.std()\n",
    "\n",
    "s2_bar = sample2.mpg.std()"
   ]
  },
  {
   "cell_type": "markdown",
   "metadata": {},
   "source": [
    "Here let's print them"
   ]
  },
  {
   "cell_type": "code",
<<<<<<< HEAD
   "execution_count": 19,
=======
   "execution_count": 16,
>>>>>>> b204d8340b7f65f14dde69036476744e881deb25
   "metadata": {},
   "outputs": [
    {
     "name": "stdout",
     "output_type": "stream",
     "text": [
      "Sampling mean for the first sample: 24.146666666666665 \n",
      "        \n",
      "Sampling Standard Deviation for the first sample: 9.922274952342587\n",
      "\n",
      "Sampling mean for the second sample: 21.200000000000003 \n",
      "        \n",
      "Sampling Standard Deviation for the second sample: 6.561696584646803\n",
      "\n"
     ]
    }
   ],
   "source": [
    "print(\"\"\"Sampling mean for the first sample: {} \n",
    "        \\nSampling Standard Deviation for the first sample: {}\\n\"\"\".format(x1_bar, s1_bar))\n",
    "\n",
    "print(\"\"\"Sampling mean for the second sample: {} \n",
    "        \\nSampling Standard Deviation for the second sample: {}\\n\"\"\".format(x2_bar, s2_bar))"
   ]
  },
  {
   "cell_type": "markdown",
   "metadata": {},
   "source": [
    "Let's load the original data. In this case, we will consider this data as \"population\""
   ]
  },
  {
   "cell_type": "code",
<<<<<<< HEAD
   "execution_count": 34,
=======
   "execution_count": 19,
>>>>>>> b204d8340b7f65f14dde69036476744e881deb25
   "metadata": {},
   "outputs": [],
   "source": [
    "# %load -r 32-35 supplement.py\n",
    "auto = pd.read_csv('data/auto-mpg.csv')\n",
    "mu = auto.mpg.mean()\n",
    "sigma = auto.mpg.std()"
<<<<<<< HEAD
=======
   ]
  },
  {
   "cell_type": "code",
   "execution_count": 22,
   "metadata": {},
   "outputs": [
    {
     "data": {
      "text/plain": [
       "(392, 9)"
      ]
     },
     "execution_count": 22,
     "metadata": {},
     "output_type": "execute_result"
    }
   ],
   "source": [
    "auto.shape"
>>>>>>> b204d8340b7f65f14dde69036476744e881deb25
   ]
  },
  {
   "cell_type": "markdown",
   "metadata": {},
   "source": [
    "Here print population parameters $\\mu$ and $\\sigma$"
   ]
  },
  {
   "cell_type": "code",
<<<<<<< HEAD
   "execution_count": 35,
=======
   "execution_count": 20,
>>>>>>> b204d8340b7f65f14dde69036476744e881deb25
   "metadata": {},
   "outputs": [
    {
     "name": "stdout",
     "output_type": "stream",
     "text": [
      "Population mean is 23.44591836734694 \n",
      "        \n",
      "Population standard deviation is 7.805007486571799\n",
      "\n"
     ]
    }
   ],
   "source": [
    "print(\"\"\"Population mean is {} \n",
    "        \\nPopulation standard deviation is {}\\n\"\"\".format(mu, sigma))\n",
    "\n"
   ]
  },
  {
   "cell_type": "code",
   "execution_count": 50,
   "metadata": {},
   "outputs": [],
   "source": [
    "# to do this a 1000 times\n",
    "\n",
    "sample_means = []\n",
    "for i in range(1000):\n",
    "    mean = auto.sample(30).mpg.mean\n",
    "    sample_means.append(mean)\n",
    "    "
   ]
  },
  {
   "cell_type": "code",
   "execution_count": 52,
   "metadata": {},
   "outputs": [
    {
     "data": {
      "text/plain": [
       "1000"
      ]
     },
     "execution_count": 52,
     "metadata": {},
     "output_type": "execute_result"
    }
   ],
   "source": [
    "len(sample_means)"
   ]
  },
  {
   "cell_type": "code",
   "execution_count": 53,
   "metadata": {},
   "outputs": [],
   "source": [
    "sample_means = [auto.sample(n=30).mpg.mean() for x in range(1000)]"
   ]
  },
  {
   "cell_type": "code",
   "execution_count": 54,
   "metadata": {},
   "outputs": [],
   "source": [
    "import matplotlib.pyplot as plt"
   ]
  },
  {
   "cell_type": "code",
   "execution_count": 58,
   "metadata": {},
   "outputs": [
    {
     "data": {
      "image/png": "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\n",
      "text/plain": [
       "<Figure size 432x288 with 1 Axes>"
      ]
     },
     "metadata": {},
     "output_type": "display_data"
    }
   ],
   "source": [
    "plt.hist(sample_means)\n",
    "plt.style.use('fivethirtyeight')"
   ]
  },
  {
   "cell_type": "code",
   "execution_count": null,
   "metadata": {},
   "outputs": [],
   "source": []
  },
  {
   "cell_type": "markdown",
   "metadata": {},
   "source": [
    "The difference between the sample mean and the population mean is known as the **Sampling Error**.  \n",
    "\n",
    ">When using the sample mean to estimate the population mean, some possible error will be involved since random sample means are also random.\n",
    "\n",
    "### It's your turn again :)\n",
    "\n",
    "Repeat the sampling process you did above 1000 times and plot the result."
   ]
  },
  {
   "cell_type": "code",
<<<<<<< HEAD
   "execution_count": 59,
=======
   "execution_count": 30,
>>>>>>> b204d8340b7f65f14dde69036476744e881deb25
   "metadata": {},
   "outputs": [],
   "source": [
    "import matplotlib.pyplot as plt\n",
    "plt.style.use('fivethirtyeight')\n",
    "\n",
    "%matplotlib inline"
   ]
  },
  {
   "cell_type": "code",
<<<<<<< HEAD
   "execution_count": 61,
=======
   "execution_count": 23,
   "metadata": {},
   "outputs": [],
   "source": [
    "sample_means = []\n",
    "\n",
    "\n",
    "for i in range(1000):\n",
    "    mean = auto.sample(n=30).mpg.mean()\n",
    "    sample_means.append(mean)"
   ]
  },
  {
   "cell_type": "code",
   "execution_count": 27,
>>>>>>> b204d8340b7f65f14dde69036476744e881deb25
   "metadata": {},
   "outputs": [
    {
     "data": {
      "image/png": "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\n",
      "text/plain": [
       "<Figure size 432x288 with 1 Axes>"
      ]
     },
     "metadata": {
      "needs_background": "light"
     },
     "output_type": "display_data"
    }
   ],
   "source": [
<<<<<<< HEAD
    "# %load -r 9-22 supplement.py\n",
    "# taking repeating samples from auto dataset\n",
    "thousand_rand_samp = [auto.sample(n = 20).mpg.mean() for i in range(1000)]\n",
    "\n",
    "bars = plt.hist(thousand_rand_samp)\n",
    "\n",
    "plt.vlines(x = mu, ymin= 0,\n",
    "           ymax = bars[0].max() +1,\n",
    "           color = 'r', label = 'pop mean')\n",
    "plt.xticks(range(17,29))\n",
    "plt.xlabel('sample_means')\n",
    "plt.ylabel('frequencies of sample means')\n",
    "\n",
    "plt.legend()\n",
    "plt.show()"
=======
    "sample_means2 = [auto.sample(n=30).mpg.mean() for i in range(1000)]"
   ]
  },
  {
   "cell_type": "code",
   "execution_count": 28,
   "metadata": {},
   "outputs": [
    {
     "data": {
      "text/plain": [
       "1000"
      ]
     },
     "execution_count": 28,
     "metadata": {},
     "output_type": "execute_result"
    }
   ],
   "source": [
    "len(sample_means2)"
>>>>>>> b204d8340b7f65f14dde69036476744e881deb25
   ]
  },
  {
   "cell_type": "code",
   "execution_count": null,
   "metadata": {},
   "outputs": [],
   "source": []
  },
  {
   "cell_type": "code",
   "execution_count": 32,
   "metadata": {},
   "outputs": [],
   "source": [
    "import matplotlib.pyplot as plt\n",
    "plt.style.use('fivethirtyeight')\n",
    "\n",
    "%matplotlib inline"
   ]
  },
  {
   "cell_type": "code",
   "execution_count": 34,
   "metadata": {},
   "outputs": [
    {
     "data": {
      "text/plain": [
       "(array([  4.,  18.,  64., 122., 189., 220., 190., 112.,  66.,  15.]),\n",
       " array([19.25666667, 20.01666667, 20.77666667, 21.53666667, 22.29666667,\n",
       "        23.05666667, 23.81666667, 24.57666667, 25.33666667, 26.09666667,\n",
       "        26.85666667]),\n",
       " <a list of 10 Patch objects>)"
      ]
     },
     "execution_count": 34,
     "metadata": {},
     "output_type": "execute_result"
    },
    {
     "data": {
      "image/png": "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\n",
      "text/plain": [
       "<Figure size 432x288 with 1 Axes>"
      ]
     },
     "metadata": {
      "needs_background": "light"
     },
     "output_type": "display_data"
    }
   ],
   "source": [
    "plt.hist(sample_means)"
   ]
  },
  {
   "cell_type": "code",
   "execution_count": 38,
   "metadata": {},
   "outputs": [
    {
     "data": {
      "image/png": "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\n",
      "text/plain": [
       "<Figure size 432x288 with 1 Axes>"
      ]
     },
     "metadata": {
      "needs_background": "light"
     },
     "output_type": "display_data"
    }
   ],
   "source": [
    "# %load -r 9-22 supplement.py\n",
    "# taking repeating samples from auto dataset\n",
    "thousand_rand_samp = [auto.sample(n = 2).mpg.mean() for i in range(1000)]\n",
    "\n",
    "bars = plt.hist(thousand_rand_samp)\n",
    "\n",
    "plt.vlines(x = mu, ymin= 0,\n",
    "           ymax = bars[0].max() +1,\n",
    "           color = 'r', label = 'pop mean')\n",
    "plt.xticks(range(17,29))\n",
    "plt.xlabel('sample_means')\n",
    "plt.ylabel('frequencies of sample means')\n",
    "\n",
    "plt.legend()\n",
    "plt.show()"
   ]
  },
  {
   "cell_type": "code",
<<<<<<< HEAD
   "execution_count": 64,
   "metadata": {},
   "outputs": [],
   "source": [
    "import math\n"
=======
   "execution_count": 42,
   "metadata": {},
   "outputs": [
    {
     "data": {
      "image/png": "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\n",
      "text/plain": [
       "<Figure size 432x288 with 1 Axes>"
      ]
     },
     "metadata": {
      "needs_background": "light"
     },
     "output_type": "display_data"
    }
   ],
   "source": [
    "thousand_rand_samp = [auto.sample(n = 30).mpg.mean() for i in range(1000)]\n",
    "\n",
    "bars = plt.hist(thousand_rand_samp)\n",
    "\n",
    "plt.vlines(x = mu, ymin= 0,\n",
    "           ymax = bars[0].max() +1,\n",
    "           color = 'r', label = 'pop mean')\n",
    "plt.xticks(range(17,29))\n",
    "plt.xlabel('sample_means')\n",
    "plt.ylabel('frequencies of sample means')\n",
    "\n",
    "plt.legend()\n",
    "plt.show()"
>>>>>>> b204d8340b7f65f14dde69036476744e881deb25
   ]
  },
  {
   "cell_type": "code",
<<<<<<< HEAD
   "execution_count": 68,
=======
   "execution_count": 41,
>>>>>>> b204d8340b7f65f14dde69036476744e881deb25
   "metadata": {},
   "outputs": [
    {
     "data": {
      "text/plain": [
       "1.424992887297358"
      ]
     },
<<<<<<< HEAD
     "execution_count": 68,
=======
     "execution_count": 41,
>>>>>>> b204d8340b7f65f14dde69036476744e881deb25
     "metadata": {},
     "output_type": "execute_result"
    }
   ],
   "source": [
    "sigma = auto.mpg.std()\n",
<<<<<<< HEAD
    "standard_error = sigma/(np.sqrt(30))\n",
=======
    "\n",
    "\n",
    "standard_error = sigma/ (np.sqrt(30))\n",
>>>>>>> b204d8340b7f65f14dde69036476744e881deb25
    "\n",
    "standard_error"
   ]
  },
  {
   "cell_type": "code",
<<<<<<< HEAD
   "execution_count": 69,
=======
   "execution_count": 43,
   "metadata": {},
   "outputs": [],
   "source": [
    "confidence_interval_lower = sample.mpg.mean() - 2*standard_error\n",
    "\n",
    "confidence_interval_upper = sample.mpg.mean() + 2*standard_error"
   ]
  },
  {
   "cell_type": "code",
   "execution_count": 44,
>>>>>>> b204d8340b7f65f14dde69036476744e881deb25
   "metadata": {},
   "outputs": [
    {
     "data": {
      "text/plain": [
       "21.296680892071947"
      ]
     },
<<<<<<< HEAD
     "execution_count": 69,
=======
     "execution_count": 44,
>>>>>>> b204d8340b7f65f14dde69036476744e881deb25
     "metadata": {},
     "output_type": "execute_result"
    }
   ],
   "source": [
<<<<<<< HEAD
    "confidence_interval_lower = sample.mpg.mean()-2*standard_error\n",
=======
>>>>>>> b204d8340b7f65f14dde69036476744e881deb25
    "confidence_interval_lower"
   ]
  },
  {
   "cell_type": "code",
<<<<<<< HEAD
   "execution_count": 70,
=======
   "execution_count": 45,
>>>>>>> b204d8340b7f65f14dde69036476744e881deb25
   "metadata": {},
   "outputs": [
    {
     "data": {
      "text/plain": [
       "26.996652441261382"
      ]
     },
<<<<<<< HEAD
     "execution_count": 70,
=======
     "execution_count": 45,
>>>>>>> b204d8340b7f65f14dde69036476744e881deb25
     "metadata": {},
     "output_type": "execute_result"
    }
   ],
   "source": [
<<<<<<< HEAD
    "confidence_interval_upper = sample.mpg.mean()+ 2* standard_error\n",
=======
>>>>>>> b204d8340b7f65f14dde69036476744e881deb25
    "confidence_interval_upper"
   ]
  },
  {
   "cell_type": "code",
<<<<<<< HEAD
   "execution_count": 71,
=======
   "execution_count": 47,
   "metadata": {},
   "outputs": [],
   "source": [
    "confidence_interval_lower_2 = sample2.mpg.mean() - 2*standard_error\n",
    "\n",
    "confidence_interval_upper_2 = sample2.mpg.mean() + 2*standard_error"
   ]
  },
  {
   "cell_type": "code",
   "execution_count": 51,
   "metadata": {},
   "outputs": [],
   "source": [
    "sample3 = auto.sample(n=30)\n",
    "\n",
    "confidence_interval_lower_3 = sample3.mpg.mean() - 2*standard_error\n",
    "\n",
    "confidence_interval_upper_3 = sample3.mpg.mean() + 2*standard_error"
   ]
  },
  {
   "cell_type": "code",
   "execution_count": 52,
>>>>>>> b204d8340b7f65f14dde69036476744e881deb25
   "metadata": {},
   "outputs": [
    {
     "data": {
      "text/plain": [
<<<<<<< HEAD
       "23.44591836734694"
      ]
     },
     "execution_count": 71,
=======
       "19.32001422540528"
      ]
     },
     "execution_count": 52,
>>>>>>> b204d8340b7f65f14dde69036476744e881deb25
     "metadata": {},
     "output_type": "execute_result"
    }
   ],
   "source": [
<<<<<<< HEAD
    "auto.mpg.mean()"
=======
    "confidence_interval_lower_3"
>>>>>>> b204d8340b7f65f14dde69036476744e881deb25
   ]
  },
  {
   "cell_type": "code",
<<<<<<< HEAD
   "execution_count": null,
   "metadata": {},
   "outputs": [],
   "source": []
=======
   "execution_count": 53,
   "metadata": {},
   "outputs": [
    {
     "data": {
      "text/plain": [
       "25.019985774594716"
      ]
     },
     "execution_count": 53,
     "metadata": {},
     "output_type": "execute_result"
    }
   ],
   "source": [
    "confidence_interval_upper_3"
   ]
  },
  {
   "cell_type": "code",
   "execution_count": 46,
   "metadata": {},
   "outputs": [
    {
     "data": {
      "text/plain": [
       "23.44591836734694"
      ]
     },
     "execution_count": 46,
     "metadata": {},
     "output_type": "execute_result"
    }
   ],
   "source": [
    "auto.mpg.mean()"
   ]
>>>>>>> b204d8340b7f65f14dde69036476744e881deb25
  },
  {
   "cell_type": "markdown",
   "metadata": {},
   "source": [
    "# Central Limit Theorem\n",
    "\n",
    "The Central Limit Theorem states: \n",
    ">When you add **a large number** of independent random variables, irrespective of the original distribution of these variables, **their sampling mean distribution tends towards a normal distribution** with mean equals to the mean of the original population and the standard deviation equals to $\\frac{\\sigma}{\\sqrt{n}}$.\n",
    "\n",
    "\n",
    "\n",
    "\n",
    "\n",
    "The standard error of the mean is the standard deviation of the sampling distribution.\n",
    "The issue is that a sample is not an exact replica of the population. We need to account for the fact that in order to make our estimate of the $\\mu$ value possible. Let's break it down:\n",
    "\n",
    "## Standard Error\n",
    "\n",
    "$$\\sigma _{\\bar{X}} = \\frac{\\sigma }{\\sqrt{n}}$$\n",
    "\n",
    "* $ \\sigma _{x}$ = standard error of $\\bar{x} $\n",
    "* $ \\sigma $ = standard deviation of population\n",
    "\n",
    "\n",
    "**What if we do not know the population sigma?**<br>\n",
    "If we do not know the population standard deviation, we can approximate for it by used the sample standard deviation.\n",
    "\n",
    "$\\sigma _{x} ≈ \\frac{s}{\\sqrt{n}}$\n",
    "\n",
    "* s = sample standard deviation\n",
    "\n",
    "But in this case, distribution shape is not 'normal' anymore. In this case the shape will be call 'T-distribution'. We will study this later in more details.\n",
    "\n",
    "\n",
    "**Sample size impact on standard error of mean**<br>\n",
    "\n",
    "Q: How should sample size influence standard error of the mean?\n",
    "\n",
    "\n",
    "![error](./img/diminishing_error.png)\n",
    "Important implication: The Standard Error of the mean remains the same as long as the population standard deviation is known and sample size remains the same.\n",
    "\n",
    "\n",
    "__Note-1__ In the case of finite sampling, we need to adjust the formula for standard error:\n",
    "\n",
    "<img src=\"img/standard_deviation_of_x_bar.png\" width=\"650\">\n",
    "\n",
    "\n",
    "__Note-2__ Note that in CLT the shape of initial distribution is not important! With enough sample size we can always achieve a distribution very close to normal one.\n",
    "\n",
    "<img src=\"img/clt_with_different.png\" width=\"650\">\n",
    "\n",
    "\n",
    "## Interval Estimation - Confidence Intervals\n",
    "\n",
    "Q: Let's assume that we have a sample of size=49 and we know the standard deviation of the population is $\\sigma = 5$. If we know that sampling mean is $\\bar{x} = 20$. What might be a good estimate for the population mean if we also know that the population mean is bigger than 20?\n",
    "\n",
    "Hint: What do we mean by 'a good estimate'?"
   ]
  },
  {
   "cell_type": "markdown",
   "metadata": {},
   "source": [
    "[Z-scores](https://www.mathsisfun.com/data/standard-normal-distribution-table.html)\n",
    "\n",
    "<img src=\"img/interval_estimation.png\" width=\"650\">"
   ]
  },
  {
   "cell_type": "code",
<<<<<<< HEAD
   "execution_count": 73,
   "metadata": {},
   "outputs": [],
   "source": [
    "n = 49\n",
    "pop_std = 5\n",
    "sample_mean = 20\n",
    "\n"
=======
   "execution_count": 54,
   "metadata": {},
   "outputs": [],
   "source": [
    "import scipy.stats as stats\n"
>>>>>>> b204d8340b7f65f14dde69036476744e881deb25
   ]
  },
  {
   "cell_type": "code",
<<<<<<< HEAD
   "execution_count": 75,
   "metadata": {},
   "outputs": [
    {
     "data": {
      "text/plain": [
       "0.7142857142857143"
      ]
     },
     "execution_count": 75,
     "metadata": {},
     "output_type": "execute_result"
    }
   ],
   "source": [
    "\n",
    "standard_error = pop_std/(np.sqrt(49))\n",
    "\n",
    "standard_error"
   ]
  },
  {
   "cell_type": "code",
   "execution_count": 80,
   "metadata": {},
   "outputs": [
    {
     "data": {
      "text/plain": [
       "21.428571428571427"
      ]
     },
     "execution_count": 80,
     "metadata": {},
     "output_type": "execute_result"
    }
   ],
   "source": [
    "confidence_interval_upper = sample_mean+2*standard_error\n",
    "confidence_interval_upper"
   ]
  },
  {
   "cell_type": "code",
   "execution_count": 81,
   "metadata": {},
   "outputs": [
    {
     "data": {
      "text/plain": [
       "18.571428571428573"
      ]
     },
     "execution_count": 81,
     "metadata": {},
     "output_type": "execute_result"
    }
   ],
   "source": [
    "confidence_interval_lower = sample_mean-2*standard_error\n",
    "confidence_interval_lower"
   ]
  },
  {
   "cell_type": "code",
   "execution_count": 88,
=======
   "execution_count": 61,
>>>>>>> b204d8340b7f65f14dde69036476744e881deb25
   "metadata": {},
   "outputs": [
    {
     "data": {
      "text/plain": [
       "1.0364333894937898"
      ]
     },
<<<<<<< HEAD
     "execution_count": 88,
=======
     "execution_count": 61,
>>>>>>> b204d8340b7f65f14dde69036476744e881deb25
     "metadata": {},
     "output_type": "execute_result"
    }
   ],
   "source": [
<<<<<<< HEAD
    "import scipy.stats as stats\n",
    "\n",
=======
>>>>>>> b204d8340b7f65f14dde69036476744e881deb25
    "stats.norm.ppf(0.85)"
   ]
  },
  {
   "cell_type": "code",
   "execution_count": null,
   "metadata": {},
   "outputs": [],
   "source": [
    "import matplotlib.pyplot as plt\n",
    "import numpy as np\n",
    "import scipy.stats as stats\n",
    "import math\n",
    "%matplotlib inline\n",
    "\n",
    "\n",
    "#suppose population mu is 21\n",
    "mu = 21\n",
    "# sample mean gives us a point estimator\n",
    "point_estimator = 20\n",
    "\n",
    "# we know population variance is 49\n",
    "std_error = 5/(np.sqrt(49))\n",
    "\n",
    "\n",
    "# how much confidence do we require\n",
    "confidence = 0.95\n",
    "\n",
    "# alpha \n",
    "alpha = 1- confidence\n",
    "\n",
    "# due to symmetry we divided alpha by 2\n",
    "# note that to find z_alpha_over_2 we used \n",
    "# standard normal distribution\n",
    "\n",
    "z_alpha_over_2 = np.abs(stats.norm.ppf(alpha/2))\n",
    "\n",
    "print(z_alpha_over_2)\n",
    "\n",
    "\n",
    "# upper bound gives us a value so that\n",
    "# 2*(the area between point_estimator - upper_bound) = confidence\n",
    "\n",
    "upper_bound = point_estimator + z_alpha_over_2* std_error\n",
    "\n",
    "# now let's plot these\n",
    "\n",
    "# a normal distribution with mean=mu and std=sigma\n",
    "x = np.linspace(mu - 4*std_error, mu + 4*std_error, 100)\n",
    "plt.plot(x, stats.norm.pdf(x, mu, std_error))\n",
    "\n",
    "# a vertical line to mark point estimator\n",
    "plt.vlines(point_estimator, ymin=0,\n",
    "           ymax = stats.norm.pdf(point_estimator, mu, std_error))\n",
    "\n",
    "# a vertical line for population mu\n",
    "plt.vlines(mu, ymin=0,\n",
    "           ymax = stats.norm.pdf(mu, mu, std_error),\n",
    "          color = 'g')\n",
    "\n",
    "# a vertical line for upper bound\n",
    "plt.vlines(upper_bound, ymin=0,\n",
    "           ymax = stats.norm.pdf(upper_bound, \n",
    "                                 mu, std_error))\n",
    "\n",
    "\n",
    "# fill the area between upper_bound and point_estimator\n",
    "plt.fill_between(x= np.linspace(point_estimator, upper_bound, 100), \n",
    "                 y1= stats.norm.pdf(np.linspace(point_estimator,\n",
    "                                                upper_bound, 100), mu, std_error) ,\n",
    "                 facecolor='blue',\n",
    "                 alpha=0.35, \n",
    "                 label= 'btwn point estimator and\\n upper bound')\n",
    "\n",
    "# fill the area between point estimator and the left of it\n",
    "plt.fill_between(x= np.linspace(mu - 4*std_error, point_estimator, 100), \n",
    "                 y1= stats.norm.pdf(np.linspace(mu - 4*std_error, point_estimator,100), mu, std_error) ,\n",
    "                 facecolor='red',\n",
    "                 alpha=0.35, \n",
    "                 label= 'red area %.3f'%(stats.norm.cdf(point_estimator, mu, std_error)))\n",
    "\n",
    "plt.legend(loc = 'upper right')\n",
    "plt.show()"
   ]
  },
  {
   "cell_type": "markdown",
   "metadata": {},
   "source": [
    "\n"
   ]
  },
  {
   "cell_type": "markdown",
   "metadata": {},
   "source": [
    "# Hypothesis Testing \n",
    "\n",
    "## The Analytical Question \n",
    "\n",
    "A data scientist wants to examine if there is an effect on IQ scores when using tutors. To analyze this, she conducts IQ tests on a sample of 40 students, and wants to compare her students' IQ to the general population IQ. The way an IQ score is structured, we know that a standardized IQ test has a mean of 100, and a standard deviation of 16. When she tests her group of students, however, she gets an average IQ of 103. Based on this finding, does tutoring make a difference?\n",
    "\n",
    "## Step 1: State Your Hypotheses\n",
    "\n",
    "### The Alternative Hypothesis ($H_a$)\n",
    "\n",
    "The alternative hypothesis always reflects the idea or theory that needs to be tested. For this problem, you want to test if the tutoring has resulted in a significant increase in student IQ. So, you would write it down as:\n",
    "\n",
    "> The sample mean is **significantly** bigger than the population mean\n",
    "\n",
    "Again, significance is key here. If we denote sample mean as $\\bar{x}$, and population mean as mu ($\\mu$), you can write the alternative hypothesis as:\n",
    "\n",
    "$$\\large H_a\\text{:   }\\mu < \\bar{x}$$\n",
    "\n",
    "The alternative hypothesis here is that $\\mu$ is less than $M$. In other situations, you could check for both possibilities of $\\mu$ being smaller OR bigger than by checking  $\\mu \\neq M$. \n",
    "\n",
    "Maybe the tutoring results as a lower IQ... Who knows!\n",
    "\n",
    "For now, you'll just check for the **significant increase**, for now, to keep the process simple.\n",
    "\n",
    "### The Null Hypothesis ($H_0$)\n",
    "\n",
    "For a one-sample z-test, you define your null hypothesis as there being **no significant difference** between specified sample and population. This means that under the null hypothesis, you assume that any observed (generally small) difference may be present due to sampling or experimental error. Considering this, for this problem, you can define a null hypothesis ($H_0$) as:\n",
    "\n",
    "> There is **no significant difference** between the sample mean and population mean \n",
    "\n",
    "Remember the emphasis is on a _significant_ difference, rather than just any difference as a natural result of taking samples.\n",
    "\n",
    "Denoting the sample mean as $M$, and the population mean as mu ($\\mu$), you can write the null hypothesis as:\n",
    "\n",
    "$$\\large H_0\\text{:   }\\mu \\geq \\bar{x}$$\n",
    "\n",
    "\n",
    "## Step 2: Specify a Significance Level (alpha)\n",
    "\n",
    "Now that your hypotheses are in place, you have to decide on your significance level alpha ($\\alpha$) as a cut-off value to define whether you can reject your null hypothesis or not.\n",
    "\n",
    "As discussed previously, often, $\\alpha$ is set to 0.05, which also has as a side-effect that there is a 5 percent chance that you will reject the null hypothesis when it is true.\n",
    "Later, you'll see that using alpha, you'll formulate your test result as: \"with a confidence level of 95%, we can state that...\". For a z-distribution, this can be shown as below:\n",
    "\n",
    "<img src=\"img/hypothesis_test.png\" width=670>\n",
    "\n",
    "\n",
    "If you test both sides of the distribution ($\\mu \\neq \\bar{x}$, when $\\mu$ can either be smaller OR bigger), you need to perform a 2-tail test to see if tutoring lowers OR highers the IQ of students.\n",
    "\n",
    "Each red region would be calculated as $\\dfrac{\\alpha}{2}$. When testing of a single side (as in the example) i.e. just higher OR just lower, you can use a one-tail test as shown in the first and second images. The $\\alpha$ value we use is 0.05 or $5\\%$.\n",
    "\n",
    "## Step 3: Calculate the test statistic\n",
    "\n",
    "For z-tests, a z-statistic is used as our test statistic. You'll see other statistics suitable for other tests later. A one-sample z-statistic is calculated as:\n",
    "\n",
    "$$ \\large \\text{z-statistic} = \\dfrac{\\bar x - \\mu_0}{{\\sigma}/{\\sqrt{n}}} $$\n",
    "\n",
    "This formula slightly differs from the standard score formula. It includes the square square root of n to reflect that we are dealing with the sample variance here. \n",
    "\n",
    "Now, all you need to do is use this formula given your sample mean $\\bar x$, the population standard deviation $\\sigma$, and the number of items in the sample ($n$). $\\mu_0$ is the mean you're testing the hypothesis for, or the \"hypothesized mean\". \n",
    "\n",
    "Let's use Python to calculate this. "
   ]
  },
  {
   "cell_type": "code",
   "execution_count": null,
   "metadata": {},
   "outputs": [],
   "source": []
  }
 ],
 "metadata": {
  "kernelspec": {
   "display_name": "Python 3",
   "language": "python",
   "name": "python3"
  },
  "language_info": {
   "codemirror_mode": {
    "name": "ipython",
    "version": 3
   },
   "file_extension": ".py",
   "mimetype": "text/x-python",
   "name": "python",
   "nbconvert_exporter": "python",
   "pygments_lexer": "ipython3",
   "version": "3.7.4"
  },
  "toc": {
   "base_numbering": 1,
   "nav_menu": {},
   "number_sections": true,
   "sideBar": true,
   "skip_h1_title": false,
   "title_cell": "Table of Contents",
   "title_sidebar": "Contents",
   "toc_cell": false,
   "toc_position": {},
   "toc_section_display": true,
   "toc_window_display": false
  }
 },
 "nbformat": 4,
 "nbformat_minor": 2
}
