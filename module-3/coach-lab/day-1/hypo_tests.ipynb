{
 "cells": [
  {
   "cell_type": "markdown",
   "metadata": {},
   "source": [
    "# Northwind database\n",
    "##### Jonathan Tyler\n",
    "\n",
    "Northwind is a company that sells specialty foods. \n",
    "\n",
    "I was given a mandate to  \"__do something with this database__\" as my first project as a new hire. \n",
    "\n",
    "I was able to find a entity-relation diagram for the database but not much else. So to break down this task:\n",
    "1. First I am going to have to explore the database myself to see the basic metrics of the company.\n",
    "2. Then I will use this basic data to formulate some hypotheses concerning some underlying trends.\n",
    "3. Finally I will attempt to test out these ideas to prove myself right or wrong."
   ]
  },
  {
   "cell_type": "markdown",
   "metadata": {},
   "source": [
    "## EDA"
   ]
  },
  {
   "cell_type": "code",
   "execution_count": 1,
   "metadata": {},
   "outputs": [],
   "source": [
    "import matplotlib.pyplot as plt\n",
    "import numpy as np\n",
    "import pandas as pd\n",
    "import seaborn as sns\n",
    "\n",
    "import sqlalchemy\n",
    "from sqlalchemy import create_engine, inspect\n",
    "from sqlalchemy.orm import Session, sessionmaker\n",
    "\n",
    "#import statsmodels.api as sm\n",
    "#from statsmodels.formula.api import ols\n",
    "#from statsmodels.stats.multicomp import pairwise_tukeyhsd\n",
    "#from statsmodels.stats.multicomp import MultiComparison\n",
    "\n",
    "from scipy.stats import ttest_1samp, ttest_ind\n",
    "from scipy.stats import levene, shapiro, mannwhitneyu, kruskal\n",
    "\n",
    "plt.style.use('ggplot')"
   ]
  },
  {
   "cell_type": "markdown",
   "metadata": {},
   "source": [
    "Connecting the database enable to start looking at the data. I plan to compare the ERD to the database and get basic metric from the tables."
   ]
  },
  {
   "cell_type": "code",
<<<<<<< HEAD
   "execution_count": 2,
=======
   "execution_count": 4,
>>>>>>> 04766fb820eca212a3d7937313ba7748d4fc895c
   "metadata": {},
   "outputs": [
    {
     "name": "stdout",
     "output_type": "stream",
     "text": [
<<<<<<< HEAD
      "2020-02-10 11:07:42,734 INFO sqlalchemy.engine.base.Engine SELECT CAST('test plain returns' AS VARCHAR(60)) AS anon_1\n",
      "2020-02-10 11:07:42,735 INFO sqlalchemy.engine.base.Engine ()\n",
      "2020-02-10 11:07:42,738 INFO sqlalchemy.engine.base.Engine SELECT CAST('test unicode returns' AS VARCHAR(60)) AS anon_1\n",
      "2020-02-10 11:07:42,739 INFO sqlalchemy.engine.base.Engine ()\n",
      "2020-02-10 11:07:42,744 INFO sqlalchemy.engine.base.Engine SELECT name FROM sqlite_master WHERE type='table' ORDER BY name\n",
      "2020-02-10 11:07:42,745 INFO sqlalchemy.engine.base.Engine ()\n"
=======
      "2020-02-10 11:11:05,475 INFO sqlalchemy.engine.base.Engine SELECT CAST('test plain returns' AS VARCHAR(60)) AS anon_1\n",
      "2020-02-10 11:11:05,476 INFO sqlalchemy.engine.base.Engine ()\n",
      "2020-02-10 11:11:05,477 INFO sqlalchemy.engine.base.Engine SELECT CAST('test unicode returns' AS VARCHAR(60)) AS anon_1\n",
      "2020-02-10 11:11:05,478 INFO sqlalchemy.engine.base.Engine ()\n",
      "2020-02-10 11:11:05,479 INFO sqlalchemy.engine.base.Engine SELECT name FROM sqlite_master WHERE type='table' ORDER BY name\n",
      "2020-02-10 11:11:05,480 INFO sqlalchemy.engine.base.Engine ()\n"
>>>>>>> 04766fb820eca212a3d7937313ba7748d4fc895c
     ]
    },
    {
     "data": {
      "text/plain": [
       "['Category',\n",
       " 'Customer',\n",
       " 'CustomerCustomerDemo',\n",
       " 'CustomerDemographic',\n",
       " 'Employee',\n",
       " 'EmployeeTerritory',\n",
       " 'Order',\n",
       " 'OrderDetail',\n",
       " 'Product',\n",
       " 'Region',\n",
       " 'Shipper',\n",
       " 'Supplier',\n",
       " 'Territory']"
      ]
     },
<<<<<<< HEAD
     "execution_count": 2,
=======
     "execution_count": 4,
>>>>>>> 04766fb820eca212a3d7937313ba7748d4fc895c
     "metadata": {},
     "output_type": "execute_result"
    }
   ],
   "source": [
    "#engine = create_engine('sqlite:///Northwind_large.sqlite', echo=True)\n",
    "engine = create_engine('sqlite:///Northwind_small.sqlite', echo=True)\n",
    "Session = sessionmaker(bind=engine)\n",
    "session = Session()\n",
    "\n",
    "inspector = inspect(engine) #checking the ERD against the actual database\n",
    "inspector.get_table_names()"
   ]
  },
  {
   "cell_type": "markdown",
   "metadata": {},
   "source": [
    "  \n",
    "So a quick check of the different tables align with the ERD. That is good. But I should be checking out the individual tables before calling them nevertheless, it is good pratice.\n",
    "  \n",
    "Now lets start checking out a few things:\n",
    "- How much of what are we selling?\n",
    "- Who are our main suppliers?\n",
    "\n",
    "Once we know these things, we will have a broad overview of the business. From there we will investigate any abnormalities or go splunking for underlying trends.\n",
    "___\n",
    "---\n",
    "Now lets make a connection to the engine and make sure it works."
   ]
  },
  {
   "cell_type": "code",
<<<<<<< HEAD
   "execution_count": 3,
=======
   "execution_count": 5,
>>>>>>> 04766fb820eca212a3d7937313ba7748d4fc895c
   "metadata": {},
   "outputs": [],
   "source": [
    "con = engine.connect() #connecting the engine to be able to make queries"
   ]
  },
  {
   "cell_type": "code",
<<<<<<< HEAD
   "execution_count": 6,
=======
   "execution_count": 7,
>>>>>>> 04766fb820eca212a3d7937313ba7748d4fc895c
   "metadata": {},
   "outputs": [
    {
     "name": "stdout",
     "output_type": "stream",
     "text": [
<<<<<<< HEAD
      "2020-02-10 11:16:01,550 INFO sqlalchemy.engine.base.Engine SELECT * FROM [Order]\n",
      "2020-02-10 11:16:01,551 INFO sqlalchemy.engine.base.Engine ()\n"
=======
      "2020-02-10 11:15:53,710 INFO sqlalchemy.engine.base.Engine SELECT * from [Order]\n",
      "2020-02-10 11:15:53,713 INFO sqlalchemy.engine.base.Engine ()\n"
>>>>>>> 04766fb820eca212a3d7937313ba7748d4fc895c
     ]
    },
    {
     "data": {
      "text/html": [
       "<div>\n",
       "<style scoped>\n",
       "    .dataframe tbody tr th:only-of-type {\n",
       "        vertical-align: middle;\n",
       "    }\n",
       "\n",
       "    .dataframe tbody tr th {\n",
       "        vertical-align: top;\n",
       "    }\n",
       "\n",
       "    .dataframe thead th {\n",
       "        text-align: right;\n",
       "    }\n",
       "</style>\n",
       "<table border=\"1\" class=\"dataframe\">\n",
       "  <thead>\n",
       "    <tr style=\"text-align: right;\">\n",
       "      <th></th>\n",
       "      <th>Id</th>\n",
       "      <th>CustomerId</th>\n",
       "      <th>EmployeeId</th>\n",
       "      <th>OrderDate</th>\n",
       "      <th>RequiredDate</th>\n",
       "      <th>ShippedDate</th>\n",
       "      <th>ShipVia</th>\n",
       "      <th>Freight</th>\n",
       "      <th>ShipName</th>\n",
       "      <th>ShipAddress</th>\n",
       "      <th>ShipCity</th>\n",
       "      <th>ShipRegion</th>\n",
       "      <th>ShipPostalCode</th>\n",
       "      <th>ShipCountry</th>\n",
       "    </tr>\n",
       "  </thead>\n",
       "  <tbody>\n",
       "    <tr>\n",
       "      <th>0</th>\n",
       "      <td>10248</td>\n",
       "      <td>VINET</td>\n",
       "      <td>5</td>\n",
       "      <td>2012-07-04</td>\n",
       "      <td>2012-08-01</td>\n",
       "      <td>2012-07-16</td>\n",
       "      <td>3</td>\n",
       "      <td>32.38</td>\n",
       "      <td>Vins et alcools Chevalier</td>\n",
       "      <td>59 rue de l'Abbaye</td>\n",
       "      <td>Reims</td>\n",
       "      <td>Western Europe</td>\n",
       "      <td>51100</td>\n",
       "      <td>France</td>\n",
       "    </tr>\n",
       "    <tr>\n",
       "      <th>1</th>\n",
       "      <td>10249</td>\n",
       "      <td>TOMSP</td>\n",
       "      <td>6</td>\n",
       "      <td>2012-07-05</td>\n",
       "      <td>2012-08-16</td>\n",
       "      <td>2012-07-10</td>\n",
       "      <td>1</td>\n",
       "      <td>11.61</td>\n",
       "      <td>Toms Spezialitäten</td>\n",
       "      <td>Luisenstr. 48</td>\n",
       "      <td>Münster</td>\n",
       "      <td>Western Europe</td>\n",
       "      <td>44087</td>\n",
       "      <td>Germany</td>\n",
       "    </tr>\n",
       "    <tr>\n",
       "      <th>2</th>\n",
       "      <td>10250</td>\n",
       "      <td>HANAR</td>\n",
       "      <td>4</td>\n",
       "      <td>2012-07-08</td>\n",
       "      <td>2012-08-05</td>\n",
       "      <td>2012-07-12</td>\n",
       "      <td>2</td>\n",
       "      <td>65.83</td>\n",
       "      <td>Hanari Carnes</td>\n",
       "      <td>Rua do Paço, 67</td>\n",
       "      <td>Rio de Janeiro</td>\n",
       "      <td>South America</td>\n",
       "      <td>05454-876</td>\n",
       "      <td>Brazil</td>\n",
       "    </tr>\n",
       "    <tr>\n",
       "      <th>3</th>\n",
       "      <td>10251</td>\n",
       "      <td>VICTE</td>\n",
       "      <td>3</td>\n",
       "      <td>2012-07-08</td>\n",
       "      <td>2012-08-05</td>\n",
       "      <td>2012-07-15</td>\n",
       "      <td>1</td>\n",
       "      <td>41.34</td>\n",
       "      <td>Victuailles en stock</td>\n",
       "      <td>2, rue du Commerce</td>\n",
       "      <td>Lyon</td>\n",
       "      <td>Western Europe</td>\n",
       "      <td>69004</td>\n",
       "      <td>France</td>\n",
       "    </tr>\n",
       "    <tr>\n",
       "      <th>4</th>\n",
       "      <td>10252</td>\n",
       "      <td>SUPRD</td>\n",
       "      <td>4</td>\n",
       "      <td>2012-07-09</td>\n",
       "      <td>2012-08-06</td>\n",
       "      <td>2012-07-11</td>\n",
       "      <td>2</td>\n",
       "      <td>51.30</td>\n",
       "      <td>Suprêmes délices</td>\n",
       "      <td>Boulevard Tirou, 255</td>\n",
       "      <td>Charleroi</td>\n",
       "      <td>Western Europe</td>\n",
       "      <td>B-6000</td>\n",
       "      <td>Belgium</td>\n",
       "    </tr>\n",
       "  </tbody>\n",
       "</table>\n",
       "</div>"
      ],
      "text/plain": [
       "      Id CustomerId  EmployeeId   OrderDate RequiredDate ShippedDate  ShipVia  \\\n",
       "0  10248      VINET           5  2012-07-04   2012-08-01  2012-07-16        3   \n",
       "1  10249      TOMSP           6  2012-07-05   2012-08-16  2012-07-10        1   \n",
       "2  10250      HANAR           4  2012-07-08   2012-08-05  2012-07-12        2   \n",
       "3  10251      VICTE           3  2012-07-08   2012-08-05  2012-07-15        1   \n",
       "4  10252      SUPRD           4  2012-07-09   2012-08-06  2012-07-11        2   \n",
       "\n",
       "   Freight                   ShipName           ShipAddress        ShipCity  \\\n",
       "0    32.38  Vins et alcools Chevalier    59 rue de l'Abbaye           Reims   \n",
       "1    11.61         Toms Spezialitäten         Luisenstr. 48         Münster   \n",
       "2    65.83              Hanari Carnes       Rua do Paço, 67  Rio de Janeiro   \n",
       "3    41.34       Victuailles en stock    2, rue du Commerce            Lyon   \n",
       "4    51.30           Suprêmes délices  Boulevard Tirou, 255       Charleroi   \n",
       "\n",
       "       ShipRegion ShipPostalCode ShipCountry  \n",
       "0  Western Europe          51100      France  \n",
       "1  Western Europe          44087     Germany  \n",
       "2   South America      05454-876      Brazil  \n",
       "3  Western Europe          69004      France  \n",
       "4  Western Europe         B-6000     Belgium  "
      ]
     },
<<<<<<< HEAD
     "execution_count": 6,
=======
     "execution_count": 7,
>>>>>>> 04766fb820eca212a3d7937313ba7748d4fc895c
     "metadata": {},
     "output_type": "execute_result"
    }
   ],
   "source": [
<<<<<<< HEAD
    "q = '''SELECT * FROM [Order]''' #simple query get everything from [Order]\n",
=======
    "q = '''SELECT * from [Order]''' #simple query get everything from [Order]\n",
>>>>>>> 04766fb820eca212a3d7937313ba7748d4fc895c
    "df_order = pd.read_sql_query(q, engine) #puts the information from the query into a dataframe\n",
    "df_order.head()"
   ]
  },
  {
   "cell_type": "markdown",
   "metadata": {},
   "source": [
    "Fantasic, now lets start flushing out answers to those inital questions\n",
    "\n",
    "## How much of what are we selling?"
   ]
  },
  {
   "cell_type": "markdown",
   "metadata": {},
   "source": [
    "Lets check the Product table and the Order Detail table"
   ]
  },
  {
   "cell_type": "markdown",
   "metadata": {},
   "source": [
    "Looks like the table is ERD is wrong again. Some of the tables are incorrectly stated i.e. ProductID is just Id"
   ]
  },
  {
   "cell_type": "code",
<<<<<<< HEAD
   "execution_count": 7,
=======
   "execution_count": 8,
>>>>>>> 04766fb820eca212a3d7937313ba7748d4fc895c
   "metadata": {},
   "outputs": [
    {
     "name": "stdout",
     "output_type": "stream",
     "text": [
<<<<<<< HEAD
      "2020-02-10 11:21:11,541 INFO sqlalchemy.engine.base.Engine SELECT p.ProductName, c.CategoryName, SUM(o.Quantity) num_ordered FROM Product p LEFT JOIN OrderDetail o ON o.ProductId = p.Id LEFT JOIN Category c ON c.Id = p.CategoryId GROUP BY p.ProductName ORDER BY num_ordered DESC\n",
      "2020-02-10 11:21:11,543 INFO sqlalchemy.engine.base.Engine ()\n"
=======
      "2020-02-10 11:20:26,312 INFO sqlalchemy.engine.base.Engine SELECT p.ProductName, c.CategoryName, SUM(o.Quantity) num_ordered FROM Product p LEFT JOIN OrderDetail o ON o.ProductId = p.Id LEFT JOIN Category c ON c.Id = p.CategoryId GROUP BY p.ProductName ORDER BY num_ordered DESC\n",
      "2020-02-10 11:20:26,313 INFO sqlalchemy.engine.base.Engine ()\n"
>>>>>>> 04766fb820eca212a3d7937313ba7748d4fc895c
     ]
    },
    {
     "data": {
      "text/html": [
       "<div>\n",
       "<style scoped>\n",
       "    .dataframe tbody tr th:only-of-type {\n",
       "        vertical-align: middle;\n",
       "    }\n",
       "\n",
       "    .dataframe tbody tr th {\n",
       "        vertical-align: top;\n",
       "    }\n",
       "\n",
       "    .dataframe thead th {\n",
       "        text-align: right;\n",
       "    }\n",
       "</style>\n",
       "<table border=\"1\" class=\"dataframe\">\n",
       "  <thead>\n",
       "    <tr style=\"text-align: right;\">\n",
       "      <th></th>\n",
       "      <th>ProductName</th>\n",
       "      <th>CategoryName</th>\n",
       "      <th>num_ordered</th>\n",
       "    </tr>\n",
       "  </thead>\n",
       "  <tbody>\n",
       "    <tr>\n",
       "      <th>0</th>\n",
       "      <td>Camembert Pierrot</td>\n",
       "      <td>Dairy Products</td>\n",
       "      <td>1577</td>\n",
       "    </tr>\n",
       "    <tr>\n",
       "      <th>1</th>\n",
       "      <td>Raclette Courdavault</td>\n",
       "      <td>Dairy Products</td>\n",
       "      <td>1496</td>\n",
       "    </tr>\n",
       "    <tr>\n",
       "      <th>2</th>\n",
       "      <td>Gorgonzola Telino</td>\n",
       "      <td>Dairy Products</td>\n",
       "      <td>1397</td>\n",
       "    </tr>\n",
       "    <tr>\n",
       "      <th>3</th>\n",
       "      <td>Gnocchi di nonna Alice</td>\n",
       "      <td>Grains/Cereals</td>\n",
       "      <td>1263</td>\n",
       "    </tr>\n",
       "    <tr>\n",
       "      <th>4</th>\n",
       "      <td>Pavlova</td>\n",
       "      <td>Confections</td>\n",
       "      <td>1158</td>\n",
       "    </tr>\n",
       "  </tbody>\n",
       "</table>\n",
       "</div>"
      ],
      "text/plain": [
       "              ProductName    CategoryName  num_ordered\n",
       "0       Camembert Pierrot  Dairy Products         1577\n",
       "1    Raclette Courdavault  Dairy Products         1496\n",
       "2       Gorgonzola Telino  Dairy Products         1397\n",
       "3  Gnocchi di nonna Alice  Grains/Cereals         1263\n",
       "4                 Pavlova     Confections         1158"
      ]
     },
<<<<<<< HEAD
     "execution_count": 7,
=======
     "execution_count": 8,
>>>>>>> 04766fb820eca212a3d7937313ba7748d4fc895c
     "metadata": {},
     "output_type": "execute_result"
    }
   ],
   "source": [
    "q='''SELECT p.ProductName, c.CategoryName, SUM(o.Quantity) num_ordered \\\n",
    "FROM Product p \\\n",
    "LEFT JOIN OrderDetail o ON o.ProductId = p.Id \\\n",
    "LEFT JOIN Category c ON c.Id = p.CategoryId \\\n",
    "GROUP BY p.ProductName ORDER BY num_ordered DESC'''\n",
    "df1 = pd.read_sql_query(q, engine)\n",
    "df1.head()"
   ]
  },
  {
   "cell_type": "code",
<<<<<<< HEAD
   "execution_count": 8,
=======
   "execution_count": 9,
>>>>>>> 04766fb820eca212a3d7937313ba7748d4fc895c
   "metadata": {},
   "outputs": [
    {
     "data": {
      "text/plain": [
       "Confections       13\n",
<<<<<<< HEAD
       "Condiments        12\n",
       "Seafood           12\n",
       "Beverages         12\n",
=======
       "Beverages         12\n",
       "Seafood           12\n",
       "Condiments        12\n",
>>>>>>> 04766fb820eca212a3d7937313ba7748d4fc895c
       "Dairy Products    10\n",
       "Grains/Cereals     7\n",
       "Meat/Poultry       6\n",
       "Produce            5\n",
       "Name: CategoryName, dtype: int64"
      ]
     },
<<<<<<< HEAD
     "execution_count": 8,
=======
     "execution_count": 9,
>>>>>>> 04766fb820eca212a3d7937313ba7748d4fc895c
     "metadata": {},
     "output_type": "execute_result"
    }
   ],
   "source": [
    "#value_counts of the categories\n",
<<<<<<< HEAD
    "\n",
=======
>>>>>>> 04766fb820eca212a3d7937313ba7748d4fc895c
    "df1.CategoryName.value_counts()"
   ]
  },
  {
   "cell_type": "markdown",
   "metadata": {},
   "source": [
    "\n",
    "## Who are our main suppliers?"
   ]
  },
  {
   "cell_type": "code",
<<<<<<< HEAD
   "execution_count": 9,
=======
   "execution_count": 10,
>>>>>>> 04766fb820eca212a3d7937313ba7748d4fc895c
   "metadata": {},
   "outputs": [
    {
     "name": "stdout",
     "output_type": "stream",
     "text": [
<<<<<<< HEAD
      "2020-02-10 11:22:59,167 INFO sqlalchemy.engine.base.Engine SELECT s.CompanyName, s.Region, COUNT(*) num_of_orders FROM [Order] o LEFT JOIN OrderDetail od ON o.Id = od.OrderId LEFT JOIN Product p ON od.ProductId = p.Id LEFT JOIN Supplier s ON p.SupplierId = s.Id GROUP BY s.CompanyName ORDER BY num_of_orders DESC\n",
      "2020-02-10 11:22:59,168 INFO sqlalchemy.engine.base.Engine ()\n"
=======
      "2020-02-10 11:23:26,744 INFO sqlalchemy.engine.base.Engine SELECT s.CompanyName, s.Region, COUNT(*) num_of_orders FROM [Order] o LEFT JOIN OrderDetail od ON o.Id = od.OrderId LEFT JOIN Product p ON od.ProductId = p.Id LEFT JOIN Supplier s ON p.SupplierId = s.Id GROUP BY s.CompanyName ORDER BY num_of_orders DESC\n",
      "2020-02-10 11:23:26,745 INFO sqlalchemy.engine.base.Engine ()\n"
>>>>>>> 04766fb820eca212a3d7937313ba7748d4fc895c
     ]
    },
    {
     "data": {
      "text/html": [
       "<div>\n",
       "<style scoped>\n",
       "    .dataframe tbody tr th:only-of-type {\n",
       "        vertical-align: middle;\n",
       "    }\n",
       "\n",
       "    .dataframe tbody tr th {\n",
       "        vertical-align: top;\n",
       "    }\n",
       "\n",
       "    .dataframe thead th {\n",
       "        text-align: right;\n",
       "    }\n",
       "</style>\n",
       "<table border=\"1\" class=\"dataframe\">\n",
       "  <thead>\n",
       "    <tr style=\"text-align: right;\">\n",
       "      <th></th>\n",
       "      <th>CompanyName</th>\n",
       "      <th>Region</th>\n",
       "      <th>num_of_orders</th>\n",
       "    </tr>\n",
       "  </thead>\n",
       "  <tbody>\n",
       "    <tr>\n",
       "      <th>0</th>\n",
       "      <td>Plutzer Lebensmittelgroßmärkte AG</td>\n",
       "      <td>Western Europe</td>\n",
       "      <td>179</td>\n",
       "    </tr>\n",
       "    <tr>\n",
       "      <th>1</th>\n",
       "      <td>Pavlova, Ltd.</td>\n",
       "      <td>Victoria</td>\n",
       "      <td>163</td>\n",
       "    </tr>\n",
       "    <tr>\n",
       "      <th>2</th>\n",
       "      <td>Specialty Biscuits, Ltd.</td>\n",
       "      <td>British Isles</td>\n",
       "      <td>126</td>\n",
       "    </tr>\n",
       "    <tr>\n",
       "      <th>3</th>\n",
       "      <td>Norske Meierier</td>\n",
       "      <td>Scandinavia</td>\n",
       "      <td>105</td>\n",
       "    </tr>\n",
       "    <tr>\n",
       "      <th>4</th>\n",
       "      <td>Gai pâturage</td>\n",
       "      <td>Western Europe</td>\n",
       "      <td>105</td>\n",
       "    </tr>\n",
       "  </tbody>\n",
       "</table>\n",
       "</div>"
      ],
      "text/plain": [
       "                         CompanyName          Region  num_of_orders\n",
       "0  Plutzer Lebensmittelgroßmärkte AG  Western Europe            179\n",
       "1                      Pavlova, Ltd.        Victoria            163\n",
       "2           Specialty Biscuits, Ltd.   British Isles            126\n",
       "3                    Norske Meierier     Scandinavia            105\n",
       "4                       Gai pâturage  Western Europe            105"
      ]
     },
<<<<<<< HEAD
     "execution_count": 9,
=======
     "execution_count": 10,
>>>>>>> 04766fb820eca212a3d7937313ba7748d4fc895c
     "metadata": {},
     "output_type": "execute_result"
    }
   ],
   "source": [
    "q = '''SELECT s.CompanyName, s.Region, COUNT(*) num_of_orders FROM [Order] o \\\n",
    "LEFT JOIN OrderDetail od ON o.Id = od.OrderId \\\n",
    "LEFT JOIN Product p ON od.ProductId = p.Id \\\n",
    "LEFT JOIN Supplier s ON p.SupplierId = s.Id \\\n",
    "GROUP BY s.CompanyName \\\n",
    "ORDER BY num_of_orders DESC'''\n",
    "\n",
    "df2 = pd.read_sql_query(q, engine)\n",
    "df2.head()"
   ]
  },
  {
   "cell_type": "code",
<<<<<<< HEAD
   "execution_count": 15,
   "metadata": {},
   "outputs": [
    {
=======
   "execution_count": 18,
   "metadata": {},
   "outputs": [
    {
     "data": {
      "text/plain": [
       "(29, 3)"
      ]
     },
     "execution_count": 18,
     "metadata": {},
     "output_type": "execute_result"
    }
   ],
   "source": [
    "df2.shape"
   ]
  },
  {
   "cell_type": "code",
   "execution_count": 11,
   "metadata": {},
   "outputs": [
    {
>>>>>>> 04766fb820eca212a3d7937313ba7748d4fc895c
     "name": "stdout",
     "output_type": "stream",
     "text": [
      "North America      6\n",
      "Western Europe     6\n",
      "Northern Europe    4\n",
      "Southern Europe    3\n",
      "British Isles      2\n",
<<<<<<< HEAD
      "Eastern Asia       2\n",
      "Scandinavia        2\n",
      "South-East Asia    1\n",
      "NSW                1\n",
      "South America      1\n",
      "Victoria           1\n",
      "Name: Region, dtype: int64\n",
      "average number of orders 74.3103448275862\n"
=======
      "Scandinavia        2\n",
      "Eastern Asia       2\n",
      "NSW                1\n",
      "South America      1\n",
      "South-East Asia    1\n",
      "Victoria           1\n",
      "Name: Region, dtype: int64\n"
>>>>>>> 04766fb820eca212a3d7937313ba7748d4fc895c
     ]
    }
   ],
   "source": [
    "#value_counts to see what region\n",
<<<<<<< HEAD
    "#average number of orders\n",
    "\n",
    "print(df2.Region.value_counts())\n",
    "print('average number of orders', df2.num_of_orders.mean())"
=======
    "print(df2.Region.value_counts())"
>>>>>>> 04766fb820eca212a3d7937313ba7748d4fc895c
   ]
  },
  {
   "cell_type": "code",
   "execution_count": 12,
   "metadata": {},
<<<<<<< HEAD
   "outputs": [],
   "source": []
  },
  {
   "cell_type": "code",
   "execution_count": 25,
   "metadata": {},
   "outputs": [
    {
     "name": "stdout",
     "output_type": "stream",
     "text": [
      "2020-02-10 11:34:36,477 INFO sqlalchemy.engine.base.Engine SELECT LastName, Region, Title FROM employee \n",
      "2020-02-10 11:34:36,479 INFO sqlalchemy.engine.base.Engine ()\n"
     ]
    },
    {
     "data": {
      "text/plain": [
       "North America    5\n",
       "British Isles    4\n",
       "Name: Region, dtype: int64"
      ]
     },
     "execution_count": 25,
=======
   "outputs": [
    {
     "data": {
      "text/plain": [
       "74.3103448275862"
      ]
     },
     "execution_count": 12,
>>>>>>> 04766fb820eca212a3d7937313ba7748d4fc895c
     "metadata": {},
     "output_type": "execute_result"
    }
   ],
   "source": [
<<<<<<< HEAD
    "q = \"\"\"SELECT LastName, Region, Title FROM employee \"\"\"\n",
    "\n",
    "#query of where our employees are using the Employee table\n",
=======
    "#average number of orders\n",
    "df2.num_of_orders.mean()"
   ]
  },
  {
   "cell_type": "code",
   "execution_count": 19,
   "metadata": {},
   "outputs": [
    {
     "name": "stdout",
     "output_type": "stream",
     "text": [
      "2020-02-10 11:31:48,796 INFO sqlalchemy.engine.base.Engine SELECT LastName, Title, Region from Employee\n",
      "2020-02-10 11:31:48,798 INFO sqlalchemy.engine.base.Engine ()\n"
     ]
    },
    {
     "data": {
      "text/html": [
       "<div>\n",
       "<style scoped>\n",
       "    .dataframe tbody tr th:only-of-type {\n",
       "        vertical-align: middle;\n",
       "    }\n",
       "\n",
       "    .dataframe tbody tr th {\n",
       "        vertical-align: top;\n",
       "    }\n",
       "\n",
       "    .dataframe thead th {\n",
       "        text-align: right;\n",
       "    }\n",
       "</style>\n",
       "<table border=\"1\" class=\"dataframe\">\n",
       "  <thead>\n",
       "    <tr style=\"text-align: right;\">\n",
       "      <th></th>\n",
       "      <th>LastName</th>\n",
       "      <th>Title</th>\n",
       "      <th>Region</th>\n",
       "    </tr>\n",
       "  </thead>\n",
       "  <tbody>\n",
       "    <tr>\n",
       "      <th>0</th>\n",
       "      <td>Davolio</td>\n",
       "      <td>Sales Representative</td>\n",
       "      <td>North America</td>\n",
       "    </tr>\n",
       "    <tr>\n",
       "      <th>1</th>\n",
       "      <td>Fuller</td>\n",
       "      <td>Vice President, Sales</td>\n",
       "      <td>North America</td>\n",
       "    </tr>\n",
       "    <tr>\n",
       "      <th>2</th>\n",
       "      <td>Leverling</td>\n",
       "      <td>Sales Representative</td>\n",
       "      <td>North America</td>\n",
       "    </tr>\n",
       "    <tr>\n",
       "      <th>3</th>\n",
       "      <td>Peacock</td>\n",
       "      <td>Sales Representative</td>\n",
       "      <td>North America</td>\n",
       "    </tr>\n",
       "    <tr>\n",
       "      <th>4</th>\n",
       "      <td>Buchanan</td>\n",
       "      <td>Sales Manager</td>\n",
       "      <td>British Isles</td>\n",
       "    </tr>\n",
       "  </tbody>\n",
       "</table>\n",
       "</div>"
      ],
      "text/plain": [
       "    LastName                  Title         Region\n",
       "0    Davolio   Sales Representative  North America\n",
       "1     Fuller  Vice President, Sales  North America\n",
       "2  Leverling   Sales Representative  North America\n",
       "3    Peacock   Sales Representative  North America\n",
       "4   Buchanan          Sales Manager  British Isles"
      ]
     },
     "execution_count": 19,
     "metadata": {},
     "output_type": "execute_result"
    }
   ],
   "source": [
    "q = '''SELECT LastName, Title, Region from Employee'''\n",
>>>>>>> 04766fb820eca212a3d7937313ba7748d4fc895c
    "\n",
    "df2 = pd.read_sql_query(q, engine)\n",
    "df2.Region.value_counts()"
   ]
  },
  {
   "cell_type": "code",
   "execution_count": 23,
   "metadata": {},
   "outputs": [
    {
     "data": {
      "text/plain": [
       "(9, 3)"
      ]
     },
     "execution_count": 23,
     "metadata": {},
     "output_type": "execute_result"
    }
   ],
   "source": [
    "df2.shape"
   ]
  },
  {
   "cell_type": "code",
   "execution_count": 26,
   "metadata": {},
   "outputs": [
    {
     "data": {
      "text/plain": [
       "North America    5\n",
       "British Isles    4\n",
       "Name: Region, dtype: int64"
      ]
     },
     "execution_count": 26,
     "metadata": {},
     "output_type": "execute_result"
    }
   ],
   "source": [
    "#now check out where all the regions these people are from\n",
    "df2.Region.value_counts()"
   ]
  },
  {
   "cell_type": "markdown",
   "metadata": {},
   "source": [
    "# 2) Is there a difference in the money generated from sales between the North America office and the British Island office?"
   ]
  },
  {
   "cell_type": "markdown",
   "metadata": {},
   "source": [
    "The employees of this company are based in two central locations. I want to know if one office is better at business than the other. The metric will be money generated (products ordered * price) with the differential based on one office or another.\n",
    "\n",
    "$H_{o} =$ The employees based out of the British Island office generates the same amount revenue, per order, than the North American office.  \n",
    "$H_{a} =$ The employees based out of the British Island office generates less revenue, per order, than the North American office.  \n",
    "$\\alpha = 0.05$"
   ]
  },
  {
   "cell_type": "markdown",
   "metadata": {},
   "source": [
    "### 2-1 Inital Analysis\n"
   ]
  },
  {
   "cell_type": "code",
<<<<<<< HEAD
   "execution_count": 91,
=======
   "execution_count": 27,
>>>>>>> 04766fb820eca212a3d7937313ba7748d4fc895c
   "metadata": {},
   "outputs": [
    {
     "name": "stdout",
     "output_type": "stream",
     "text": [
<<<<<<< HEAD
      "2020-02-10 12:18:48,341 INFO sqlalchemy.engine.base.Engine SELECT od.OrderId, SUM(od.UnitPrice*od.Quantity) AS generated, e.Region AS employ_from FROM OrderDetail od LEFT JOIN [Order] o ON od.OrderId = o.Id LEFT JOIN Employee e ON o.EmployeeId = e.Id\n",
      "GROUP BY od.OrderId\n",
      "2020-02-10 12:18:48,343 INFO sqlalchemy.engine.base.Engine ()\n"
=======
      "2020-02-10 11:37:01,879 INFO sqlalchemy.engine.base.Engine SELECT od.OrderId, SUM(od.UnitPrice*od.Quantity) AS generated, e.Region AS employ_from FROM OrderDetail od LEFT JOIN [Order] o ON od.OrderId = o.Id LEFT JOIN Employee e ON o.EmployeeId = e.Id\n",
      "GROUP BY od.OrderId\n",
      "2020-02-10 11:37:01,880 INFO sqlalchemy.engine.base.Engine ()\n"
>>>>>>> 04766fb820eca212a3d7937313ba7748d4fc895c
     ]
    },
    {
     "data": {
      "text/html": [
       "<div>\n",
       "<style scoped>\n",
       "    .dataframe tbody tr th:only-of-type {\n",
       "        vertical-align: middle;\n",
       "    }\n",
       "\n",
       "    .dataframe tbody tr th {\n",
       "        vertical-align: top;\n",
       "    }\n",
       "\n",
       "    .dataframe thead th {\n",
       "        text-align: right;\n",
       "    }\n",
       "</style>\n",
       "<table border=\"1\" class=\"dataframe\">\n",
       "  <thead>\n",
       "    <tr style=\"text-align: right;\">\n",
       "      <th></th>\n",
       "      <th>OrderId</th>\n",
       "      <th>generated</th>\n",
       "      <th>employ_from</th>\n",
       "    </tr>\n",
       "  </thead>\n",
       "  <tbody>\n",
       "    <tr>\n",
       "      <th>0</th>\n",
       "      <td>10248</td>\n",
       "      <td>440.0</td>\n",
       "      <td>British Isles</td>\n",
       "    </tr>\n",
       "    <tr>\n",
       "      <th>1</th>\n",
       "      <td>10249</td>\n",
       "      <td>1863.4</td>\n",
       "      <td>British Isles</td>\n",
       "    </tr>\n",
       "    <tr>\n",
       "      <th>2</th>\n",
       "      <td>10250</td>\n",
       "      <td>1813.0</td>\n",
       "      <td>North America</td>\n",
       "    </tr>\n",
       "    <tr>\n",
       "      <th>3</th>\n",
       "      <td>10251</td>\n",
       "      <td>670.8</td>\n",
       "      <td>North America</td>\n",
       "    </tr>\n",
       "    <tr>\n",
       "      <th>4</th>\n",
       "      <td>10252</td>\n",
       "      <td>3730.0</td>\n",
       "      <td>North America</td>\n",
       "    </tr>\n",
       "    <tr>\n",
       "      <th>5</th>\n",
       "      <td>10253</td>\n",
       "      <td>1444.8</td>\n",
       "      <td>North America</td>\n",
       "    </tr>\n",
       "    <tr>\n",
       "      <th>6</th>\n",
       "      <td>10254</td>\n",
       "      <td>625.2</td>\n",
       "      <td>British Isles</td>\n",
       "    </tr>\n",
       "    <tr>\n",
       "      <th>7</th>\n",
       "      <td>10255</td>\n",
       "      <td>2490.5</td>\n",
       "      <td>British Isles</td>\n",
       "    </tr>\n",
       "    <tr>\n",
       "      <th>8</th>\n",
       "      <td>10256</td>\n",
       "      <td>517.8</td>\n",
       "      <td>North America</td>\n",
       "    </tr>\n",
       "    <tr>\n",
       "      <th>9</th>\n",
       "      <td>10257</td>\n",
       "      <td>1119.9</td>\n",
       "      <td>North America</td>\n",
       "    </tr>\n",
       "  </tbody>\n",
       "</table>\n",
       "</div>"
      ],
      "text/plain": [
       "   OrderId  generated    employ_from\n",
       "0    10248      440.0  British Isles\n",
       "1    10249     1863.4  British Isles\n",
       "2    10250     1813.0  North America\n",
       "3    10251      670.8  North America\n",
       "4    10252     3730.0  North America\n",
       "5    10253     1444.8  North America\n",
       "6    10254      625.2  British Isles\n",
       "7    10255     2490.5  British Isles\n",
       "8    10256      517.8  North America\n",
       "9    10257     1119.9  North America"
      ]
     },
<<<<<<< HEAD
     "execution_count": 91,
=======
     "execution_count": 27,
>>>>>>> 04766fb820eca212a3d7937313ba7748d4fc895c
     "metadata": {},
     "output_type": "execute_result"
    }
   ],
   "source": [
    "q = '''SELECT od.OrderId, SUM(od.UnitPrice*od.Quantity) AS generated, e.Region AS employ_from \\\n",
    "FROM OrderDetail od \\\n",
    "LEFT JOIN [Order] o ON od.OrderId = o.Id \\\n",
    "LEFT JOIN Employee e ON o.EmployeeId = e.Id\n",
    "GROUP BY od.OrderId'''\n",
    "\n",
    "df = pd.read_sql_query(q, engine)\n",
    "df.head(10)"
   ]
  },
  {
   "cell_type": "code",
   "execution_count": 29,
   "metadata": {},
   "outputs": [
    {
     "data": {
      "text/html": [
       "<div>\n",
       "<style scoped>\n",
       "    .dataframe tbody tr th:only-of-type {\n",
       "        vertical-align: middle;\n",
       "    }\n",
       "\n",
       "    .dataframe tbody tr th {\n",
       "        vertical-align: top;\n",
       "    }\n",
       "\n",
       "    .dataframe thead th {\n",
       "        text-align: right;\n",
       "    }\n",
       "</style>\n",
       "<table border=\"1\" class=\"dataframe\">\n",
       "  <thead>\n",
       "    <tr style=\"text-align: right;\">\n",
       "      <th></th>\n",
       "      <th>OrderId</th>\n",
       "      <th>generated</th>\n",
       "    </tr>\n",
       "  </thead>\n",
       "  <tbody>\n",
       "    <tr>\n",
       "      <th>count</th>\n",
       "      <td>830.000000</td>\n",
       "      <td>830.000000</td>\n",
       "    </tr>\n",
       "    <tr>\n",
       "      <th>mean</th>\n",
       "      <td>10662.500000</td>\n",
       "      <td>1631.877819</td>\n",
       "    </tr>\n",
       "    <tr>\n",
       "      <th>std</th>\n",
       "      <td>239.744656</td>\n",
       "      <td>1990.613963</td>\n",
       "    </tr>\n",
       "    <tr>\n",
       "      <th>min</th>\n",
       "      <td>10248.000000</td>\n",
       "      <td>12.500000</td>\n",
       "    </tr>\n",
       "    <tr>\n",
       "      <th>25%</th>\n",
       "      <td>10455.250000</td>\n",
       "      <td>480.000000</td>\n",
       "    </tr>\n",
       "    <tr>\n",
       "      <th>50%</th>\n",
       "      <td>10662.500000</td>\n",
       "      <td>1015.900000</td>\n",
       "    </tr>\n",
       "    <tr>\n",
       "      <th>75%</th>\n",
       "      <td>10869.750000</td>\n",
       "      <td>2028.650000</td>\n",
       "    </tr>\n",
       "    <tr>\n",
       "      <th>max</th>\n",
       "      <td>11077.000000</td>\n",
       "      <td>17250.000000</td>\n",
       "    </tr>\n",
       "  </tbody>\n",
       "</table>\n",
       "</div>"
      ],
      "text/plain": [
       "            OrderId     generated\n",
       "count    830.000000    830.000000\n",
       "mean   10662.500000   1631.877819\n",
       "std      239.744656   1990.613963\n",
       "min    10248.000000     12.500000\n",
       "25%    10455.250000    480.000000\n",
       "50%    10662.500000   1015.900000\n",
       "75%    10869.750000   2028.650000\n",
       "max    11077.000000  17250.000000"
      ]
     },
     "execution_count": 29,
     "metadata": {},
     "output_type": "execute_result"
    }
   ],
   "source": [
    "df.describe()"
   ]
  },
  {
   "cell_type": "markdown",
   "metadata": {},
   "source": [
    "Looks like we have all 830 orders. Great."
   ]
  },
  {
   "cell_type": "code",
<<<<<<< HEAD
   "execution_count": 92,
=======
   "execution_count": 33,
>>>>>>> 04766fb820eca212a3d7937313ba7748d4fc895c
   "metadata": {},
   "outputs": [
    {
     "data": {
<<<<<<< HEAD
      "text/plain": [
       "count      830.000000\n",
       "mean      1631.877819\n",
       "std       1990.613963\n",
       "min         12.500000\n",
       "25%        480.000000\n",
       "50%       1015.900000\n",
       "75%       2028.650000\n",
       "max      17250.000000\n",
       "Name: generated, dtype: float64"
      ]
     },
     "execution_count": 92,
     "metadata": {},
     "output_type": "execute_result"
    }
   ],
   "source": [
    "df.generated.describe()"
   ]
  },
  {
   "cell_type": "code",
   "execution_count": 93,
   "metadata": {},
   "outputs": [
    {
     "data": {
=======
>>>>>>> 04766fb820eca212a3d7937313ba7748d4fc895c
      "text/html": [
       "<div>\n",
       "<style scoped>\n",
       "    .dataframe tbody tr th:only-of-type {\n",
       "        vertical-align: middle;\n",
       "    }\n",
       "\n",
       "    .dataframe tbody tr th {\n",
       "        vertical-align: top;\n",
       "    }\n",
       "\n",
       "    .dataframe thead th {\n",
       "        text-align: right;\n",
       "    }\n",
       "</style>\n",
       "<table border=\"1\" class=\"dataframe\">\n",
       "  <thead>\n",
       "    <tr style=\"text-align: right;\">\n",
       "      <th>employ_from</th>\n",
       "      <th>British Isles</th>\n",
       "      <th>North America</th>\n",
       "    </tr>\n",
       "  </thead>\n",
       "  <tbody>\n",
       "    <tr>\n",
       "      <th>count</th>\n",
       "      <td>224.000000</td>\n",
       "      <td>606.000000</td>\n",
       "    </tr>\n",
       "    <tr>\n",
       "      <th>mean</th>\n",
       "      <td>1687.615357</td>\n",
       "      <td>1611.275165</td>\n",
       "    </tr>\n",
       "    <tr>\n",
       "      <th>std</th>\n",
       "      <td>2203.222396</td>\n",
       "      <td>1907.580217</td>\n",
       "    </tr>\n",
       "    <tr>\n",
       "      <th>min</th>\n",
       "      <td>12.500000</td>\n",
       "      <td>18.400000</td>\n",
       "    </tr>\n",
       "    <tr>\n",
       "      <th>25%</th>\n",
       "      <td>480.000000</td>\n",
       "      <td>481.100000</td>\n",
       "    </tr>\n",
       "    <tr>\n",
       "      <th>50%</th>\n",
       "      <td>930.125000</td>\n",
       "      <td>1070.500000</td>\n",
       "    </tr>\n",
       "    <tr>\n",
       "      <th>75%</th>\n",
       "      <td>2023.650000</td>\n",
       "      <td>2028.650000</td>\n",
       "    </tr>\n",
       "    <tr>\n",
       "      <th>max</th>\n",
       "      <td>16321.900000</td>\n",
       "      <td>17250.000000</td>\n",
       "    </tr>\n",
       "  </tbody>\n",
       "</table>\n",
       "</div>"
      ],
      "text/plain": [
       "employ_from  British Isles  North America\n",
       "count           224.000000     606.000000\n",
       "mean           1687.615357    1611.275165\n",
       "std            2203.222396    1907.580217\n",
       "min              12.500000      18.400000\n",
       "25%             480.000000     481.100000\n",
       "50%             930.125000    1070.500000\n",
       "75%            2023.650000    2028.650000\n",
       "max           16321.900000   17250.000000"
      ]
     },
<<<<<<< HEAD
     "execution_count": 93,
=======
     "execution_count": 33,
>>>>>>> 04766fb820eca212a3d7937313ba7748d4fc895c
     "metadata": {},
     "output_type": "execute_result"
    }
   ],
   "source": [
    "#Find group by the employ_from and then describe the generated amount\n",
<<<<<<< HEAD
    "df.groupby('employ_from')['generated'].describe().T\n"
=======
    "df.groupby('employ_from')['generated'].describe().T"
>>>>>>> 04766fb820eca212a3d7937313ba7748d4fc895c
   ]
  },
  {
   "cell_type": "markdown",
   "metadata": {},
   "source": [
    "The average made by both offices are close to each other but there is far fewer sales made by the British office. Lets take a quick look at the distribution for both, but look at the above data there is likely to be outliers."
   ]
  },
  {
   "cell_type": "code",
<<<<<<< HEAD
   "execution_count": 94,
=======
   "execution_count": 38,
>>>>>>> 04766fb820eca212a3d7937313ba7748d4fc895c
   "metadata": {},
   "outputs": [
    {
     "data": {
<<<<<<< HEAD
      "image/png": "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\n",
=======
      "text/plain": [
       "Text(0.5, 0, 'Price of order')"
      ]
     },
     "execution_count": 38,
     "metadata": {},
     "output_type": "execute_result"
    },
    {
     "data": {
      "image/png": "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\n",
>>>>>>> 04766fb820eca212a3d7937313ba7748d4fc895c
      "text/plain": [
       "<Figure size 432x288 with 1 Axes>"
      ]
     },
     "metadata": {},
     "output_type": "display_data"
    }
   ],
   "source": [
    "plt.hist('generated', data=df[df.employ_from == 'North America'], label= 'NA')\n",
    "plt.hist('generated', data=df[df.employ_from == 'British Isles'], label= 'BI')\n",
    "plt.legend()\n",
    "plt.ylabel('Quantities of order')\n",
    "plt.xlabel('Price of order')\n",
<<<<<<< HEAD
    "plt.savefig('hist money')"
=======
    "#plt.savefig('hist money')"
>>>>>>> 04766fb820eca212a3d7937313ba7748d4fc895c
   ]
  },
  {
   "cell_type": "markdown",
   "metadata": {},
   "source": [
    "There seems to be a few outliers. Lets take care of the egregious ones i.e. anything above 11K"
   ]
  },
  {
   "cell_type": "code",
<<<<<<< HEAD
   "execution_count": 95,
=======
   "execution_count": 35,
>>>>>>> 04766fb820eca212a3d7937313ba7748d4fc895c
   "metadata": {},
   "outputs": [
    {
     "data": {
      "text/plain": [
       "617    17250.00\n",
       "782    16321.90\n",
       "733    15810.00\n",
       "124    12281.20\n",
       "176    11493.20\n",
       "569    11490.70\n",
       "641    11380.00\n",
       "169    11283.20\n",
       "649    10835.24\n",
       "105    10741.60\n",
       "Name: generated, dtype: float64"
      ]
     },
<<<<<<< HEAD
     "execution_count": 95,
=======
     "execution_count": 35,
>>>>>>> 04766fb820eca212a3d7937313ba7748d4fc895c
     "metadata": {},
     "output_type": "execute_result"
    }
   ],
   "source": [
    "df.generated.sort_values(ascending=False).head(10)"
   ]
  },
  {
   "cell_type": "code",
   "execution_count": 36,
   "metadata": {},
   "outputs": [],
   "source": []
  },
  {
   "cell_type": "code",
   "execution_count": 51,
   "metadata": {},
   "outputs": [
    {
     "data": {
      "text/html": [
       "<div>\n",
       "<style scoped>\n",
       "    .dataframe tbody tr th:only-of-type {\n",
       "        vertical-align: middle;\n",
       "    }\n",
       "\n",
       "    .dataframe tbody tr th {\n",
       "        vertical-align: top;\n",
       "    }\n",
       "\n",
       "    .dataframe thead th {\n",
       "        text-align: right;\n",
       "    }\n",
       "</style>\n",
       "<table border=\"1\" class=\"dataframe\">\n",
       "  <thead>\n",
       "    <tr style=\"text-align: right;\">\n",
       "      <th></th>\n",
       "      <th>OrderId</th>\n",
       "      <th>generated</th>\n",
       "      <th>employ_from</th>\n",
       "    </tr>\n",
       "  </thead>\n",
       "  <tbody>\n",
       "    <tr>\n",
       "      <th>0</th>\n",
       "      <td>10248</td>\n",
       "      <td>440.0</td>\n",
       "      <td>British Isles</td>\n",
       "    </tr>\n",
       "    <tr>\n",
       "      <th>1</th>\n",
       "      <td>10249</td>\n",
       "      <td>1863.4</td>\n",
       "      <td>British Isles</td>\n",
       "    </tr>\n",
       "    <tr>\n",
       "      <th>2</th>\n",
       "      <td>10250</td>\n",
       "      <td>1813.0</td>\n",
       "      <td>North America</td>\n",
       "    </tr>\n",
       "    <tr>\n",
       "      <th>3</th>\n",
       "      <td>10251</td>\n",
       "      <td>670.8</td>\n",
       "      <td>North America</td>\n",
       "    </tr>\n",
       "    <tr>\n",
       "      <th>4</th>\n",
       "      <td>10252</td>\n",
       "      <td>3730.0</td>\n",
       "      <td>North America</td>\n",
       "    </tr>\n",
       "  </tbody>\n",
       "</table>\n",
       "</div>"
      ],
      "text/plain": [
       "   OrderId  generated    employ_from\n",
       "0    10248      440.0  British Isles\n",
       "1    10249     1863.4  British Isles\n",
       "2    10250     1813.0  North America\n",
       "3    10251      670.8  North America\n",
       "4    10252     3730.0  North America"
      ]
     },
     "execution_count": 51,
     "metadata": {},
     "output_type": "execute_result"
    }
   ],
   "source": [
    "df.head()"
   ]
  },
  {
   "cell_type": "code",
<<<<<<< HEAD
   "execution_count": 99,
=======
   "execution_count": 37,
   "metadata": {},
   "outputs": [
    {
     "data": {
      "text/plain": [
       "649    10835.24\n",
       "105    10741.60\n",
       "267    10588.50\n",
       "231    10495.60\n",
       "292    10191.70\n",
       "443    10164.80\n",
       "784     8902.50\n",
       "568     8891.00\n",
       "266     8623.45\n",
       "664     8267.40\n",
       "Name: generated, dtype: float64"
      ]
     },
     "execution_count": 37,
     "metadata": {},
     "output_type": "execute_result"
    }
   ],
   "source": [
    "df.generated.sort_values(ascending=False).head(10)"
   ]
  },
  {
   "cell_type": "code",
   "execution_count": 42,
>>>>>>> 04766fb820eca212a3d7937313ba7748d4fc895c
   "metadata": {},
   "outputs": [
    {
     "data": {
      "text/html": [
       "<div>\n",
       "<style scoped>\n",
       "    .dataframe tbody tr th:only-of-type {\n",
       "        vertical-align: middle;\n",
       "    }\n",
       "\n",
       "    .dataframe tbody tr th {\n",
       "        vertical-align: top;\n",
       "    }\n",
       "\n",
       "    .dataframe thead th {\n",
       "        text-align: right;\n",
       "    }\n",
       "</style>\n",
       "<table border=\"1\" class=\"dataframe\">\n",
       "  <thead>\n",
       "    <tr style=\"text-align: right;\">\n",
       "      <th></th>\n",
       "      <th>OrderId</th>\n",
       "      <th>generated</th>\n",
       "      <th>employ_from</th>\n",
       "    </tr>\n",
       "  </thead>\n",
       "  <tbody>\n",
       "    <tr>\n",
       "      <th>2</th>\n",
       "      <td>10250</td>\n",
       "      <td>1813.0</td>\n",
       "      <td>North America</td>\n",
       "    </tr>\n",
       "    <tr>\n",
       "      <th>3</th>\n",
       "      <td>10251</td>\n",
       "      <td>670.8</td>\n",
       "      <td>North America</td>\n",
       "    </tr>\n",
       "    <tr>\n",
       "      <th>4</th>\n",
       "      <td>10252</td>\n",
       "      <td>3730.0</td>\n",
       "      <td>North America</td>\n",
       "    </tr>\n",
       "    <tr>\n",
       "      <th>5</th>\n",
       "      <td>10253</td>\n",
       "      <td>1444.8</td>\n",
       "      <td>North America</td>\n",
       "    </tr>\n",
       "    <tr>\n",
       "      <th>8</th>\n",
       "      <td>10256</td>\n",
       "      <td>517.8</td>\n",
       "      <td>North America</td>\n",
       "    </tr>\n",
       "  </tbody>\n",
       "</table>\n",
       "</div>"
      ],
      "text/plain": [
       "   OrderId  generated    employ_from\n",
       "2    10250     1813.0  North America\n",
       "3    10251      670.8  North America\n",
       "4    10252     3730.0  North America\n",
       "5    10253     1444.8  North America\n",
       "8    10256      517.8  North America"
      ]
     },
     "execution_count": 99,
     "metadata": {},
     "output_type": "execute_result"
    }
   ],
   "source": [
    "#make two new dfs. One that contains all the employees that are employed out of British Isles and a group from North America\n",
    "#Then describe them both\n",
<<<<<<< HEAD
    "\n",
    "brit = df[df.employ_from == 'British Isles']\n",
    "merica = df[df.employ_from == 'North America']\n",
    "merica.head()"
=======
    "brit = df[df.employ_from == \"British Isles\"]\n",
    "merica = df[df.employ_from == \"North America\"]"
   ]
  },
  {
   "cell_type": "code",
   "execution_count": 43,
   "metadata": {},
   "outputs": [
    {
     "data": {
      "text/html": [
       "<div>\n",
       "<style scoped>\n",
       "    .dataframe tbody tr th:only-of-type {\n",
       "        vertical-align: middle;\n",
       "    }\n",
       "\n",
       "    .dataframe tbody tr th {\n",
       "        vertical-align: top;\n",
       "    }\n",
       "\n",
       "    .dataframe thead th {\n",
       "        text-align: right;\n",
       "    }\n",
       "</style>\n",
       "<table border=\"1\" class=\"dataframe\">\n",
       "  <thead>\n",
       "    <tr style=\"text-align: right;\">\n",
       "      <th></th>\n",
       "      <th>OrderId</th>\n",
       "      <th>generated</th>\n",
       "    </tr>\n",
       "  </thead>\n",
       "  <tbody>\n",
       "    <tr>\n",
       "      <th>count</th>\n",
       "      <td>220.000000</td>\n",
       "      <td>220.000000</td>\n",
       "    </tr>\n",
       "    <tr>\n",
       "      <th>mean</th>\n",
       "      <td>10664.827273</td>\n",
       "      <td>1484.316091</td>\n",
       "    </tr>\n",
       "    <tr>\n",
       "      <th>std</th>\n",
       "      <td>235.640635</td>\n",
       "      <td>1594.673307</td>\n",
       "    </tr>\n",
       "    <tr>\n",
       "      <th>min</th>\n",
       "      <td>10248.000000</td>\n",
       "      <td>12.500000</td>\n",
       "    </tr>\n",
       "    <tr>\n",
       "      <th>25%</th>\n",
       "      <td>10487.500000</td>\n",
       "      <td>479.850000</td>\n",
       "    </tr>\n",
       "    <tr>\n",
       "      <th>50%</th>\n",
       "      <td>10666.500000</td>\n",
       "      <td>920.300000</td>\n",
       "    </tr>\n",
       "    <tr>\n",
       "      <th>75%</th>\n",
       "      <td>10868.250000</td>\n",
       "      <td>1943.500000</td>\n",
       "    </tr>\n",
       "    <tr>\n",
       "      <th>max</th>\n",
       "      <td>11074.000000</td>\n",
       "      <td>10741.600000</td>\n",
       "    </tr>\n",
       "  </tbody>\n",
       "</table>\n",
       "</div>"
      ],
      "text/plain": [
       "            OrderId     generated\n",
       "count    220.000000    220.000000\n",
       "mean   10664.827273   1484.316091\n",
       "std      235.640635   1594.673307\n",
       "min    10248.000000     12.500000\n",
       "25%    10487.500000    479.850000\n",
       "50%    10666.500000    920.300000\n",
       "75%    10868.250000   1943.500000\n",
       "max    11074.000000  10741.600000"
      ]
     },
     "execution_count": 43,
     "metadata": {},
     "output_type": "execute_result"
    }
   ],
   "source": [
    "brit.describe()"
   ]
  },
  {
   "cell_type": "code",
   "execution_count": 44,
   "metadata": {},
   "outputs": [
    {
     "data": {
      "text/html": [
       "<div>\n",
       "<style scoped>\n",
       "    .dataframe tbody tr th:only-of-type {\n",
       "        vertical-align: middle;\n",
       "    }\n",
       "\n",
       "    .dataframe tbody tr th {\n",
       "        vertical-align: top;\n",
       "    }\n",
       "\n",
       "    .dataframe thead th {\n",
       "        text-align: right;\n",
       "    }\n",
       "</style>\n",
       "<table border=\"1\" class=\"dataframe\">\n",
       "  <thead>\n",
       "    <tr style=\"text-align: right;\">\n",
       "      <th></th>\n",
       "      <th>OrderId</th>\n",
       "      <th>generated</th>\n",
       "    </tr>\n",
       "  </thead>\n",
       "  <tbody>\n",
       "    <tr>\n",
       "      <th>count</th>\n",
       "      <td>602.000000</td>\n",
       "      <td>602.000000</td>\n",
       "    </tr>\n",
       "    <tr>\n",
       "      <th>mean</th>\n",
       "      <td>10660.827243</td>\n",
       "      <td>1529.233970</td>\n",
       "    </tr>\n",
       "    <tr>\n",
       "      <th>std</th>\n",
       "      <td>241.085475</td>\n",
       "      <td>1611.180311</td>\n",
       "    </tr>\n",
       "    <tr>\n",
       "      <th>min</th>\n",
       "      <td>10250.000000</td>\n",
       "      <td>18.400000</td>\n",
       "    </tr>\n",
       "    <tr>\n",
       "      <th>25%</th>\n",
       "      <td>10449.250000</td>\n",
       "      <td>479.762500</td>\n",
       "    </tr>\n",
       "    <tr>\n",
       "      <th>50%</th>\n",
       "      <td>10659.000000</td>\n",
       "      <td>1061.200000</td>\n",
       "    </tr>\n",
       "    <tr>\n",
       "      <th>75%</th>\n",
       "      <td>10870.750000</td>\n",
       "      <td>1972.202500</td>\n",
       "    </tr>\n",
       "    <tr>\n",
       "      <th>max</th>\n",
       "      <td>11077.000000</td>\n",
       "      <td>10835.240000</td>\n",
       "    </tr>\n",
       "  </tbody>\n",
       "</table>\n",
       "</div>"
      ],
      "text/plain": [
       "            OrderId     generated\n",
       "count    602.000000    602.000000\n",
       "mean   10660.827243   1529.233970\n",
       "std      241.085475   1611.180311\n",
       "min    10250.000000     18.400000\n",
       "25%    10449.250000    479.762500\n",
       "50%    10659.000000   1061.200000\n",
       "75%    10870.750000   1972.202500\n",
       "max    11077.000000  10835.240000"
      ]
     },
     "execution_count": 44,
     "metadata": {},
     "output_type": "execute_result"
    }
   ],
   "source": [
    "merica.describe()"
>>>>>>> 04766fb820eca212a3d7937313ba7748d4fc895c
   ]
  },
  {
   "cell_type": "markdown",
   "metadata": {},
   "source": [
    "## 2-2 Testing"
   ]
  },
  {
   "cell_type": "markdown",
   "metadata": {},
   "source": [
    "# 2) Is there a difference in the money generated from sales between the North America office and the British Island office?"
   ]
  },
  {
   "cell_type": "markdown",
   "metadata": {},
   "source": [
    "### Mann–Whitney U test\n",
    "\n",
    "Mann–Whitney U test is a nonparametric test of the null hypothesis that it is equally likely that a randomly selected value from one sample will be less than or greater than a randomly selected value from a second sample.\n",
    "\n",
    "Unlike the t-test it does not require the assumption of normal distributions. It is nearly as efficient as the t-test on normal distributions.\n",
    "\n",
    "Mann-Whitney assumptions:  \n",
    "1) The dependent variable should be measured on an ordinal scale or a continuous scale.  \n",
    "2) The independent variable should be two independent, categorical groups.  \n",
    "3) Observations should be independent. In other words, there should be no relationship between the two groups or within each group.  \n",
    "4) Observations are not normally distributed. However, they should follow the same shape (i.e. both are bell-shaped and skewed left).  \n",
    "\n",
    "\n",
    "All assumptions are met within our data. So finally, refining our hypothesis: \n",
    "\n",
    "$H_{o} =$ There is no statistical difference between the meadian revenues generated by the North American office and the British Island office.  \n",
    "$H_{a} =$ There is a statistical difference between the meadian revenues generated by the North American office and the British Island office.  \n",
    "$\\alpha = 0.05$"
   ]
  },
  {
   "cell_type": "code",
<<<<<<< HEAD
   "execution_count": 86,
=======
   "execution_count": 45,
>>>>>>> 04766fb820eca212a3d7937313ba7748d4fc895c
   "metadata": {},
   "outputs": [
    {
     "data": {
<<<<<<< HEAD
      "text/html": [
       "<div>\n",
       "<style scoped>\n",
       "    .dataframe tbody tr th:only-of-type {\n",
       "        vertical-align: middle;\n",
       "    }\n",
       "\n",
       "    .dataframe tbody tr th {\n",
       "        vertical-align: top;\n",
       "    }\n",
       "\n",
       "    .dataframe thead th {\n",
       "        text-align: right;\n",
       "    }\n",
       "</style>\n",
       "<table border=\"1\" class=\"dataframe\">\n",
       "  <thead>\n",
       "    <tr style=\"text-align: right;\">\n",
       "      <th></th>\n",
       "      <th>OrderId</th>\n",
       "      <th>generated</th>\n",
       "    </tr>\n",
       "  </thead>\n",
       "  <tbody>\n",
       "    <tr>\n",
       "      <th>count</th>\n",
       "      <td>220.000000</td>\n",
       "      <td>220.000000</td>\n",
       "    </tr>\n",
       "    <tr>\n",
       "      <th>mean</th>\n",
       "      <td>10664.827273</td>\n",
       "      <td>1484.316091</td>\n",
       "    </tr>\n",
       "    <tr>\n",
       "      <th>std</th>\n",
       "      <td>235.640635</td>\n",
       "      <td>1594.673307</td>\n",
       "    </tr>\n",
       "    <tr>\n",
       "      <th>min</th>\n",
       "      <td>10248.000000</td>\n",
       "      <td>12.500000</td>\n",
       "    </tr>\n",
       "    <tr>\n",
       "      <th>25%</th>\n",
       "      <td>10487.500000</td>\n",
       "      <td>479.850000</td>\n",
       "    </tr>\n",
       "    <tr>\n",
       "      <th>50%</th>\n",
       "      <td>10666.500000</td>\n",
       "      <td>920.300000</td>\n",
       "    </tr>\n",
       "    <tr>\n",
       "      <th>75%</th>\n",
       "      <td>10868.250000</td>\n",
       "      <td>1943.500000</td>\n",
       "    </tr>\n",
       "    <tr>\n",
       "      <th>max</th>\n",
       "      <td>11074.000000</td>\n",
       "      <td>10741.600000</td>\n",
       "    </tr>\n",
       "  </tbody>\n",
       "</table>\n",
       "</div>"
      ],
      "text/plain": [
       "            OrderId     generated\n",
       "count    220.000000    220.000000\n",
       "mean   10664.827273   1484.316091\n",
       "std      235.640635   1594.673307\n",
       "min    10248.000000     12.500000\n",
       "25%    10487.500000    479.850000\n",
       "50%    10666.500000    920.300000\n",
       "75%    10868.250000   1943.500000\n",
       "max    11074.000000  10741.600000"
      ]
     },
     "execution_count": 86,
     "metadata": {},
     "output_type": "execute_result"
    }
   ],
   "source": [
    "brit.describe()"
   ]
  },
  {
   "cell_type": "code",
   "execution_count": 100,
   "metadata": {},
   "outputs": [
    {
     "data": {
      "text/html": [
       "<div>\n",
       "<style scoped>\n",
       "    .dataframe tbody tr th:only-of-type {\n",
       "        vertical-align: middle;\n",
       "    }\n",
       "\n",
       "    .dataframe tbody tr th {\n",
       "        vertical-align: top;\n",
       "    }\n",
       "\n",
       "    .dataframe thead th {\n",
       "        text-align: right;\n",
       "    }\n",
       "</style>\n",
       "<table border=\"1\" class=\"dataframe\">\n",
       "  <thead>\n",
       "    <tr style=\"text-align: right;\">\n",
       "      <th></th>\n",
       "      <th>OrderId</th>\n",
       "      <th>generated</th>\n",
       "    </tr>\n",
       "  </thead>\n",
       "  <tbody>\n",
       "    <tr>\n",
       "      <th>count</th>\n",
       "      <td>606.000000</td>\n",
       "      <td>606.000000</td>\n",
       "    </tr>\n",
       "    <tr>\n",
       "      <th>mean</th>\n",
       "      <td>10661.547855</td>\n",
       "      <td>1611.275165</td>\n",
       "    </tr>\n",
       "    <tr>\n",
       "      <th>std</th>\n",
       "      <td>241.069141</td>\n",
       "      <td>1907.580217</td>\n",
       "    </tr>\n",
       "    <tr>\n",
       "      <th>min</th>\n",
       "      <td>10250.000000</td>\n",
       "      <td>18.400000</td>\n",
       "    </tr>\n",
       "    <tr>\n",
       "      <th>25%</th>\n",
       "      <td>10449.250000</td>\n",
       "      <td>481.100000</td>\n",
       "    </tr>\n",
       "    <tr>\n",
       "      <th>50%</th>\n",
       "      <td>10661.000000</td>\n",
       "      <td>1070.500000</td>\n",
       "    </tr>\n",
       "    <tr>\n",
       "      <th>75%</th>\n",
       "      <td>10871.000000</td>\n",
       "      <td>2028.650000</td>\n",
       "    </tr>\n",
       "    <tr>\n",
       "      <th>max</th>\n",
       "      <td>11077.000000</td>\n",
       "      <td>17250.000000</td>\n",
       "    </tr>\n",
       "  </tbody>\n",
       "</table>\n",
       "</div>"
      ],
      "text/plain": [
       "            OrderId     generated\n",
       "count    606.000000    606.000000\n",
       "mean   10661.547855   1611.275165\n",
       "std      241.069141   1907.580217\n",
       "min    10250.000000     18.400000\n",
       "25%    10449.250000    481.100000\n",
       "50%    10661.000000   1070.500000\n",
       "75%    10871.000000   2028.650000\n",
       "max    11077.000000  17250.000000"
      ]
     },
     "execution_count": 100,
     "metadata": {},
     "output_type": "execute_result"
    }
   ],
   "source": [
    "merica.describe()"
   ]
  },
  {
   "cell_type": "code",
   "execution_count": 84,
   "metadata": {},
   "outputs": [
    {
     "data": {
      "image/png": "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\n",
=======
      "image/png": "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\n",
>>>>>>> 04766fb820eca212a3d7937313ba7748d4fc895c
      "text/plain": [
       "<Figure size 432x288 with 1 Axes>"
      ]
     },
     "metadata": {},
     "output_type": "display_data"
    }
   ],
   "source": [
    "merica['generated'].hist(label='American office')\n",
    "brit['generated'].hist(label='British Isle office')\n",
    "plt.title('Histogram of money generate by based on office location')\n",
    "plt.xlabel('Quantity of money')\n",
    "plt.ylabel('Orders count')\n",
    "plt.legend()\n",
    "plt.show()\n",
    "#plt.savefig('hist of money gen')"
   ]
  },
  {
   "cell_type": "code",
<<<<<<< HEAD
   "execution_count": 85,
=======
   "execution_count": 47,
>>>>>>> 04766fb820eca212a3d7937313ba7748d4fc895c
   "metadata": {},
   "outputs": [
    {
     "name": "stderr",
     "output_type": "stream",
     "text": [
      "/opt/anaconda3/lib/python3.7/site-packages/scipy/stats/stats.py:5700: RuntimeWarning: divide by zero encountered in double_scalars\n",
      "  z = (bigu - meanrank) / sd\n"
     ]
    },
    {
     "data": {
      "text/plain": [
       "MannwhitneyuResult(statistic=0.0, pvalue=0.0)"
      ]
     },
     "execution_count": 85,
     "metadata": {},
     "output_type": "execute_result"
    }
   ],
   "source": [
    "from scipy.stats import mannwhitneyu"
   ]
  },
  {
   "cell_type": "code",
   "execution_count": 50,
   "metadata": {},
   "outputs": [
    {
     "data": {
      "text/plain": [
       "MannwhitneyuResult(statistic=63545.5, pvalue=0.3749479529063807)"
      ]
     },
     "execution_count": 50,
     "metadata": {},
     "output_type": "execute_result"
    }
   ],
   "source": [
    "mannwhitneyu(brit.generated, merica.generated, alternative='two-sided')"
   ]
  },
  {
   "cell_type": "markdown",
   "metadata": {
    "jupyter": {
     "source_hidden": true
    }
   },
   "source": [
    "#### Independent T-test\n",
    "\n",
    "Like every test, this inferential statistic test has assumptions. The assumptions that the data must meet in order for the test results to be valid are:  \n",
    "\n",
    "Independent T-test Assumptions\n",
    "- The samples are independently and randomly drawn\n",
    "- The distribution of the residuals between the two groups should follow the normal distribution\n",
    "- The variances between the two groups are equal\n",
    "\n",
    "The first assumption is met. The second assumption can be suspended given a large enough sample size, therefore independent t-test remains quite robust for violations of normality. [More information](http://thestatsgeek.com/2013/09/28/the-t-test-and-robustness-to-non-normality/) on this topic has been provided.\n",
    "\n",
    "Keep in mind that as a parametric test, the independent t-test delivers best and most reliable results if both groups are normally distributed. Reliability decreases for skewed distributions."
   ]
  },
  {
   "cell_type": "code",
   "execution_count": null,
   "metadata": {},
   "outputs": [],
   "source": [
    "ttest_ind(brit.generated, merica.generated)"
   ]
  },
  {
   "cell_type": "markdown",
   "metadata": {},
   "source": [
    "### 2-3 Results"
   ]
  },
  {
   "cell_type": "markdown",
   "metadata": {},
   "source": [
    "- Failed to reject the null hypothesis. There is no statistical difference between the median revenues generated by the North American office and the British Island office \n",
    "- (p-value > $\\alpha$ :: 0.3749 > 0.05)  \n",
    "- Further testing: choosing a different metric and test out hypothesis again.\n",
    "___\n",
    "___"
   ]
  },
  {
   "cell_type": "markdown",
   "metadata": {},
   "source": [
    "# 3) Does having 'manager' in your title effect the amount a customer orders?\n"
   ]
  },
  {
   "cell_type": "markdown",
   "metadata": {},
   "source": [
    "### 3-1 Inital Analysis\n",
    "The customers that we do business with, there are different tiers of titles that they use. I want to know if a manager typically orders more than other customers.\n",
    "\n",
    "$H_{o} =$ Having manager in your title, the amount a customer orders doesn't change  \n",
    "$H_{a} =$ Having manager in your title, the amount a customer orders changes  \n",
    "$\\alpha = 0.05$"
   ]
  },
  {
   "cell_type": "code",
   "execution_count": null,
   "metadata": {},
   "outputs": [],
   "source": [
    "get_column_info('Customer')"
   ]
  },
  {
   "cell_type": "code",
   "execution_count": 51,
   "metadata": {},
   "outputs": [
    {
     "name": "stdout",
     "output_type": "stream",
     "text": [
      "2020-02-10 12:15:05,648 INFO sqlalchemy.engine.base.Engine SELECT c.CompanyName, c.ContactTitle, COUNT(*) AS orders_placed FROM OrderDetail od LEFT JOIN [Order] o ON od.OrderId = o.Id LEFT JOIN Customer c ON c.Id = o.CustomerId GROUP BY c.CompanyName\n",
      "2020-02-10 12:15:05,648 INFO sqlalchemy.engine.base.Engine ()\n"
     ]
    },
    {
     "data": {
      "text/html": [
       "<div>\n",
       "<style scoped>\n",
       "    .dataframe tbody tr th:only-of-type {\n",
       "        vertical-align: middle;\n",
       "    }\n",
       "\n",
       "    .dataframe tbody tr th {\n",
       "        vertical-align: top;\n",
       "    }\n",
       "\n",
       "    .dataframe thead th {\n",
       "        text-align: right;\n",
       "    }\n",
       "</style>\n",
       "<table border=\"1\" class=\"dataframe\">\n",
       "  <thead>\n",
       "    <tr style=\"text-align: right;\">\n",
       "      <th></th>\n",
       "      <th>CompanyName</th>\n",
       "      <th>ContactTitle</th>\n",
       "      <th>orders_placed</th>\n",
       "    </tr>\n",
       "  </thead>\n",
       "  <tbody>\n",
       "    <tr>\n",
       "      <th>0</th>\n",
       "      <td>None</td>\n",
       "      <td>None</td>\n",
       "      <td>77</td>\n",
       "    </tr>\n",
       "    <tr>\n",
       "      <th>1</th>\n",
       "      <td>Alfreds Futterkiste</td>\n",
       "      <td>Sales Representative</td>\n",
       "      <td>12</td>\n",
       "    </tr>\n",
       "    <tr>\n",
       "      <th>2</th>\n",
       "      <td>Ana Trujillo Emparedados y helados</td>\n",
       "      <td>Owner</td>\n",
       "      <td>10</td>\n",
       "    </tr>\n",
       "    <tr>\n",
       "      <th>3</th>\n",
       "      <td>Around the Horn</td>\n",
       "      <td>Sales Representative</td>\n",
       "      <td>30</td>\n",
       "    </tr>\n",
       "    <tr>\n",
       "      <th>4</th>\n",
       "      <td>B's Beverages</td>\n",
       "      <td>Sales Representative</td>\n",
       "      <td>22</td>\n",
       "    </tr>\n",
       "    <tr>\n",
       "      <th>5</th>\n",
       "      <td>Berglunds snabbköp</td>\n",
       "      <td>Order Administrator</td>\n",
       "      <td>52</td>\n",
       "    </tr>\n",
       "    <tr>\n",
       "      <th>6</th>\n",
       "      <td>Blauer See Delikatessen</td>\n",
       "      <td>Sales Representative</td>\n",
       "      <td>14</td>\n",
       "    </tr>\n",
       "    <tr>\n",
       "      <th>7</th>\n",
       "      <td>Blondesddsl père et fils</td>\n",
       "      <td>Marketing Manager</td>\n",
       "      <td>26</td>\n",
       "    </tr>\n",
       "    <tr>\n",
       "      <th>8</th>\n",
       "      <td>Bon app</td>\n",
       "      <td>Owner</td>\n",
       "      <td>44</td>\n",
       "    </tr>\n",
       "    <tr>\n",
       "      <th>9</th>\n",
       "      <td>Bottom-Dollar Markets</td>\n",
       "      <td>Accounting Manager</td>\n",
       "      <td>35</td>\n",
       "    </tr>\n",
       "  </tbody>\n",
       "</table>\n",
       "</div>"
      ],
      "text/plain": [
       "                          CompanyName          ContactTitle  orders_placed\n",
       "0                                None                  None             77\n",
       "1                 Alfreds Futterkiste  Sales Representative             12\n",
       "2  Ana Trujillo Emparedados y helados                 Owner             10\n",
       "3                     Around the Horn  Sales Representative             30\n",
       "4                       B's Beverages  Sales Representative             22\n",
       "5                  Berglunds snabbköp   Order Administrator             52\n",
       "6             Blauer See Delikatessen  Sales Representative             14\n",
       "7            Blondesddsl père et fils     Marketing Manager             26\n",
       "8                             Bon app                 Owner             44\n",
       "9               Bottom-Dollar Markets    Accounting Manager             35"
      ]
     },
     "execution_count": 51,
     "metadata": {},
     "output_type": "execute_result"
    }
   ],
   "source": [
    "q = '''SELECT c.CompanyName, c.ContactTitle, COUNT(*) AS orders_placed \\\n",
    "FROM OrderDetail od \\\n",
    "LEFT JOIN [Order] o ON od.OrderId = o.Id \\\n",
    "LEFT JOIN Customer c ON c.Id = o.CustomerId \\\n",
    "GROUP BY c.CompanyName'''\n",
    "\n",
    "df = pd.read_sql_query(q, engine)\n",
    "df.head(10)"
   ]
  },
  {
   "cell_type": "code",
   "execution_count": 52,
   "metadata": {},
   "outputs": [
    {
     "data": {
      "text/plain": [
       "2155"
      ]
     },
     "execution_count": 52,
     "metadata": {},
     "output_type": "execute_result"
    }
   ],
   "source": [
    "df.orders_placed.sum()"
   ]
  },
  {
   "cell_type": "markdown",
   "metadata": {},
   "source": [
    "Good, we have all of the orders placed. There seems be a few ghost orders, someone placing some personal orders, or some testing data. Nevertheless, I will need to remove them."
   ]
  },
  {
   "cell_type": "code",
   "execution_count": 53,
   "metadata": {},
   "outputs": [
    {
     "data": {
      "text/html": [
       "<div>\n",
       "<style scoped>\n",
       "    .dataframe tbody tr th:only-of-type {\n",
       "        vertical-align: middle;\n",
       "    }\n",
       "\n",
       "    .dataframe tbody tr th {\n",
       "        vertical-align: top;\n",
       "    }\n",
       "\n",
       "    .dataframe thead th {\n",
       "        text-align: right;\n",
       "    }\n",
       "</style>\n",
       "<table border=\"1\" class=\"dataframe\">\n",
       "  <thead>\n",
       "    <tr style=\"text-align: right;\">\n",
       "      <th></th>\n",
       "      <th>orders_placed</th>\n",
       "    </tr>\n",
       "  </thead>\n",
       "  <tbody>\n",
       "    <tr>\n",
       "      <th>count</th>\n",
       "      <td>85.000000</td>\n",
       "    </tr>\n",
       "    <tr>\n",
       "      <th>mean</th>\n",
       "      <td>24.447059</td>\n",
       "    </tr>\n",
       "    <tr>\n",
       "      <th>std</th>\n",
       "      <td>20.049050</td>\n",
       "    </tr>\n",
       "    <tr>\n",
       "      <th>min</th>\n",
       "      <td>2.000000</td>\n",
       "    </tr>\n",
       "    <tr>\n",
       "      <th>25%</th>\n",
       "      <td>11.000000</td>\n",
       "    </tr>\n",
       "    <tr>\n",
       "      <th>50%</th>\n",
       "      <td>20.000000</td>\n",
       "    </tr>\n",
       "    <tr>\n",
       "      <th>75%</th>\n",
       "      <td>31.000000</td>\n",
       "    </tr>\n",
       "    <tr>\n",
       "      <th>max</th>\n",
       "      <td>116.000000</td>\n",
       "    </tr>\n",
       "  </tbody>\n",
       "</table>\n",
       "</div>"
      ],
      "text/plain": [
       "       orders_placed\n",
       "count      85.000000\n",
       "mean       24.447059\n",
       "std        20.049050\n",
       "min         2.000000\n",
       "25%        11.000000\n",
       "50%        20.000000\n",
       "75%        31.000000\n",
       "max       116.000000"
      ]
     },
     "execution_count": 53,
     "metadata": {},
     "output_type": "execute_result"
    }
   ],
   "source": [
    "df.drop(index=0, inplace=True)\n",
    "df.describe()"
   ]
  },
  {
   "cell_type": "markdown",
   "metadata": {},
   "source": [
    "Now encoding manager title vs no mananger title."
   ]
  },
  {
   "cell_type": "code",
   "execution_count": null,
   "metadata": {},
   "outputs": [],
   "source": [
    "df['is_mgmt'] = np.where(df.ContactTitle.str.contains('anager'),1,0) #also could have used .lower() to include the full word"
   ]
  },
  {
   "cell_type": "code",
   "execution_count": null,
   "metadata": {},
   "outputs": [],
   "source": [
    "df.head(10)"
   ]
  },
  {
   "cell_type": "code",
   "execution_count": null,
   "metadata": {},
   "outputs": [],
   "source": [
    "plt.figure(figsize=(12,12))\n",
    "sns.violinplot(y='orders_placed',x='is_mgmt', data=df)\n",
    "plt.title('Violin plots: comparing the distribution of management vs non-management')\n",
    "plt.xlabel('Is management')\n",
    "plt.ylabel('Number of items in order');"
   ]
  },
  {
   "cell_type": "code",
   "execution_count": null,
   "metadata": {},
   "outputs": [],
   "source": [
    "df.groupby('is_mgmt').orders_placed.idxmax(),df.groupby('is_mgmt').orders_placed.max()"
   ]
  },
  {
   "cell_type": "code",
   "execution_count": null,
   "metadata": {},
   "outputs": [],
   "source": [
    "df.drop(index=[66,19], inplace=True)\n",
    "#df.drop(index=[57], inplace=True)"
   ]
  },
  {
   "cell_type": "code",
   "execution_count": null,
   "metadata": {},
   "outputs": [],
   "source": [
    "plt.figure(figsize=(12,12))\n",
    "sns.violinplot(y='orders_placed',x='is_mgmt', data=df)\n",
    "plt.title('Violin plots: comparing the distribution of management vs non-management')\n",
    "plt.xlabel('Is management')\n",
    "plt.ylabel('Number of items in order');"
   ]
  },
  {
   "cell_type": "markdown",
   "metadata": {},
   "source": [
    "## 3-2 Testing\n",
    "\n",
    "I will perform both the independent T-test as well as Mann-Whitney U test.  \n",
    "\n",
    "See section 2-2 for supporting documentation"
   ]
  },
  {
   "cell_type": "code",
   "execution_count": null,
   "metadata": {},
   "outputs": [],
   "source": [
    "mgmt_yes = df.orders_placed[df.is_mgmt == 1]\n",
    "mgmt_no = df.orders_placed[df.is_mgmt == 0]\n",
    "ttest_ind(mgmt_yes, mgmt_no)"
   ]
  },
  {
   "cell_type": "code",
   "execution_count": null,
   "metadata": {},
   "outputs": [],
   "source": [
    "mannwhitneyu(mgmt_no, mgmt_yes)"
   ]
  },
  {
   "cell_type": "markdown",
   "metadata": {},
   "source": [
    "## 3-3 Results"
   ]
  },
  {
   "cell_type": "markdown",
   "metadata": {},
   "source": [
    "- Failed to reject the null hypothesis. As a customer having manager in your title, the quantity ordered _doesn't signifgantly change_ compared to customers without that title  \n",
    "- p-value > $\\alpha$ :: 0.2241 > 0.05\n",
    "- Further testing: change the criteria in which the customers are grouped. Include 'owner' title with the 'manager' title and compare results.\n",
    "___\n",
    "___"
   ]
  },
  {
   "cell_type": "markdown",
   "metadata": {},
   "source": [
    "RESOUCES:\n",
    "\n",
    "https://www.ncbi.nlm.nih.gov/pmc/articles/PMC3116565/\n",
    "\n",
    "https://pythonfordatascience.org/"
   ]
  }
 ],
 "metadata": {
  "kernelspec": {
   "display_name": "Python 3",
   "language": "python",
   "name": "python3"
  },
  "language_info": {
   "codemirror_mode": {
    "name": "ipython",
    "version": 3
   },
   "file_extension": ".py",
   "mimetype": "text/x-python",
   "name": "python",
   "nbconvert_exporter": "python",
   "pygments_lexer": "ipython3",
   "version": "3.7.4"
  }
 },
 "nbformat": 4,
 "nbformat_minor": 4
}
