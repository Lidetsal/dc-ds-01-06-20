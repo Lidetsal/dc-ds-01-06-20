{
 "cells": [
  {
   "cell_type": "markdown",
   "metadata": {},
   "source": [
    "# Agenda\n",
    "\n",
    "- Random Variables Definition\n",
    "    \n",
    "- Discrete Random Variables\n",
    "\n",
    "- Probability Mass Functions and Cumulative Mass Functions for Discrete Random Variables\n",
    "\n",
    "- Continuous Random Variables\n",
    "\n",
    "- Probability Density Functions and Cumulative Density Functions for Continuous Random Variables.\n",
    "\n",
    "\n",
    "## Random Variables\n",
    "\n",
    "Informally: \"A variable whouse values depend on outcomes of a random phenomenon\"\n",
    "\n",
    "More informally: \"A map from a random process's outcomes to numbers\"\"\n",
    "\n",
    "What about formally? Let's see!\n",
    "\n",
    "[Note you really don't want to do this but it's your choice: Read definition part from Wikipedia](https://en.wikipedia.org/wiki/Random_variable)\n"
   ]
  },
  {
   "cell_type": "markdown",
   "metadata": {},
   "source": [
    "### Examples\n",
    "\n",
    "Let's start with a traditional one:\n",
    "\n",
    "__Example:__\n",
    "Experiment: rolling two dice: \n",
    "\n",
    "$X$ -- (This is usually how we denote a random variable.) {Sum of numbers on the dice}\n",
    "\n",
    "Q: what are the possible values of $X$:\n",
    "\n",
    "__Example:__ \n",
    "\n",
    "Experiment: Tossing a coin \n",
    "\n",
    "$X = 15$ if it is Head and $X =-10$ if it is Tail.\n",
    "\n",
    "\n",
    "__Example:__ \n",
    "\n",
    "Experiment: Choosing a random person from Lafayatte Square\n",
    "\n",
    "$Y$: This person's exact height in meters. \n",
    "\n",
    "Q: What are the possible values that Y can take?\n",
    "\n",
    "__Example:__ \n",
    "\n",
    "Experiment: Pick a random point from the unit square.\n",
    "\n",
    "$Z$: The x-coordinate of the point\n",
    "\n",
    "Q: What are the possible values that Z can take?"
   ]
  },
  {
   "cell_type": "code",
   "execution_count": 3,
   "metadata": {},
   "outputs": [
    {
     "data": {
      "text/plain": [
       "[('diamonds', 'A'),\n",
       " ('diamonds', '2'),\n",
       " ('diamonds', '3'),\n",
       " ('diamonds', '4'),\n",
       " ('diamonds', '5'),\n",
       " ('diamonds', '6'),\n",
       " ('diamonds', '7'),\n",
       " ('diamonds', '8'),\n",
       " ('diamonds', '9'),\n",
       " ('diamonds', '10'),\n",
       " ('diamonds', 'J'),\n",
       " ('diamonds', 'Q'),\n",
       " ('diamonds', 'K'),\n",
       " ('clubs', 'A'),\n",
       " ('clubs', '2'),\n",
       " ('clubs', '3'),\n",
       " ('clubs', '4'),\n",
       " ('clubs', '5'),\n",
       " ('clubs', '6'),\n",
       " ('clubs', '7'),\n",
       " ('clubs', '8'),\n",
       " ('clubs', '9'),\n",
       " ('clubs', '10'),\n",
       " ('clubs', 'J'),\n",
       " ('clubs', 'Q'),\n",
       " ('clubs', 'K'),\n",
       " ('hearts', 'A'),\n",
       " ('hearts', '2'),\n",
       " ('hearts', '3'),\n",
       " ('hearts', '4'),\n",
       " ('hearts', '5'),\n",
       " ('hearts', '6'),\n",
       " ('hearts', '7'),\n",
       " ('hearts', '8'),\n",
       " ('hearts', '9'),\n",
       " ('hearts', '10'),\n",
       " ('hearts', 'J'),\n",
       " ('hearts', 'Q'),\n",
       " ('hearts', 'K'),\n",
       " ('spades', 'A'),\n",
       " ('spades', '2'),\n",
       " ('spades', '3'),\n",
       " ('spades', '4'),\n",
       " ('spades', '5'),\n",
       " ('spades', '6'),\n",
       " ('spades', '7'),\n",
       " ('spades', '8'),\n",
       " ('spades', '9'),\n",
       " ('spades', '10'),\n",
       " ('spades', 'J'),\n",
       " ('spades', 'Q'),\n",
       " ('spades', 'K')]"
      ]
     },
     "execution_count": 3,
     "metadata": {},
     "output_type": "execute_result"
    }
   ],
   "source": [
    "import itertools\n",
    "import numpy as np\n",
    "\n",
    "## let's create a deck of cards\n",
    "suits = ['diamonds', 'clubs', 'hearts', 'spades']\n",
    "\n",
    "values = ['A', '2', '3', '4', '5', '6', '7', '8', '9', '10', 'J', 'Q', 'K']\n",
    "\n",
    "cards = list(itertools.product(suits, values))\n",
    "\n",
    "cards"
   ]
  },
  {
   "cell_type": "markdown",
   "metadata": {},
   "source": [
    "__Your Turn__\n",
    "\n",
    "- Write a function that returns the sample space for the experiment of picking two cards from a deck of cards (without replacement)."
   ]
  },
  {
   "cell_type": "code",
   "execution_count": 18,
   "metadata": {},
   "outputs": [
    {
     "data": {
      "text/plain": [
       "(('diamonds', 'A'), ('diamonds', '2'))"
      ]
     },
     "execution_count": 18,
     "metadata": {},
     "output_type": "execute_result"
    }
   ],
   "source": [
    "# %load -r 1-7 supplement.py\n",
    "\n",
    "def create_sample_space(cards):\n",
    "    sample_space = list(itertools.combinations(cards, 2))\n",
    "    return sample_space\n",
    "\n",
    "sample_space = create_sample_space(cards)\n",
    "\n",
    "sample_space[0]"
   ]
  },
  {
   "cell_type": "code",
   "execution_count": null,
   "metadata": {},
   "outputs": [],
   "source": []
  },
  {
   "cell_type": "code",
   "execution_count": null,
   "metadata": {},
   "outputs": [],
   "source": [
    "\n",
    "\n",
    "\n"
   ]
  },
  {
   "cell_type": "code",
   "execution_count": null,
   "metadata": {},
   "outputs": [],
   "source": []
  },
  {
   "cell_type": "markdown",
   "metadata": {},
   "source": [
    "Let's us define a function $X: S \\to \\mathbb{N}$ on this sample space such that when X(card1, card2) = card1 + card2. \n",
    "\n",
    "(J = 10, Q = 10, K=10, A = 1)\n",
    "\n",
    "Let's write this function in code:"
   ]
  },
  {
   "cell_type": "markdown",
   "metadata": {},
   "source": [
    "__Your Turn__\n",
    "\n",
    "- Write a function that corresponds to this random variable"
   ]
  },
  {
   "cell_type": "code",
   "execution_count": 20,
   "metadata": {},
   "outputs": [],
   "source": [
    "royals = {'A': 1, 'J': 10, 'Q': 10, 'K': 10}\n",
    "\n",
    "def random_variable(two_cards):\n",
    "    \"\"\"two cards will be tuple of tuples in the form (('diamonds', 'A'), ('diamonds', '3'))\"\"\"\n",
    "    return total\n",
    "\n",
    "## later on we will use this function as in this way\n",
    "\n",
    "\n",
    "## Choose a two_cards randomly\n",
    "\n",
    "# card_index = np.random.choice(len(sample_space), 1)[0]\n",
    "# print(sample_space[card_index])\n",
    "\n",
    "## Call the random_variable\n",
    "# random_variable(sample_space[card_index])\n",
    "\n"
   ]
  },
  {
   "cell_type": "code",
   "execution_count": 24,
   "metadata": {},
   "outputs": [
    {
     "name": "stdout",
     "output_type": "stream",
     "text": [
      "(('clubs', '4'), ('spades', '3'))\n"
     ]
    },
    {
     "data": {
      "text/plain": [
       "7"
      ]
     },
     "execution_count": 24,
     "metadata": {},
     "output_type": "execute_result"
    }
   ],
   "source": [
    "# %load -r 9-22 supplement.py\n",
    "def random_variable(two_cards):\n",
    "    \"\"\"two cards will be tuple of tuples in the form (('diamonds', 'A'), ('diamonds', '3'))\"\"\"\n",
    "    card1 = two_cards[0][1]\n",
    "    card2 = two_cards[1][1]\n",
    "    if card1 in royals:\n",
    "        card1 = royals[card1]\n",
    "    if card2 in royals:\n",
    "        card2 = royals[card2]\n",
    "    total = int(card1) + int(card2)\n",
    "    return total\n",
    "\n",
    "card_index = np.random.choice(len(sample_space), 1)[0]\n",
    "print(sample_space[card_index])\n",
    "random_variable(sample_space[card_index])"
   ]
  },
  {
   "cell_type": "code",
   "execution_count": null,
   "metadata": {},
   "outputs": [],
   "source": []
  },
  {
   "cell_type": "raw",
   "metadata": {},
   "source": []
  },
  {
   "cell_type": "markdown",
   "metadata": {},
   "source": [
    "### Discrete and Continuous Random Variables\n",
    "\n",
    "- Note that in the examples above we can count possible values for some random variables. These random variables are called __discrete random variables__.\n",
    "\n",
    "- In other cases, it is not possible to be able to count exact possible values of a random variables. These are called __continuous random variables__. We can also say that continuous random variables can take any value in a range.\n",
    "\n",
    "\n",
    "Q: Let's go back and decide which random variables are continuous and which ones are discrete.\n",
    "\n",
    "## Distributions\n",
    "\n",
    "Why do we study random variables?\n",
    "\n",
    "- Random variables most of the time more relevant to the problem we would like to solve. \n",
    "\n",
    "Q: What is the probability distribution of a random variable?\n",
    "\n",
    "A: It is a function from a random variables possible values to numbers again. \n",
    "\n",
    "- Exact definition of a distribution changes slightly depending on whether we are working with a discrete random variable or a continuous one. \n",
    "\n",
    "### Probability Mass Function\n",
    "\n",
    "[For formal discussion](https://www.itl.nist.gov/div898/handbook/eda/section3/eda361.htm)\n",
    "\n",
    "The probability mass function is the function which describes the probability associated with the random variable x. This function is named p(x) or P(X=x) to avoid confusion. P(X=x) corresponds to the probability that the random variable x take the value X \n",
    "\n",
    "### Simulation\n",
    "\n",
    "Finding the probability mass function for the basic Black Jack game we created above."
   ]
  },
  {
   "cell_type": "markdown",
   "metadata": {},
   "source": [
    "__Your Turn__\n",
    "\n",
    "- Find all possible values that random_variable function can take and keep these values in a list."
   ]
  },
  {
   "cell_type": "code",
   "execution_count": null,
   "metadata": {},
   "outputs": [],
   "source": [
    "## all_values = "
   ]
  },
  {
   "cell_type": "code",
   "execution_count": null,
   "metadata": {},
   "outputs": [],
   "source": [
    "# %load -r 25 supplement.py\n",
    "all_values = [random_variable(a) for a in sample_space]"
   ]
  },
  {
   "cell_type": "markdown",
   "metadata": {},
   "source": [
    "Plotting Frequencies"
   ]
  },
  {
   "cell_type": "code",
   "execution_count": 43,
   "metadata": {},
   "outputs": [
    {
     "data": {
      "text/plain": [
       "Counter({3: 16,\n",
       "         4: 22,\n",
       "         5: 32,\n",
       "         6: 38,\n",
       "         7: 48,\n",
       "         8: 54,\n",
       "         9: 64,\n",
       "         10: 70,\n",
       "         11: 128,\n",
       "         2: 6,\n",
       "         12: 118,\n",
       "         13: 112,\n",
       "         14: 102,\n",
       "         15: 96,\n",
       "         16: 86,\n",
       "         17: 80,\n",
       "         18: 70,\n",
       "         19: 64,\n",
       "         20: 120})"
      ]
     },
     "execution_count": 43,
     "metadata": {},
     "output_type": "execute_result"
    }
   ],
   "source": [
    "counter = Counter(all_values)\n",
    "\n",
    "counter"
   ]
  },
  {
   "cell_type": "code",
   "execution_count": null,
   "metadata": {},
   "outputs": [],
   "source": []
  },
  {
   "cell_type": "code",
   "execution_count": null,
   "metadata": {},
   "outputs": [],
   "source": []
  },
  {
   "cell_type": "code",
   "execution_count": 39,
   "metadata": {},
   "outputs": [],
   "source": [
    "import matplotlib.pyplot as plt\n",
    "%matplotlib inline"
   ]
  },
  {
   "cell_type": "code",
   "execution_count": 40,
   "metadata": {},
   "outputs": [
    {
     "data": {
      "image/png": "[encoded data removed]",
      "text/plain": [
       "<Figure size 432x288 with 1 Axes>"
      ]
     },
     "metadata": {
      "needs_background": "light"
     },
     "output_type": "display_data"
    }
   ],
   "source": [
    "# plotting the hist\n",
    "n, bins, patches = plt.hist(x=all_values, bins=range(2,28), color='#0504aa',\n",
    "                            alpha=0.5, rwidth= 0.8,align = 'left' )\n",
    "\n",
    "plt.xticks(range(2,28,2))\n",
    "\n",
    "maxfreq = n.max()\n",
    "# Set a clean upper y-axis limit.\n",
    "plt.ylim(ymax=np.ceil(maxfreq / 10) * 10 if maxfreq % 10 else maxfreq + 10)\n",
    "\n",
    "#labeling axis and title\n",
    "plt.xlabel('Sum of Cards')\n",
    "plt.ylabel('How frequently we can get such sum')\n",
    "plt.title('Frequencies of the values of random variables')\n",
    "\n",
    "plt.grid(axis='y', alpha=0.2)\n",
    "\n",
    "plt.show()"
   ]
  },
  {
   "cell_type": "markdown",
   "metadata": {},
   "source": [
    "Counting Frequencies"
   ]
  },
  {
   "cell_type": "code",
   "execution_count": 35,
   "metadata": {},
   "outputs": [],
   "source": [
    "from collections import Counter"
   ]
  },
  {
   "cell_type": "markdown",
   "metadata": {},
   "source": [
    "Let's find how many times a value might appear. "
   ]
  },
  {
   "cell_type": "code",
   "execution_count": null,
   "metadata": {},
   "outputs": [],
   "source": [
    "# counter = Counter( -- your code here --)"
   ]
  },
  {
   "cell_type": "code",
   "execution_count": null,
   "metadata": {},
   "outputs": [],
   "source": [
    "# %load -r 27 supplement.py\n",
    "counter = Counter(all_values)"
   ]
  },
  {
   "cell_type": "markdown",
   "metadata": {},
   "source": [
    "Now as we have the counts we can convert them to probabilities: "
   ]
  },
  {
   "cell_type": "markdown",
   "metadata": {},
   "source": [
    "__Your Turn__\n",
    "\n",
    "- Write a code that finds possible values and the probability of this value. Keep these results in a dictionary\n",
    "\n",
    "- pmf[12] = 0.089 (pmf will be a dictionary)"
   ]
  },
  {
   "cell_type": "code",
   "execution_count": 44,
   "metadata": {},
   "outputs": [
    {
     "name": "stdout",
     "output_type": "stream",
     "text": [
      "{3: 0.0121, 4: 0.0166, 5: 0.0241, 6: 0.0287, 7: 0.0362, 8: 0.0407, 9: 0.0483, 10: 0.0528, 11: 0.0965, 2: 0.0045, 12: 0.089, 13: 0.0845, 14: 0.0769, 15: 0.0724, 16: 0.0649, 17: 0.0603, 18: 0.0528, 19: 0.0483, 20: 0.0905}\n"
     ]
    }
   ],
   "source": [
    "# %load -r 29-33 supplement.py\n",
    "pmf = {}\n",
    "for key, val in counter.items():\n",
    "    pmf[key] = (round(val / len(all_values), 4))\n",
    "\n",
    "print(pmf)"
   ]
  },
  {
   "cell_type": "code",
   "execution_count": 45,
   "metadata": {},
   "outputs": [
    {
     "data": {
      "text/plain": [
       "0.089"
      ]
     },
     "execution_count": 45,
     "metadata": {},
     "output_type": "execute_result"
    }
   ],
   "source": [
    "pmf[12]"
   ]
  },
  {
   "cell_type": "code",
   "execution_count": null,
   "metadata": {
    "scrolled": true
   },
   "outputs": [],
   "source": [
    "## we can plot the probability mass function\n",
    "plt.bar(pmf.keys(), pmf.values())\n",
    "\n",
    "plt.xticks(range(1,21,2))\n",
    "\n",
    "plt.xlabel('Possible values')\n",
    "plt.ylabel('Corresponding Probabilities')\n",
    "\n",
    "plt.show()"
   ]
  },
  {
   "cell_type": "markdown",
   "metadata": {},
   "source": [
    "### Cumulative Mass Function\n",
    "\n",
    "\n",
    "The CDF is a function of $x$ just like a PMF or a PDF, where $x$ is any value that can possibly appear in a given distribution. To calculate the $CDF(x)$ for any value of $x$, we compute the proportion of values in the distribution less than or equal to $x$ as follows:\n",
    "\n",
    "$$\\large F(x) = P(X \\leq x)$$\n",
    "\n",
    "> The Cumulative Distribution Function, CDF, gives the probability that the variable $X$ is less than or equal to a certain possible value $x$. \n",
    "\n"
   ]
  },
  {
   "cell_type": "code",
   "execution_count": 46,
   "metadata": {},
   "outputs": [
    {
     "data": {
      "image/png": "[encoded data removed]",
      "text/plain": [
       "<Figure size 432x288 with 1 Axes>"
      ]
     },
     "metadata": {
      "needs_background": "light"
     },
     "output_type": "display_data"
    }
   ],
   "source": [
    "# plot cumulative mass function\n",
    "\n",
    "x = np.unique(all_values, return_counts=True)[0]\n",
    "y = np.cumsum(np.unique(all_values, return_counts=True)[1])/len(all_values)\n",
    "plt.plot(x, y, marker='.', linestyle='none')\n",
    "plt.show()"
   ]
  },
  {
   "cell_type": "code",
   "execution_count": 47,
   "metadata": {},
   "outputs": [
    {
     "data": {
      "text/plain": [
       "{2: 0.004524886877828055,\n",
       " 3: 0.016591251885369532,\n",
       " 4: 0.033182503770739065,\n",
       " 5: 0.05731523378582202,\n",
       " 6: 0.08597285067873303,\n",
       " 7: 0.12217194570135746,\n",
       " 8: 0.16289592760180996,\n",
       " 9: 0.21116138763197587,\n",
       " 10: 0.26395173453996984,\n",
       " 11: 0.36048265460030166,\n",
       " 12: 0.4494720965309201,\n",
       " 13: 0.5339366515837104,\n",
       " 14: 0.6108597285067874,\n",
       " 15: 0.6832579185520362,\n",
       " 16: 0.7481146304675717,\n",
       " 17: 0.808446455505279,\n",
       " 18: 0.861236802413273,\n",
       " 19: 0.9095022624434389,\n",
       " 20: 1.0}"
      ]
     },
     "execution_count": 47,
     "metadata": {},
     "output_type": "execute_result"
    }
   ],
   "source": [
    "cdf = dict(zip(x,y))\n",
    "\n",
    "cdf"
   ]
  },
  {
   "cell_type": "markdown",
   "metadata": {},
   "source": [
    "### Further Discussions\n",
    "\n",
    "\n",
    "- Please read the corresponding material form learn.co. Especially the definitions of expected values and variance.\n",
    "\n",
    "- Note that one of the most important discrete distribution is Bernoulli and Binomial distributions. We will discuss these in more details but make sure that you read the corresponding material in learn.co."
   ]
  },
  {
   "cell_type": "markdown",
   "metadata": {},
   "source": [
    "## Probability Density Functions\n",
    "\n",
    "- First observation: For a cont. random variable the probability of getting an exact value is always zero. (Bummer!!)\n",
    "\n",
    "- In that sense, instead of exact probabilities we will talk about density of the random variables. \n",
    "\n",
    "\n",
    "- A Probability Density Function (PDF) helps identify the regions in the distribution where observations are more likely to occur, in other words, where the observation occurrence is more dense.\n",
    "\n",
    "\n",
    "<img src=\"img/probability_for_continuous_rv.png\" width=\"650\">\n",
    "\n",
    "- In this case, probability is found by the following formula: \n",
    "\n",
    "$$\\large P(82 \\leq X \\leq 85) = \\int_{82}^{85} f_x(x) dx \\geq 0 $$\n",
    "\n",
    "- Let's consider the example where the random variable is the exact measure of height of a randomly chosen person from Lafayatte Park.\n",
    "\n",
    "[Let's use a function to simulate this situation](https://learn.co/tracks/data-science-career-v2/module-3-probability-sampling-and-ab-testing/section-18-statistical-distributions/the-probability-density-function)\n"
   ]
  },
  {
   "cell_type": "code",
   "execution_count": null,
   "metadata": {},
   "outputs": [],
   "source": []
  }
 ],
 "metadata": {
  "kernelspec": {
   "display_name": "Python 3",
   "language": "python",
   "name": "python3"
  },
  "language_info": {
   "codemirror_mode": {
    "name": "ipython",
    "version": 3
   },
   "file_extension": ".py",
   "mimetype": "text/x-python",
   "name": "python",
   "nbconvert_exporter": "python",
   "pygments_lexer": "ipython3",
   "version": "3.7.4"
  },
  "toc": {
   "base_numbering": 1,
   "nav_menu": {},
   "number_sections": true,
   "sideBar": true,
   "skip_h1_title": false,
   "title_cell": "Table of Contents",
   "title_sidebar": "Contents",
   "toc_cell": false,
   "toc_position": {
    "height": "calc(100% - 180px)",
    "left": "10px",
    "top": "150px",
    "width": "165px"
   },
   "toc_section_display": true,
   "toc_window_display": false
  }
 },
 "nbformat": 4,
 "nbformat_minor": 2
}
