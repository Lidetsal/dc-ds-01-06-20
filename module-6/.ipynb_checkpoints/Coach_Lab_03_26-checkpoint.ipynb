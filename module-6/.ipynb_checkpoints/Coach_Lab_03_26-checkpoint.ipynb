{
 "cells": [
  {
   "cell_type": "code",
   "execution_count": null,
   "metadata": {},
   "outputs": [],
   "source": [
    "import seaborn as sns\n",
    "import matplotlib.pyplot as plt\n",
    "corr = X_train.corr()\n",
    "plt.figure(figsize=(10,9))\n",
    "sns.heatmap(corr, xticklabels=corr.columns,\n",
    "           yticklabels=corr.columns)"
   ]
  },
  {
   "cell_type": "code",
   "execution_count": 76,
   "metadata": {},
   "outputs": [],
   "source": [
    "import pandas as pd\n",
    "import numpy as np\n",
    "from sklearn.linear_model import LogisticRegression\n",
    "from sklearn.ensemble import AdaBoostClassifier\n",
    "from sklearn.ensemble import RandomForestClassifier\n"
   ]
  },
  {
   "cell_type": "code",
   "execution_count": null,
   "metadata": {},
   "outputs": [],
   "source": [
    "test_file = pd.read_csv('/Users/lidetalemu/Downloads/)"
   ]
  },
  {
   "cell_type": "code",
   "execution_count": 90,
   "metadata": {},
   "outputs": [
    {
     "data": {
      "text/html": [
       "<div>\n",
       "<style scoped>\n",
       "    .dataframe tbody tr th:only-of-type {\n",
       "        vertical-align: middle;\n",
       "    }\n",
       "\n",
       "    .dataframe tbody tr th {\n",
       "        vertical-align: top;\n",
       "    }\n",
       "\n",
       "    .dataframe thead th {\n",
       "        text-align: right;\n",
       "    }\n",
       "</style>\n",
       "<table border=\"1\" class=\"dataframe\">\n",
       "  <thead>\n",
       "    <tr style=\"text-align: right;\">\n",
       "      <th></th>\n",
       "      <th>fixed acidity</th>\n",
       "      <th>volatile acidity</th>\n",
       "      <th>citric acid</th>\n",
       "      <th>residual sugar</th>\n",
       "      <th>chlorides</th>\n",
       "      <th>free sulfur dioxide</th>\n",
       "      <th>total sulfur dioxide</th>\n",
       "      <th>density</th>\n",
       "      <th>pH</th>\n",
       "      <th>sulphates</th>\n",
       "      <th>alcohol</th>\n",
       "      <th>quality</th>\n",
       "    </tr>\n",
       "  </thead>\n",
       "  <tbody>\n",
       "    <tr>\n",
       "      <th>949</th>\n",
       "      <td>8.9</td>\n",
       "      <td>0.120</td>\n",
       "      <td>0.45</td>\n",
       "      <td>1.8</td>\n",
       "      <td>0.075</td>\n",
       "      <td>10.0</td>\n",
       "      <td>21.0</td>\n",
       "      <td>0.99552</td>\n",
       "      <td>3.41</td>\n",
       "      <td>0.76</td>\n",
       "      <td>11.9</td>\n",
       "      <td>1</td>\n",
       "    </tr>\n",
       "    <tr>\n",
       "      <th>591</th>\n",
       "      <td>6.6</td>\n",
       "      <td>0.390</td>\n",
       "      <td>0.49</td>\n",
       "      <td>1.7</td>\n",
       "      <td>0.070</td>\n",
       "      <td>23.0</td>\n",
       "      <td>149.0</td>\n",
       "      <td>0.99220</td>\n",
       "      <td>3.12</td>\n",
       "      <td>0.50</td>\n",
       "      <td>11.5</td>\n",
       "      <td>1</td>\n",
       "    </tr>\n",
       "    <tr>\n",
       "      <th>1512</th>\n",
       "      <td>6.4</td>\n",
       "      <td>0.790</td>\n",
       "      <td>0.04</td>\n",
       "      <td>2.2</td>\n",
       "      <td>0.061</td>\n",
       "      <td>11.0</td>\n",
       "      <td>17.0</td>\n",
       "      <td>0.99588</td>\n",
       "      <td>3.53</td>\n",
       "      <td>0.65</td>\n",
       "      <td>10.4</td>\n",
       "      <td>1</td>\n",
       "    </tr>\n",
       "    <tr>\n",
       "      <th>1535</th>\n",
       "      <td>7.0</td>\n",
       "      <td>0.550</td>\n",
       "      <td>0.13</td>\n",
       "      <td>2.2</td>\n",
       "      <td>0.075</td>\n",
       "      <td>15.0</td>\n",
       "      <td>35.0</td>\n",
       "      <td>0.99590</td>\n",
       "      <td>3.36</td>\n",
       "      <td>0.59</td>\n",
       "      <td>9.7</td>\n",
       "      <td>1</td>\n",
       "    </tr>\n",
       "    <tr>\n",
       "      <th>1485</th>\n",
       "      <td>7.0</td>\n",
       "      <td>0.655</td>\n",
       "      <td>0.16</td>\n",
       "      <td>2.1</td>\n",
       "      <td>0.074</td>\n",
       "      <td>8.0</td>\n",
       "      <td>25.0</td>\n",
       "      <td>0.99606</td>\n",
       "      <td>3.37</td>\n",
       "      <td>0.55</td>\n",
       "      <td>9.7</td>\n",
       "      <td>0</td>\n",
       "    </tr>\n",
       "  </tbody>\n",
       "</table>\n",
       "</div>"
      ],
      "text/plain": [
       "      fixed acidity  volatile acidity  citric acid  residual sugar  chlorides  \\\n",
       "949             8.9             0.120         0.45             1.8      0.075   \n",
       "591             6.6             0.390         0.49             1.7      0.070   \n",
       "1512            6.4             0.790         0.04             2.2      0.061   \n",
       "1535            7.0             0.550         0.13             2.2      0.075   \n",
       "1485            7.0             0.655         0.16             2.1      0.074   \n",
       "\n",
       "      free sulfur dioxide  total sulfur dioxide  density    pH  sulphates  \\\n",
       "949                  10.0                  21.0  0.99552  3.41       0.76   \n",
       "591                  23.0                 149.0  0.99220  3.12       0.50   \n",
       "1512                 11.0                  17.0  0.99588  3.53       0.65   \n",
       "1535                 15.0                  35.0  0.99590  3.36       0.59   \n",
       "1485                  8.0                  25.0  0.99606  3.37       0.55   \n",
       "\n",
       "      alcohol  quality  \n",
       "949      11.9        1  \n",
       "591      11.5        1  \n",
       "1512     10.4        1  \n",
       "1535      9.7        1  \n",
       "1485      9.7        0  "
      ]
     },
     "execution_count": 90,
     "metadata": {},
     "output_type": "execute_result"
    }
   ],
   "source": [
    "wine_data = pd.read_csv('/Users/lidetalemu/Downloads/reduced_data_df.csv')\n",
    "wine_data.head()"
   ]
  },
  {
   "cell_type": "code",
   "execution_count": 91,
   "metadata": {},
   "outputs": [],
   "source": [
    "wine_data = wine_data.reset_index(drop='first')"
   ]
  },
  {
   "cell_type": "code",
   "execution_count": 92,
   "metadata": {},
   "outputs": [
    {
     "data": {
      "text/plain": [
       "Index(['fixed acidity', 'volatile acidity', 'citric acid', 'residual sugar',\n",
       "       'chlorides', 'free sulfur dioxide', 'total sulfur dioxide', 'density',\n",
       "       'pH', 'sulphates', 'alcohol', 'quality'],\n",
       "      dtype='object')"
      ]
     },
     "execution_count": 92,
     "metadata": {},
     "output_type": "execute_result"
    }
   ],
   "source": [
    "wine_data.columns"
   ]
  },
  {
   "cell_type": "code",
   "execution_count": 93,
   "metadata": {},
   "outputs": [],
   "source": [
    "from sklearn.preprocessing import MinMaxScaler"
   ]
  },
  {
   "cell_type": "code",
   "execution_count": 94,
   "metadata": {},
   "outputs": [],
   "source": [
    "scaler = MinMaxScaler()\n",
    "wine_transformed= scaler.fit_transform(wine_data)\n"
   ]
  },
  {
   "cell_type": "code",
   "execution_count": 95,
   "metadata": {},
   "outputs": [
    {
     "data": {
      "text/html": [
       "<div>\n",
       "<style scoped>\n",
       "    .dataframe tbody tr th:only-of-type {\n",
       "        vertical-align: middle;\n",
       "    }\n",
       "\n",
       "    .dataframe tbody tr th {\n",
       "        vertical-align: top;\n",
       "    }\n",
       "\n",
       "    .dataframe thead th {\n",
       "        text-align: right;\n",
       "    }\n",
       "</style>\n",
       "<table border=\"1\" class=\"dataframe\">\n",
       "  <thead>\n",
       "    <tr style=\"text-align: right;\">\n",
       "      <th></th>\n",
       "      <th>fixed acidity</th>\n",
       "      <th>volatile acidity</th>\n",
       "      <th>citric acid</th>\n",
       "      <th>residual sugar</th>\n",
       "      <th>chlorides</th>\n",
       "      <th>free sulfur dioxide</th>\n",
       "      <th>total sulfur dioxide</th>\n",
       "      <th>density</th>\n",
       "      <th>pH</th>\n",
       "      <th>sulphates</th>\n",
       "      <th>alcohol</th>\n",
       "      <th>quality</th>\n",
       "    </tr>\n",
       "  </thead>\n",
       "  <tbody>\n",
       "    <tr>\n",
       "      <th>0</th>\n",
       "      <td>0.396040</td>\n",
       "      <td>0.000000</td>\n",
       "      <td>0.569620</td>\n",
       "      <td>0.062069</td>\n",
       "      <td>0.071057</td>\n",
       "      <td>0.166667</td>\n",
       "      <td>0.049645</td>\n",
       "      <td>0.400147</td>\n",
       "      <td>0.464286</td>\n",
       "      <td>0.246835</td>\n",
       "      <td>0.603774</td>\n",
       "      <td>1.0</td>\n",
       "    </tr>\n",
       "    <tr>\n",
       "      <th>1</th>\n",
       "      <td>0.168317</td>\n",
       "      <td>0.223140</td>\n",
       "      <td>0.620253</td>\n",
       "      <td>0.055172</td>\n",
       "      <td>0.062392</td>\n",
       "      <td>0.407407</td>\n",
       "      <td>0.503546</td>\n",
       "      <td>0.156388</td>\n",
       "      <td>0.205357</td>\n",
       "      <td>0.082278</td>\n",
       "      <td>0.528302</td>\n",
       "      <td>1.0</td>\n",
       "    </tr>\n",
       "    <tr>\n",
       "      <th>2</th>\n",
       "      <td>0.148515</td>\n",
       "      <td>0.553719</td>\n",
       "      <td>0.050633</td>\n",
       "      <td>0.089655</td>\n",
       "      <td>0.046794</td>\n",
       "      <td>0.185185</td>\n",
       "      <td>0.035461</td>\n",
       "      <td>0.426579</td>\n",
       "      <td>0.571429</td>\n",
       "      <td>0.177215</td>\n",
       "      <td>0.320755</td>\n",
       "      <td>1.0</td>\n",
       "    </tr>\n",
       "    <tr>\n",
       "      <th>3</th>\n",
       "      <td>0.207921</td>\n",
       "      <td>0.355372</td>\n",
       "      <td>0.164557</td>\n",
       "      <td>0.089655</td>\n",
       "      <td>0.071057</td>\n",
       "      <td>0.259259</td>\n",
       "      <td>0.099291</td>\n",
       "      <td>0.428047</td>\n",
       "      <td>0.419643</td>\n",
       "      <td>0.139241</td>\n",
       "      <td>0.188679</td>\n",
       "      <td>1.0</td>\n",
       "    </tr>\n",
       "    <tr>\n",
       "      <th>4</th>\n",
       "      <td>0.207921</td>\n",
       "      <td>0.442149</td>\n",
       "      <td>0.202532</td>\n",
       "      <td>0.082759</td>\n",
       "      <td>0.069324</td>\n",
       "      <td>0.129630</td>\n",
       "      <td>0.063830</td>\n",
       "      <td>0.439794</td>\n",
       "      <td>0.428571</td>\n",
       "      <td>0.113924</td>\n",
       "      <td>0.188679</td>\n",
       "      <td>0.0</td>\n",
       "    </tr>\n",
       "    <tr>\n",
       "      <th>...</th>\n",
       "      <td>...</td>\n",
       "      <td>...</td>\n",
       "      <td>...</td>\n",
       "      <td>...</td>\n",
       "      <td>...</td>\n",
       "      <td>...</td>\n",
       "      <td>...</td>\n",
       "      <td>...</td>\n",
       "      <td>...</td>\n",
       "      <td>...</td>\n",
       "      <td>...</td>\n",
       "      <td>...</td>\n",
       "    </tr>\n",
       "    <tr>\n",
       "      <th>495</th>\n",
       "      <td>0.128713</td>\n",
       "      <td>0.363636</td>\n",
       "      <td>0.113924</td>\n",
       "      <td>0.055172</td>\n",
       "      <td>0.032929</td>\n",
       "      <td>0.425926</td>\n",
       "      <td>0.088652</td>\n",
       "      <td>0.290015</td>\n",
       "      <td>0.580357</td>\n",
       "      <td>0.145570</td>\n",
       "      <td>0.490566</td>\n",
       "      <td>0.0</td>\n",
       "    </tr>\n",
       "    <tr>\n",
       "      <th>496</th>\n",
       "      <td>0.336634</td>\n",
       "      <td>0.599174</td>\n",
       "      <td>0.012658</td>\n",
       "      <td>0.089655</td>\n",
       "      <td>0.062392</td>\n",
       "      <td>0.074074</td>\n",
       "      <td>0.024823</td>\n",
       "      <td>0.486784</td>\n",
       "      <td>0.383929</td>\n",
       "      <td>0.132911</td>\n",
       "      <td>0.433962</td>\n",
       "      <td>0.0</td>\n",
       "    </tr>\n",
       "    <tr>\n",
       "      <th>497</th>\n",
       "      <td>0.475248</td>\n",
       "      <td>0.471074</td>\n",
       "      <td>0.405063</td>\n",
       "      <td>0.110345</td>\n",
       "      <td>0.093588</td>\n",
       "      <td>0.388889</td>\n",
       "      <td>0.297872</td>\n",
       "      <td>0.574890</td>\n",
       "      <td>0.357143</td>\n",
       "      <td>0.158228</td>\n",
       "      <td>0.264151</td>\n",
       "      <td>0.0</td>\n",
       "    </tr>\n",
       "    <tr>\n",
       "      <th>498</th>\n",
       "      <td>0.217822</td>\n",
       "      <td>0.280992</td>\n",
       "      <td>0.177215</td>\n",
       "      <td>0.131034</td>\n",
       "      <td>0.072790</td>\n",
       "      <td>0.259259</td>\n",
       "      <td>0.106383</td>\n",
       "      <td>0.453010</td>\n",
       "      <td>0.419643</td>\n",
       "      <td>0.075949</td>\n",
       "      <td>0.377358</td>\n",
       "      <td>0.0</td>\n",
       "    </tr>\n",
       "    <tr>\n",
       "      <th>499</th>\n",
       "      <td>0.257426</td>\n",
       "      <td>0.429752</td>\n",
       "      <td>0.000000</td>\n",
       "      <td>0.103448</td>\n",
       "      <td>0.074523</td>\n",
       "      <td>0.314815</td>\n",
       "      <td>0.078014</td>\n",
       "      <td>0.472100</td>\n",
       "      <td>0.383929</td>\n",
       "      <td>0.145570</td>\n",
       "      <td>0.245283</td>\n",
       "      <td>1.0</td>\n",
       "    </tr>\n",
       "  </tbody>\n",
       "</table>\n",
       "<p>500 rows × 12 columns</p>\n",
       "</div>"
      ],
      "text/plain": [
       "     fixed acidity  volatile acidity  citric acid  residual sugar  chlorides  \\\n",
       "0         0.396040          0.000000     0.569620        0.062069   0.071057   \n",
       "1         0.168317          0.223140     0.620253        0.055172   0.062392   \n",
       "2         0.148515          0.553719     0.050633        0.089655   0.046794   \n",
       "3         0.207921          0.355372     0.164557        0.089655   0.071057   \n",
       "4         0.207921          0.442149     0.202532        0.082759   0.069324   \n",
       "..             ...               ...          ...             ...        ...   \n",
       "495       0.128713          0.363636     0.113924        0.055172   0.032929   \n",
       "496       0.336634          0.599174     0.012658        0.089655   0.062392   \n",
       "497       0.475248          0.471074     0.405063        0.110345   0.093588   \n",
       "498       0.217822          0.280992     0.177215        0.131034   0.072790   \n",
       "499       0.257426          0.429752     0.000000        0.103448   0.074523   \n",
       "\n",
       "     free sulfur dioxide  total sulfur dioxide   density        pH  sulphates  \\\n",
       "0               0.166667              0.049645  0.400147  0.464286   0.246835   \n",
       "1               0.407407              0.503546  0.156388  0.205357   0.082278   \n",
       "2               0.185185              0.035461  0.426579  0.571429   0.177215   \n",
       "3               0.259259              0.099291  0.428047  0.419643   0.139241   \n",
       "4               0.129630              0.063830  0.439794  0.428571   0.113924   \n",
       "..                   ...                   ...       ...       ...        ...   \n",
       "495             0.425926              0.088652  0.290015  0.580357   0.145570   \n",
       "496             0.074074              0.024823  0.486784  0.383929   0.132911   \n",
       "497             0.388889              0.297872  0.574890  0.357143   0.158228   \n",
       "498             0.259259              0.106383  0.453010  0.419643   0.075949   \n",
       "499             0.314815              0.078014  0.472100  0.383929   0.145570   \n",
       "\n",
       "      alcohol  quality  \n",
       "0    0.603774      1.0  \n",
       "1    0.528302      1.0  \n",
       "2    0.320755      1.0  \n",
       "3    0.188679      1.0  \n",
       "4    0.188679      0.0  \n",
       "..        ...      ...  \n",
       "495  0.490566      0.0  \n",
       "496  0.433962      0.0  \n",
       "497  0.264151      0.0  \n",
       "498  0.377358      0.0  \n",
       "499  0.245283      1.0  \n",
       "\n",
       "[500 rows x 12 columns]"
      ]
     },
     "execution_count": 95,
     "metadata": {},
     "output_type": "execute_result"
    }
   ],
   "source": [
    "wine_transformed = pd.DataFrame(wine_transformed, columns=wine_data.columns)\n",
    "wine_transformed"
   ]
  },
  {
   "cell_type": "code",
   "execution_count": null,
   "metadata": {},
   "outputs": [],
   "source": []
  },
  {
   "cell_type": "code",
   "execution_count": 96,
   "metadata": {},
   "outputs": [],
   "source": [
    "X = wine_transformed.drop('quality', axis=1)\n",
    "y = wine_transformed['quality']"
   ]
  },
  {
   "cell_type": "markdown",
   "metadata": {},
   "source": [
    " # Logistic Regression"
   ]
  },
  {
   "cell_type": "code",
   "execution_count": 225,
   "metadata": {},
   "outputs": [],
   "source": [
    "from sklearn.model_selection import train_test_split"
   ]
  },
  {
   "cell_type": "code",
   "execution_count": 226,
   "metadata": {},
   "outputs": [],
   "source": [
    "X_train, X_test,y_train, y_test = train_test_split(X, y, test_size= 0.20)"
   ]
  },
  {
   "cell_type": "code",
   "execution_count": 227,
   "metadata": {},
   "outputs": [],
   "source": [
    "lr = LogisticRegression(C=1e12, solver='liblinear', random_state=26)"
   ]
  },
  {
   "cell_type": "code",
   "execution_count": 228,
   "metadata": {},
   "outputs": [],
   "source": [
    "log_model = lr.fit(X_train, y_train)"
   ]
  },
  {
   "cell_type": "code",
   "execution_count": 229,
   "metadata": {},
   "outputs": [
    {
     "data": {
      "text/plain": [
       "0.7225"
      ]
     },
     "execution_count": 229,
     "metadata": {},
     "output_type": "execute_result"
    }
   ],
   "source": [
    "log_model.score(X_train, y_train)"
   ]
  },
  {
   "cell_type": "code",
   "execution_count": 230,
   "metadata": {},
   "outputs": [
    {
     "data": {
      "text/plain": [
       "0.76"
      ]
     },
     "execution_count": 230,
     "metadata": {},
     "output_type": "execute_result"
    }
   ],
   "source": [
    "log_model.score(X_test, y_test)"
   ]
  },
  {
   "cell_type": "markdown",
   "metadata": {},
   "source": [
    "  # Random Forest"
   ]
  },
  {
   "cell_type": "code",
   "execution_count": 244,
   "metadata": {},
   "outputs": [],
   "source": [
    "from sklearn.ensemble import RandomForestClassifier\n",
    "from sklearn.model_selection import GridSearchCV\n",
    "\n",
    "forest = RandomForestClassifier()"
   ]
  },
  {
   "cell_type": "code",
   "execution_count": 245,
   "metadata": {},
   "outputs": [],
   "source": [
    "rf_grid = {'n_estimators':[100],\n",
    "    'criterion':['gini', 'entropy'],\n",
    "   'max_depth':[10, 12, 15],\n",
    "    'min_samples_split':[2]}"
   ]
  },
  {
   "cell_type": "code",
   "execution_count": 246,
   "metadata": {},
   "outputs": [],
   "source": [
    "\n",
    "forest_grid = GridSearchCV(forest, rf_grid)"
   ]
  },
  {
   "cell_type": "code",
   "execution_count": 247,
   "metadata": {},
   "outputs": [
    {
     "data": {
      "text/plain": [
       "GridSearchCV(cv=None, error_score=nan,\n",
       "             estimator=RandomForestClassifier(bootstrap=True, ccp_alpha=0.0,\n",
       "                                              class_weight=None,\n",
       "                                              criterion='gini', max_depth=None,\n",
       "                                              max_features='auto',\n",
       "                                              max_leaf_nodes=None,\n",
       "                                              max_samples=None,\n",
       "                                              min_impurity_decrease=0.0,\n",
       "                                              min_impurity_split=None,\n",
       "                                              min_samples_leaf=1,\n",
       "                                              min_samples_split=2,\n",
       "                                              min_weight_fraction_leaf=0.0,\n",
       "                                              n_estimators=100, n_jobs=None,\n",
       "                                              oob_score=False,\n",
       "                                              random_state=None, verbose=0,\n",
       "                                              warm_start=False),\n",
       "             iid='deprecated', n_jobs=None,\n",
       "             param_grid={'criterion': ['gini', 'entropy'],\n",
       "                         'max_depth': [10, 12, 15], 'min_samples_split': [2],\n",
       "                         'n_estimators': [100]},\n",
       "             pre_dispatch='2*n_jobs', refit=True, return_train_score=False,\n",
       "             scoring=None, verbose=0)"
      ]
     },
     "execution_count": 247,
     "metadata": {},
     "output_type": "execute_result"
    }
   ],
   "source": [
    "forest_grid.fit(X_train, y_train)"
   ]
  },
  {
   "cell_type": "code",
   "execution_count": 248,
   "metadata": {},
   "outputs": [
    {
     "data": {
      "text/plain": [
       "{'criterion': 'gini',\n",
       " 'max_depth': 15,\n",
       " 'min_samples_split': 2,\n",
       " 'n_estimators': 100}"
      ]
     },
     "execution_count": 248,
     "metadata": {},
     "output_type": "execute_result"
    }
   ],
   "source": [
    "forest_grid.best_params_"
   ]
  },
  {
   "cell_type": "code",
   "execution_count": 249,
   "metadata": {},
   "outputs": [
    {
     "data": {
      "text/plain": [
       "1.0"
      ]
     },
     "execution_count": 249,
     "metadata": {},
     "output_type": "execute_result"
    }
   ],
   "source": [
    "forest_grid.score(X_train, y_train)"
   ]
  },
  {
   "cell_type": "code",
   "execution_count": 250,
   "metadata": {},
   "outputs": [
    {
     "data": {
      "text/plain": [
       "0.72"
      ]
     },
     "execution_count": 250,
     "metadata": {},
     "output_type": "execute_result"
    }
   ],
   "source": [
    "forest_grid.score(X_test, y_test)"
   ]
  },
  {
   "cell_type": "markdown",
   "metadata": {},
   "source": [
    "# Ada Boost"
   ]
  },
  {
   "cell_type": "code",
   "execution_count": 251,
   "metadata": {},
   "outputs": [],
   "source": [
    "from sklearn.ensemble import AdaBoostClassifier\n",
    "abc = AdaBoostClassifier()"
   ]
  },
  {
   "cell_type": "code",
   "execution_count": 264,
   "metadata": {},
   "outputs": [],
   "source": [
    "gs = {\n",
    "    'n_estimators': [50],\n",
    "      'learning_rate':[1.0],\n",
    "     'algorithm' : ['SAMME', 'SAMME.R']}"
   ]
  },
  {
   "cell_type": "code",
   "execution_count": 265,
   "metadata": {},
   "outputs": [],
   "source": [
    "boost_grid = GridSearchCV(abc, gs)"
   ]
  },
  {
   "cell_type": "code",
   "execution_count": 266,
   "metadata": {},
   "outputs": [
    {
     "data": {
      "text/plain": [
       "GridSearchCV(cv=None, error_score=nan,\n",
       "             estimator=AdaBoostClassifier(algorithm='SAMME.R',\n",
       "                                          base_estimator=None,\n",
       "                                          learning_rate=1.0, n_estimators=50,\n",
       "                                          random_state=None),\n",
       "             iid='deprecated', n_jobs=None,\n",
       "             param_grid={'algorithm': ['SAMME', 'SAMME.R'],\n",
       "                         'learning_rate': [1.0], 'n_estimators': [50]},\n",
       "             pre_dispatch='2*n_jobs', refit=True, return_train_score=False,\n",
       "             scoring=None, verbose=0)"
      ]
     },
     "execution_count": 266,
     "metadata": {},
     "output_type": "execute_result"
    }
   ],
   "source": [
    "boost_grid.fit(X_train, y_train)"
   ]
  },
  {
   "cell_type": "code",
   "execution_count": 267,
   "metadata": {},
   "outputs": [
    {
     "data": {
      "text/plain": [
       "{'algorithm': 'SAMME', 'learning_rate': 1.0, 'n_estimators': 50}"
      ]
     },
     "execution_count": 267,
     "metadata": {},
     "output_type": "execute_result"
    }
   ],
   "source": [
    "boost_grid.best_params_"
   ]
  },
  {
   "cell_type": "code",
   "execution_count": 268,
   "metadata": {},
   "outputs": [
    {
     "data": {
      "text/plain": [
       "0.7925"
      ]
     },
     "execution_count": 268,
     "metadata": {},
     "output_type": "execute_result"
    }
   ],
   "source": [
    "boost_grid.score(X_train, y_train)"
   ]
  },
  {
   "cell_type": "code",
   "execution_count": 269,
   "metadata": {},
   "outputs": [
    {
     "data": {
      "text/plain": [
       "0.74"
      ]
     },
     "execution_count": 269,
     "metadata": {},
     "output_type": "execute_result"
    }
   ],
   "source": [
    "boost_grid.score(X_test, y_test)"
   ]
  },
  {
   "cell_type": "code",
   "execution_count": null,
   "metadata": {},
   "outputs": [],
   "source": []
  },
  {
   "cell_type": "code",
   "execution_count": null,
   "metadata": {},
   "outputs": [],
   "source": []
  }
 ],
 "metadata": {
  "kernelspec": {
   "display_name": "Python 3",
   "language": "python",
   "name": "python3"
  },
  "language_info": {
   "codemirror_mode": {
    "name": "ipython",
    "version": 3
   },
   "file_extension": ".py",
   "mimetype": "text/x-python",
   "name": "python",
   "nbconvert_exporter": "python",
   "pygments_lexer": "ipython3",
   "version": "3.7.0"
  }
 },
 "nbformat": 4,
 "nbformat_minor": 4
}
