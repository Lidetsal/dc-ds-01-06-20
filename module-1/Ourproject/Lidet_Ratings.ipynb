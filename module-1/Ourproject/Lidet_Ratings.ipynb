{
 "cells": [
  {
   "cell_type": "code",
   "execution_count": 2,
   "metadata": {},
   "outputs": [
    {
     "data": {
      "text/html": [
       "<div>\n",
       "<style scoped>\n",
       "    .dataframe tbody tr th:only-of-type {\n",
       "        vertical-align: middle;\n",
       "    }\n",
       "\n",
       "    .dataframe tbody tr th {\n",
       "        vertical-align: top;\n",
       "    }\n",
       "\n",
       "    .dataframe thead th {\n",
       "        text-align: right;\n",
       "    }\n",
       "</style>\n",
       "<table border=\"1\" class=\"dataframe\">\n",
       "  <thead>\n",
       "    <tr style=\"text-align: right;\">\n",
       "      <th></th>\n",
       "      <th>averagerating</th>\n",
       "      <th>numvotes</th>\n",
       "      <th>primary_title</th>\n",
       "      <th>runtime_minutes</th>\n",
       "      <th>genres</th>\n",
       "    </tr>\n",
       "    <tr>\n",
       "      <th>tconst</th>\n",
       "      <th></th>\n",
       "      <th></th>\n",
       "      <th></th>\n",
       "      <th></th>\n",
       "      <th></th>\n",
       "    </tr>\n",
       "  </thead>\n",
       "  <tbody>\n",
       "    <tr>\n",
       "      <td>tt10356526</td>\n",
       "      <td>8.3</td>\n",
       "      <td>31</td>\n",
       "      <td>Laiye Je Yaarian</td>\n",
       "      <td>117.0</td>\n",
       "      <td>Romance</td>\n",
       "    </tr>\n",
       "    <tr>\n",
       "      <td>tt10384606</td>\n",
       "      <td>8.9</td>\n",
       "      <td>559</td>\n",
       "      <td>Borderless</td>\n",
       "      <td>87.0</td>\n",
       "      <td>Documentary</td>\n",
       "    </tr>\n",
       "  </tbody>\n",
       "</table>\n",
       "</div>"
      ],
      "text/plain": [
       "            averagerating  numvotes     primary_title  runtime_minutes  \\\n",
       "tconst                                                                   \n",
       "tt10356526            8.3        31  Laiye Je Yaarian            117.0   \n",
       "tt10384606            8.9       559        Borderless             87.0   \n",
       "\n",
       "                 genres  \n",
       "tconst                   \n",
       "tt10356526      Romance  \n",
       "tt10384606  Documentary  "
      ]
     },
     "execution_count": 2,
     "metadata": {},
     "output_type": "execute_result"
    }
   ],
   "source": [
    "import pandas as pd\n",
    "import numpy as np\n",
    "import seaborn as sns\n",
    "import matplotlib.pyplot as plt\n",
    "%matplotlib inline\n",
    "\n",
    "# IMDB RATINGS\n",
    "\n",
    "imdb_ratings = pd.read_csv('imdb.title.ratings.csv')\n",
    "imdb_ratings.head(2)\n",
    "\n",
    "# IMDB DATA WITH MOVIE TITLE AND GENRES\n",
    "\n",
    "imdb_title = pd.read_csv('imdb.title.basics.csv.gz')\n",
    "# Dropping original_title and keeping the primary title as the main title\n",
    "\n",
    "imdb_title.drop(['original_title', 'start_year',\n",
    "                 'start_year'], axis=1, inplace=True)\n",
    "imdb_title.head(2)\n",
    "\n",
    "joined_imdb = imdb_ratings.set_index('tconst').join(\n",
    "    imdb_title.set_index('tconst'), on='tconst', how='inner')\n",
    "\n",
    "\n",
    "# Dropped missing values in the genres column\n",
    "joined_imdb.dropna(subset=['genres'], axis=0, inplace=True)\n",
    "\n",
    "\n",
    "# Filling runtime_minutes column missing values with the columns mean value\n",
    "joined_imdb['runtime_minutes'].fillna(\n",
    "    value=joined_imdb['runtime_minutes'].mean(), inplace=True)\n",
    "joined_imdb.head(2)"
   ]
  },
  {
   "cell_type": "code",
   "execution_count": null,
   "metadata": {},
   "outputs": [],
   "source": []
  },
  {
   "cell_type": "code",
   "execution_count": 3,
   "metadata": {},
   "outputs": [
    {
     "data": {
      "text/plain": [
       "count    72890.000000\n",
       "mean        93.392908\n",
       "std         20.864767\n",
       "min          3.000000\n",
       "25%         83.000000\n",
       "50%         93.000000\n",
       "75%        101.000000\n",
       "max        199.000000\n",
       "Name: runtime_minutes, dtype: float64"
      ]
     },
     "execution_count": 3,
     "metadata": {},
     "output_type": "execute_result"
    }
   ],
   "source": [
    "# DROPPED RUNTIME OUTLIERS and KEPT MOVIES 200 MINUTES AND UNDER\n",
    "\n",
    "movie_rating = joined_imdb.loc[joined_imdb['runtime_minutes'] < 200]\n",
    "movie_rating.runtime_minutes.describe()"
   ]
  },
  {
   "cell_type": "code",
   "execution_count": null,
   "metadata": {},
   "outputs": [],
   "source": []
  },
  {
   "cell_type": "code",
   "execution_count": null,
   "metadata": {},
   "outputs": [],
   "source": []
  },
  {
   "cell_type": "code",
   "execution_count": null,
   "metadata": {},
   "outputs": [],
   "source": []
  },
  {
   "cell_type": "code",
   "execution_count": 104,
   "metadata": {},
   "outputs": [
    {
     "data": {
      "text/plain": [
       "Text(0.5, 0, 'Rating')"
      ]
     },
     "execution_count": 104,
     "metadata": {},
     "output_type": "execute_result"
    },
    {
     "data": {
      "image/png": "[encoded data removed]",
      "text/plain": [
       "<Figure size 720x576 with 1 Axes>"
      ]
     },
     "metadata": {},
     "output_type": "display_data"
    }
   ],
   "source": [
    "x = movie_rating.averagerating\n",
    "y = movie_rating.runtime_minutes\n",
    "plt.figure(figsize=(10, 8))\n",
    "sns.scatterplot(x, y, color='r')\n",
    "plt.title('IMDB Top rated Genres')\n",
    "plt.ylabel('movie time')\n",
    "sns.set(context='notebook',\n",
    "        style='darkgrid',\n",
    "        palette='deep',\n",
    "        font='sans-serif',\n",
    "        font_scale=2)\n",
    "plt.xlabel('Rating')"
   ]
  },
  {
   "cell_type": "code",
   "execution_count": null,
   "metadata": {},
   "outputs": [],
   "source": []
  },
  {
   "cell_type": "code",
   "execution_count": 5,
   "metadata": {},
   "outputs": [
    {
     "data": {
      "text/plain": [
       "Documentary                      6444\n",
       "Drama                            3640\n",
       "Comedy                           1108\n",
       "Comedy,Drama                      728\n",
       "Documentary,Music                 414\n",
       "Biography,Documentary             411\n",
       "Drama,Romance                     385\n",
       "Documentary,Drama                 374\n",
       "Biography,Documentary,History     335\n",
       "Documentary,History               320\n",
       "Name: genres, dtype: int64"
      ]
     },
     "execution_count": 5,
     "metadata": {},
     "output_type": "execute_result"
    }
   ],
   "source": [
    "top_rated = joined_imdb.loc[joined_imdb['averagerating'] > 7]\n",
    "top_rated.genres.value_counts().head(10)"
   ]
  },
  {
   "cell_type": "code",
   "execution_count": null,
   "metadata": {},
   "outputs": [],
   "source": []
  },
  {
   "cell_type": "code",
   "execution_count": 6,
   "metadata": {},
   "outputs": [
    {
     "data": {
      "text/plain": [
       "Text(0.5, 0, 'Genres')"
      ]
     },
     "execution_count": 6,
     "metadata": {},
     "output_type": "execute_result"
    },
    {
     "data": {
      "image/png": "[encoded data removed]",
      "text/plain": [
       "<Figure size 720x576 with 1 Axes>"
      ]
     },
     "metadata": {},
     "output_type": "display_data"
    }
   ],
   "source": [
    "y = ['Documentary', 'Drama', 'Comedy', 'Biography', 'Romance']\n",
    "\n",
    "x = [6444, 3640, 1108, 414, 385]\n",
    "\n",
    "plt.figure(figsize=(10, 8))\n",
    "\n",
    "sns.barplot(x, y, color='c')\n",
    "plt.title('IMDB Top Rated Genres')\n",
    "plt.ylabel('No. of Movies')\n",
    "sns.set(context='notebook',\n",
    "        style='darkgrid',\n",
    "        font='sans-serif',\n",
    "        font_scale=2)\n",
    "plt.xlabel('Genres')"
   ]
  },
  {
   "cell_type": "code",
   "execution_count": null,
   "metadata": {},
   "outputs": [],
   "source": []
  },
  {
   "cell_type": "code",
   "execution_count": null,
   "metadata": {},
   "outputs": [],
   "source": []
  },
  {
   "cell_type": "code",
   "execution_count": 7,
   "metadata": {},
   "outputs": [
    {
     "data": {
      "text/html": [
       "<div>\n",
       "<style scoped>\n",
       "    .dataframe tbody tr th:only-of-type {\n",
       "        vertical-align: middle;\n",
       "    }\n",
       "\n",
       "    .dataframe tbody tr th {\n",
       "        vertical-align: top;\n",
       "    }\n",
       "\n",
       "    .dataframe thead th {\n",
       "        text-align: right;\n",
       "    }\n",
       "</style>\n",
       "<table border=\"1\" class=\"dataframe\">\n",
       "  <thead>\n",
       "    <tr style=\"text-align: right;\">\n",
       "      <th></th>\n",
       "      <th>id</th>\n",
       "      <th>genre</th>\n",
       "      <th>runtime</th>\n",
       "    </tr>\n",
       "  </thead>\n",
       "  <tbody>\n",
       "    <tr>\n",
       "      <td>0</td>\n",
       "      <td>1</td>\n",
       "      <td>Action and Adventure|Classics|Drama</td>\n",
       "      <td>104 minutes</td>\n",
       "    </tr>\n",
       "    <tr>\n",
       "      <td>1</td>\n",
       "      <td>3</td>\n",
       "      <td>Drama|Science Fiction and Fantasy</td>\n",
       "      <td>108 minutes</td>\n",
       "    </tr>\n",
       "  </tbody>\n",
       "</table>\n",
       "</div>"
      ],
      "text/plain": [
       "   id                                genre      runtime\n",
       "0   1  Action and Adventure|Classics|Drama  104 minutes\n",
       "1   3    Drama|Science Fiction and Fantasy  108 minutes"
      ]
     },
     "execution_count": 7,
     "metadata": {},
     "output_type": "execute_result"
    }
   ],
   "source": [
    "rotten_ratings = pd.read_csv(\n",
    "    'rt.reviews.tsv', sep='\\t', encoding='unicode_escape')\n",
    "\n",
    "\n",
    "# Dropping THE CRITIC NAME and NaN values for the Rating COLUMN\n",
    "rotten_ratings.drop(['critic', 'review', 'publisher'], axis=1, inplace=True)\n",
    "rotten_ratings.dropna(subset=['rating'], axis=0, inplace=True)\n",
    "\n",
    "rotten_ratings.head(2)\n",
    "\n",
    "rotten_movies = pd.read_csv('rt.movie_info.tsv', sep='\\t')\n",
    "\n",
    "\n",
    "# Dropping Columns not Necessary for Data Analysis and Nan Values.\n",
    "\n",
    "rotten_movies.drop(['synopsis', 'dvd_date', 'writer', 'theater_date', 'currency',\n",
    "                    'box_office', 'director', 'studio', 'rating'],  axis=1, inplace=True)\n",
    "rotten_movies.dropna(inplace=True)\n",
    "rotten_movies.head(2)"
   ]
  },
  {
   "cell_type": "code",
   "execution_count": null,
   "metadata": {},
   "outputs": [],
   "source": [
    "\n"
   ]
  },
  {
   "cell_type": "code",
   "execution_count": null,
   "metadata": {},
   "outputs": [],
   "source": []
  },
  {
   "cell_type": "code",
   "execution_count": null,
   "metadata": {},
   "outputs": [],
   "source": []
  },
  {
   "cell_type": "code",
   "execution_count": 8,
   "metadata": {},
   "outputs": [
    {
     "data": {
      "text/html": [
       "<div>\n",
       "<style scoped>\n",
       "    .dataframe tbody tr th:only-of-type {\n",
       "        vertical-align: middle;\n",
       "    }\n",
       "\n",
       "    .dataframe tbody tr th {\n",
       "        vertical-align: top;\n",
       "    }\n",
       "\n",
       "    .dataframe thead th {\n",
       "        text-align: right;\n",
       "    }\n",
       "</style>\n",
       "<table border=\"1\" class=\"dataframe\">\n",
       "  <thead>\n",
       "    <tr style=\"text-align: right;\">\n",
       "      <th></th>\n",
       "      <th>idid</th>\n",
       "      <th>genre</th>\n",
       "      <th>runtime</th>\n",
       "      <th>rating</th>\n",
       "      <th>fresh</th>\n",
       "      <th>top_critic</th>\n",
       "      <th>date</th>\n",
       "    </tr>\n",
       "  </thead>\n",
       "  <tbody>\n",
       "    <tr>\n",
       "      <td>3</td>\n",
       "      <td>6</td>\n",
       "      <td>Drama|Mystery and Suspense</td>\n",
       "      <td>128 minutes</td>\n",
       "      <td>C</td>\n",
       "      <td>rotten</td>\n",
       "      <td>0</td>\n",
       "      <td>July 17, 2013</td>\n",
       "    </tr>\n",
       "    <tr>\n",
       "      <td>4</td>\n",
       "      <td>7</td>\n",
       "      <td>Drama|Romance</td>\n",
       "      <td>200 minutes</td>\n",
       "      <td>2/5</td>\n",
       "      <td>rotten</td>\n",
       "      <td>0</td>\n",
       "      <td>April 21, 2013</td>\n",
       "    </tr>\n",
       "  </tbody>\n",
       "</table>\n",
       "</div>"
      ],
      "text/plain": [
       "   idid                       genre      runtime rating   fresh  top_critic  \\\n",
       "3     6  Drama|Mystery and Suspense  128 minutes      C  rotten           0   \n",
       "4     7               Drama|Romance  200 minutes    2/5  rotten           0   \n",
       "\n",
       "             date  \n",
       "3   July 17, 2013  \n",
       "4  April 21, 2013  "
      ]
     },
     "execution_count": 8,
     "metadata": {},
     "output_type": "execute_result"
    }
   ],
   "source": [
    "# Joining the Two Rotten Tomatoes Data Sets\n",
    "\n",
    "joined_rotten = rotten_movies.join(\n",
    "    rotten_ratings, on='id', how='inner', lsuffix='id')\n",
    "joined_rotten.drop('id', axis=1, inplace=True)\n",
    "\n",
    "joined_rotten.head(2)"
   ]
  },
  {
   "cell_type": "code",
   "execution_count": null,
   "metadata": {},
   "outputs": [],
   "source": []
  },
  {
   "cell_type": "code",
   "execution_count": null,
   "metadata": {},
   "outputs": [],
   "source": []
  },
  {
   "cell_type": "code",
   "execution_count": null,
   "metadata": {},
   "outputs": [],
   "source": []
  },
  {
   "cell_type": "code",
   "execution_count": 9,
   "metadata": {},
   "outputs": [],
   "source": [
    "# Defining Funcitons that replace non integer values to integer values\n",
    "def change_rating(df):\n",
    "    for strings in df:\n",
    "        df.replace('A', 5, regex=True, inplace=True)"
   ]
  },
  {
   "cell_type": "code",
   "execution_count": 10,
   "metadata": {},
   "outputs": [
    {
     "data": {
      "text/html": [
       "<div>\n",
       "<style scoped>\n",
       "    .dataframe tbody tr th:only-of-type {\n",
       "        vertical-align: middle;\n",
       "    }\n",
       "\n",
       "    .dataframe tbody tr th {\n",
       "        vertical-align: top;\n",
       "    }\n",
       "\n",
       "    .dataframe thead th {\n",
       "        text-align: right;\n",
       "    }\n",
       "</style>\n",
       "<table border=\"1\" class=\"dataframe\">\n",
       "  <thead>\n",
       "    <tr style=\"text-align: right;\">\n",
       "      <th></th>\n",
       "      <th>idid</th>\n",
       "      <th>genre</th>\n",
       "      <th>runtime</th>\n",
       "      <th>rating</th>\n",
       "      <th>fresh</th>\n",
       "      <th>top_critic</th>\n",
       "      <th>date</th>\n",
       "    </tr>\n",
       "  </thead>\n",
       "  <tbody>\n",
       "    <tr>\n",
       "      <td>3</td>\n",
       "      <td>6</td>\n",
       "      <td>Drama|Mystery and Suspense</td>\n",
       "      <td>128 minutes</td>\n",
       "      <td>C</td>\n",
       "      <td>rotten</td>\n",
       "      <td>0</td>\n",
       "      <td>July 17, 2013</td>\n",
       "    </tr>\n",
       "  </tbody>\n",
       "</table>\n",
       "</div>"
      ],
      "text/plain": [
       "   idid                       genre      runtime rating   fresh  top_critic  \\\n",
       "3     6  Drama|Mystery and Suspense  128 minutes      C  rotten           0   \n",
       "\n",
       "            date  \n",
       "3  July 17, 2013  "
      ]
     },
     "execution_count": 10,
     "metadata": {},
     "output_type": "execute_result"
    }
   ],
   "source": [
    "change_rating(joined_rotten.rating)\n",
    "joined_rotten.head(1)"
   ]
  },
  {
   "cell_type": "code",
   "execution_count": null,
   "metadata": {},
   "outputs": [],
   "source": []
  },
  {
   "cell_type": "code",
   "execution_count": 11,
   "metadata": {},
   "outputs": [],
   "source": [
    "def change_rating1(df):\n",
    "    for strings in df:\n",
    "        df.replace('B', 3, regex=True, inplace=True)"
   ]
  },
  {
   "cell_type": "code",
   "execution_count": 12,
   "metadata": {},
   "outputs": [
    {
     "data": {
      "text/html": [
       "<div>\n",
       "<style scoped>\n",
       "    .dataframe tbody tr th:only-of-type {\n",
       "        vertical-align: middle;\n",
       "    }\n",
       "\n",
       "    .dataframe tbody tr th {\n",
       "        vertical-align: top;\n",
       "    }\n",
       "\n",
       "    .dataframe thead th {\n",
       "        text-align: right;\n",
       "    }\n",
       "</style>\n",
       "<table border=\"1\" class=\"dataframe\">\n",
       "  <thead>\n",
       "    <tr style=\"text-align: right;\">\n",
       "      <th></th>\n",
       "      <th>idid</th>\n",
       "      <th>genre</th>\n",
       "      <th>runtime</th>\n",
       "      <th>rating</th>\n",
       "      <th>fresh</th>\n",
       "      <th>top_critic</th>\n",
       "      <th>date</th>\n",
       "    </tr>\n",
       "  </thead>\n",
       "  <tbody>\n",
       "    <tr>\n",
       "      <td>3</td>\n",
       "      <td>6</td>\n",
       "      <td>Drama|Mystery and Suspense</td>\n",
       "      <td>128 minutes</td>\n",
       "      <td>C</td>\n",
       "      <td>rotten</td>\n",
       "      <td>0</td>\n",
       "      <td>July 17, 2013</td>\n",
       "    </tr>\n",
       "  </tbody>\n",
       "</table>\n",
       "</div>"
      ],
      "text/plain": [
       "   idid                       genre      runtime rating   fresh  top_critic  \\\n",
       "3     6  Drama|Mystery and Suspense  128 minutes      C  rotten           0   \n",
       "\n",
       "            date  \n",
       "3  July 17, 2013  "
      ]
     },
     "execution_count": 12,
     "metadata": {},
     "output_type": "execute_result"
    }
   ],
   "source": [
    "change_rating1(joined_rotten.rating)\n",
    "joined_rotten.head(1)"
   ]
  },
  {
   "cell_type": "code",
   "execution_count": 13,
   "metadata": {},
   "outputs": [],
   "source": [
    "def change_rating2(df):\n",
    "    for strings in df:\n",
    "        df.replace('C', 2, regex=True, inplace=True)"
   ]
  },
  {
   "cell_type": "code",
   "execution_count": 14,
   "metadata": {},
   "outputs": [
    {
     "data": {
      "text/html": [
       "<div>\n",
       "<style scoped>\n",
       "    .dataframe tbody tr th:only-of-type {\n",
       "        vertical-align: middle;\n",
       "    }\n",
       "\n",
       "    .dataframe tbody tr th {\n",
       "        vertical-align: top;\n",
       "    }\n",
       "\n",
       "    .dataframe thead th {\n",
       "        text-align: right;\n",
       "    }\n",
       "</style>\n",
       "<table border=\"1\" class=\"dataframe\">\n",
       "  <thead>\n",
       "    <tr style=\"text-align: right;\">\n",
       "      <th></th>\n",
       "      <th>idid</th>\n",
       "      <th>genre</th>\n",
       "      <th>runtime</th>\n",
       "      <th>rating</th>\n",
       "      <th>fresh</th>\n",
       "      <th>top_critic</th>\n",
       "      <th>date</th>\n",
       "    </tr>\n",
       "  </thead>\n",
       "  <tbody>\n",
       "    <tr>\n",
       "      <td>3</td>\n",
       "      <td>6</td>\n",
       "      <td>Drama|Mystery and Suspense</td>\n",
       "      <td>128 minutes</td>\n",
       "      <td>2</td>\n",
       "      <td>rotten</td>\n",
       "      <td>0</td>\n",
       "      <td>July 17, 2013</td>\n",
       "    </tr>\n",
       "  </tbody>\n",
       "</table>\n",
       "</div>"
      ],
      "text/plain": [
       "   idid                       genre      runtime rating   fresh  top_critic  \\\n",
       "3     6  Drama|Mystery and Suspense  128 minutes      2  rotten           0   \n",
       "\n",
       "            date  \n",
       "3  July 17, 2013  "
      ]
     },
     "execution_count": 14,
     "metadata": {},
     "output_type": "execute_result"
    }
   ],
   "source": [
    "change_rating2(joined_rotten.rating)\n",
    "joined_rotten.head(1)"
   ]
  },
  {
   "cell_type": "code",
   "execution_count": 15,
   "metadata": {},
   "outputs": [],
   "source": []
  },
  {
   "cell_type": "code",
   "execution_count": 16,
   "metadata": {},
   "outputs": [],
   "source": [
    "def change_rating3(df):\n",
    "    for strings in df:\n",
    "        df.replace('D', 1, regex=True, inplace=True)"
   ]
  },
  {
   "cell_type": "code",
   "execution_count": 17,
   "metadata": {},
   "outputs": [
    {
     "data": {
      "text/html": [
       "<div>\n",
       "<style scoped>\n",
       "    .dataframe tbody tr th:only-of-type {\n",
       "        vertical-align: middle;\n",
       "    }\n",
       "\n",
       "    .dataframe tbody tr th {\n",
       "        vertical-align: top;\n",
       "    }\n",
       "\n",
       "    .dataframe thead th {\n",
       "        text-align: right;\n",
       "    }\n",
       "</style>\n",
       "<table border=\"1\" class=\"dataframe\">\n",
       "  <thead>\n",
       "    <tr style=\"text-align: right;\">\n",
       "      <th></th>\n",
       "      <th>idid</th>\n",
       "      <th>genre</th>\n",
       "      <th>runtime</th>\n",
       "      <th>rating</th>\n",
       "      <th>fresh</th>\n",
       "      <th>top_critic</th>\n",
       "      <th>date</th>\n",
       "    </tr>\n",
       "  </thead>\n",
       "  <tbody>\n",
       "    <tr>\n",
       "      <td>3</td>\n",
       "      <td>6</td>\n",
       "      <td>Drama|Mystery and Suspense</td>\n",
       "      <td>128 minutes</td>\n",
       "      <td>2</td>\n",
       "      <td>rotten</td>\n",
       "      <td>0</td>\n",
       "      <td>July 17, 2013</td>\n",
       "    </tr>\n",
       "    <tr>\n",
       "      <td>4</td>\n",
       "      <td>7</td>\n",
       "      <td>Drama|Romance</td>\n",
       "      <td>200 minutes</td>\n",
       "      <td>2/5</td>\n",
       "      <td>rotten</td>\n",
       "      <td>0</td>\n",
       "      <td>April 21, 2013</td>\n",
       "    </tr>\n",
       "  </tbody>\n",
       "</table>\n",
       "</div>"
      ],
      "text/plain": [
       "   idid                       genre      runtime rating   fresh  top_critic  \\\n",
       "3     6  Drama|Mystery and Suspense  128 minutes      2  rotten           0   \n",
       "4     7               Drama|Romance  200 minutes    2/5  rotten           0   \n",
       "\n",
       "             date  \n",
       "3   July 17, 2013  \n",
       "4  April 21, 2013  "
      ]
     },
     "execution_count": 17,
     "metadata": {},
     "output_type": "execute_result"
    }
   ],
   "source": [
    "change_rating3(joined_rotten.rating)\n",
    "joined_rotten.head(2)"
   ]
  },
  {
   "cell_type": "code",
   "execution_count": 18,
   "metadata": {},
   "outputs": [],
   "source": [
    "def change_rating4(df):\n",
    "    for strings in df:\n",
    "        df.replace('F', 0, regex=True, inplace=True)"
   ]
  },
  {
   "cell_type": "code",
   "execution_count": 19,
   "metadata": {},
   "outputs": [
    {
     "data": {
      "text/html": [
       "<div>\n",
       "<style scoped>\n",
       "    .dataframe tbody tr th:only-of-type {\n",
       "        vertical-align: middle;\n",
       "    }\n",
       "\n",
       "    .dataframe tbody tr th {\n",
       "        vertical-align: top;\n",
       "    }\n",
       "\n",
       "    .dataframe thead th {\n",
       "        text-align: right;\n",
       "    }\n",
       "</style>\n",
       "<table border=\"1\" class=\"dataframe\">\n",
       "  <thead>\n",
       "    <tr style=\"text-align: right;\">\n",
       "      <th></th>\n",
       "      <th>idid</th>\n",
       "      <th>genre</th>\n",
       "      <th>runtime</th>\n",
       "      <th>rating</th>\n",
       "      <th>fresh</th>\n",
       "      <th>top_critic</th>\n",
       "      <th>date</th>\n",
       "    </tr>\n",
       "  </thead>\n",
       "  <tbody>\n",
       "    <tr>\n",
       "      <td>3</td>\n",
       "      <td>6</td>\n",
       "      <td>Drama|Mystery and Suspense</td>\n",
       "      <td>128 minutes</td>\n",
       "      <td>2</td>\n",
       "      <td>rotten</td>\n",
       "      <td>0</td>\n",
       "      <td>July 17, 2013</td>\n",
       "    </tr>\n",
       "    <tr>\n",
       "      <td>4</td>\n",
       "      <td>7</td>\n",
       "      <td>Drama|Romance</td>\n",
       "      <td>200 minutes</td>\n",
       "      <td>2/5</td>\n",
       "      <td>rotten</td>\n",
       "      <td>0</td>\n",
       "      <td>April 21, 2013</td>\n",
       "    </tr>\n",
       "  </tbody>\n",
       "</table>\n",
       "</div>"
      ],
      "text/plain": [
       "   idid                       genre      runtime rating   fresh  top_critic  \\\n",
       "3     6  Drama|Mystery and Suspense  128 minutes      2  rotten           0   \n",
       "4     7               Drama|Romance  200 minutes    2/5  rotten           0   \n",
       "\n",
       "             date  \n",
       "3   July 17, 2013  \n",
       "4  April 21, 2013  "
      ]
     },
     "execution_count": 19,
     "metadata": {},
     "output_type": "execute_result"
    }
   ],
   "source": [
    "change_rating4(joined_rotten.rating)\n",
    "joined_rotten.head(2)"
   ]
  },
  {
   "cell_type": "code",
   "execution_count": 20,
   "metadata": {},
   "outputs": [],
   "source": [
    "def change_rating5(df):\n",
    "    for strings in df:\n",
    "        df.replace('1/5', 1, regex=True, inplace=True)"
   ]
  },
  {
   "cell_type": "code",
   "execution_count": 21,
   "metadata": {},
   "outputs": [
    {
     "data": {
      "text/html": [
       "<div>\n",
       "<style scoped>\n",
       "    .dataframe tbody tr th:only-of-type {\n",
       "        vertical-align: middle;\n",
       "    }\n",
       "\n",
       "    .dataframe tbody tr th {\n",
       "        vertical-align: top;\n",
       "    }\n",
       "\n",
       "    .dataframe thead th {\n",
       "        text-align: right;\n",
       "    }\n",
       "</style>\n",
       "<table border=\"1\" class=\"dataframe\">\n",
       "  <thead>\n",
       "    <tr style=\"text-align: right;\">\n",
       "      <th></th>\n",
       "      <th>idid</th>\n",
       "      <th>genre</th>\n",
       "      <th>runtime</th>\n",
       "      <th>rating</th>\n",
       "      <th>fresh</th>\n",
       "      <th>top_critic</th>\n",
       "      <th>date</th>\n",
       "    </tr>\n",
       "  </thead>\n",
       "  <tbody>\n",
       "    <tr>\n",
       "      <td>3</td>\n",
       "      <td>6</td>\n",
       "      <td>Drama|Mystery and Suspense</td>\n",
       "      <td>128 minutes</td>\n",
       "      <td>2</td>\n",
       "      <td>rotten</td>\n",
       "      <td>0</td>\n",
       "      <td>July 17, 2013</td>\n",
       "    </tr>\n",
       "  </tbody>\n",
       "</table>\n",
       "</div>"
      ],
      "text/plain": [
       "   idid                       genre      runtime rating   fresh  top_critic  \\\n",
       "3     6  Drama|Mystery and Suspense  128 minutes      2  rotten           0   \n",
       "\n",
       "            date  \n",
       "3  July 17, 2013  "
      ]
     },
     "execution_count": 21,
     "metadata": {},
     "output_type": "execute_result"
    }
   ],
   "source": [
    "change_rating5(joined_rotten.rating)\n",
    "joined_rotten.head(1)"
   ]
  },
  {
   "cell_type": "code",
   "execution_count": 22,
   "metadata": {},
   "outputs": [],
   "source": [
    "def change_rating6(df):\n",
    "    for strings in df:\n",
    "        df.replace('2/5', 2, regex=True, inplace=True)"
   ]
  },
  {
   "cell_type": "code",
   "execution_count": 23,
   "metadata": {},
   "outputs": [
    {
     "data": {
      "text/html": [
       "<div>\n",
       "<style scoped>\n",
       "    .dataframe tbody tr th:only-of-type {\n",
       "        vertical-align: middle;\n",
       "    }\n",
       "\n",
       "    .dataframe tbody tr th {\n",
       "        vertical-align: top;\n",
       "    }\n",
       "\n",
       "    .dataframe thead th {\n",
       "        text-align: right;\n",
       "    }\n",
       "</style>\n",
       "<table border=\"1\" class=\"dataframe\">\n",
       "  <thead>\n",
       "    <tr style=\"text-align: right;\">\n",
       "      <th></th>\n",
       "      <th>idid</th>\n",
       "      <th>genre</th>\n",
       "      <th>runtime</th>\n",
       "      <th>rating</th>\n",
       "      <th>fresh</th>\n",
       "      <th>top_critic</th>\n",
       "      <th>date</th>\n",
       "    </tr>\n",
       "  </thead>\n",
       "  <tbody>\n",
       "    <tr>\n",
       "      <td>3</td>\n",
       "      <td>6</td>\n",
       "      <td>Drama|Mystery and Suspense</td>\n",
       "      <td>128 minutes</td>\n",
       "      <td>2</td>\n",
       "      <td>rotten</td>\n",
       "      <td>0</td>\n",
       "      <td>July 17, 2013</td>\n",
       "    </tr>\n",
       "  </tbody>\n",
       "</table>\n",
       "</div>"
      ],
      "text/plain": [
       "   idid                       genre      runtime rating   fresh  top_critic  \\\n",
       "3     6  Drama|Mystery and Suspense  128 minutes      2  rotten           0   \n",
       "\n",
       "            date  \n",
       "3  July 17, 2013  "
      ]
     },
     "execution_count": 23,
     "metadata": {},
     "output_type": "execute_result"
    }
   ],
   "source": [
    "change_rating6(joined_rotten.rating)\n",
    "joined_rotten.head(1)"
   ]
  },
  {
   "cell_type": "code",
   "execution_count": 24,
   "metadata": {},
   "outputs": [],
   "source": [
    "def change_rating7(df):\n",
    "    for strings in df:\n",
    "        df.replace('3/5', 3, regex=True, inplace=True)"
   ]
  },
  {
   "cell_type": "code",
   "execution_count": 25,
   "metadata": {},
   "outputs": [
    {
     "data": {
      "text/html": [
       "<div>\n",
       "<style scoped>\n",
       "    .dataframe tbody tr th:only-of-type {\n",
       "        vertical-align: middle;\n",
       "    }\n",
       "\n",
       "    .dataframe tbody tr th {\n",
       "        vertical-align: top;\n",
       "    }\n",
       "\n",
       "    .dataframe thead th {\n",
       "        text-align: right;\n",
       "    }\n",
       "</style>\n",
       "<table border=\"1\" class=\"dataframe\">\n",
       "  <thead>\n",
       "    <tr style=\"text-align: right;\">\n",
       "      <th></th>\n",
       "      <th>idid</th>\n",
       "      <th>genre</th>\n",
       "      <th>runtime</th>\n",
       "      <th>rating</th>\n",
       "      <th>fresh</th>\n",
       "      <th>top_critic</th>\n",
       "      <th>date</th>\n",
       "    </tr>\n",
       "  </thead>\n",
       "  <tbody>\n",
       "    <tr>\n",
       "      <td>3</td>\n",
       "      <td>6</td>\n",
       "      <td>Drama|Mystery and Suspense</td>\n",
       "      <td>128 minutes</td>\n",
       "      <td>2</td>\n",
       "      <td>rotten</td>\n",
       "      <td>0</td>\n",
       "      <td>July 17, 2013</td>\n",
       "    </tr>\n",
       "  </tbody>\n",
       "</table>\n",
       "</div>"
      ],
      "text/plain": [
       "   idid                       genre      runtime rating   fresh  top_critic  \\\n",
       "3     6  Drama|Mystery and Suspense  128 minutes      2  rotten           0   \n",
       "\n",
       "            date  \n",
       "3  July 17, 2013  "
      ]
     },
     "execution_count": 25,
     "metadata": {},
     "output_type": "execute_result"
    }
   ],
   "source": [
    "change_rating7(joined_rotten.rating)\n",
    "joined_rotten.head(1)"
   ]
  },
  {
   "cell_type": "code",
   "execution_count": 26,
   "metadata": {},
   "outputs": [],
   "source": [
    "def change_rating10(df):\n",
    "    for strings in df:\n",
    "        df.replace('3/4', 3, regex=True, inplace=True)"
   ]
  },
  {
   "cell_type": "code",
   "execution_count": null,
   "metadata": {},
   "outputs": [],
   "source": []
  },
  {
   "cell_type": "code",
   "execution_count": 27,
   "metadata": {},
   "outputs": [
    {
     "data": {
      "text/html": [
       "<div>\n",
       "<style scoped>\n",
       "    .dataframe tbody tr th:only-of-type {\n",
       "        vertical-align: middle;\n",
       "    }\n",
       "\n",
       "    .dataframe tbody tr th {\n",
       "        vertical-align: top;\n",
       "    }\n",
       "\n",
       "    .dataframe thead th {\n",
       "        text-align: right;\n",
       "    }\n",
       "</style>\n",
       "<table border=\"1\" class=\"dataframe\">\n",
       "  <thead>\n",
       "    <tr style=\"text-align: right;\">\n",
       "      <th></th>\n",
       "      <th>idid</th>\n",
       "      <th>genre</th>\n",
       "      <th>runtime</th>\n",
       "      <th>rating</th>\n",
       "      <th>fresh</th>\n",
       "      <th>top_critic</th>\n",
       "      <th>date</th>\n",
       "    </tr>\n",
       "  </thead>\n",
       "  <tbody>\n",
       "    <tr>\n",
       "      <td>3</td>\n",
       "      <td>6</td>\n",
       "      <td>Drama|Mystery and Suspense</td>\n",
       "      <td>128 minutes</td>\n",
       "      <td>2</td>\n",
       "      <td>rotten</td>\n",
       "      <td>0</td>\n",
       "      <td>July 17, 2013</td>\n",
       "    </tr>\n",
       "  </tbody>\n",
       "</table>\n",
       "</div>"
      ],
      "text/plain": [
       "   idid                       genre      runtime rating   fresh  top_critic  \\\n",
       "3     6  Drama|Mystery and Suspense  128 minutes      2  rotten           0   \n",
       "\n",
       "            date  \n",
       "3  July 17, 2013  "
      ]
     },
     "execution_count": 27,
     "metadata": {},
     "output_type": "execute_result"
    }
   ],
   "source": [
    "change_rating10(joined_rotten.rating)\n",
    "joined_rotten.head(1)"
   ]
  },
  {
   "cell_type": "code",
   "execution_count": null,
   "metadata": {},
   "outputs": [],
   "source": []
  },
  {
   "cell_type": "code",
   "execution_count": 28,
   "metadata": {},
   "outputs": [],
   "source": [
    "def change_rating8(df):\n",
    "    for strings in df:\n",
    "        df.replace('4/5', 4, regex=True, inplace=True)"
   ]
  },
  {
   "cell_type": "code",
   "execution_count": 29,
   "metadata": {},
   "outputs": [
    {
     "data": {
      "text/html": [
       "<div>\n",
       "<style scoped>\n",
       "    .dataframe tbody tr th:only-of-type {\n",
       "        vertical-align: middle;\n",
       "    }\n",
       "\n",
       "    .dataframe tbody tr th {\n",
       "        vertical-align: top;\n",
       "    }\n",
       "\n",
       "    .dataframe thead th {\n",
       "        text-align: right;\n",
       "    }\n",
       "</style>\n",
       "<table border=\"1\" class=\"dataframe\">\n",
       "  <thead>\n",
       "    <tr style=\"text-align: right;\">\n",
       "      <th></th>\n",
       "      <th>idid</th>\n",
       "      <th>genre</th>\n",
       "      <th>runtime</th>\n",
       "      <th>rating</th>\n",
       "      <th>fresh</th>\n",
       "      <th>top_critic</th>\n",
       "      <th>date</th>\n",
       "    </tr>\n",
       "  </thead>\n",
       "  <tbody>\n",
       "    <tr>\n",
       "      <td>3</td>\n",
       "      <td>6</td>\n",
       "      <td>Drama|Mystery and Suspense</td>\n",
       "      <td>128 minutes</td>\n",
       "      <td>2</td>\n",
       "      <td>rotten</td>\n",
       "      <td>0</td>\n",
       "      <td>July 17, 2013</td>\n",
       "    </tr>\n",
       "  </tbody>\n",
       "</table>\n",
       "</div>"
      ],
      "text/plain": [
       "   idid                       genre      runtime rating   fresh  top_critic  \\\n",
       "3     6  Drama|Mystery and Suspense  128 minutes      2  rotten           0   \n",
       "\n",
       "            date  \n",
       "3  July 17, 2013  "
      ]
     },
     "execution_count": 29,
     "metadata": {},
     "output_type": "execute_result"
    }
   ],
   "source": [
    "change_rating8(joined_rotten.rating)\n",
    "joined_rotten.head(1)"
   ]
  },
  {
   "cell_type": "code",
   "execution_count": 30,
   "metadata": {},
   "outputs": [],
   "source": [
    "def change_rating8(df):\n",
    "    for strings in df:\n",
    "        df.replace('5/5', 5, regex=True, inplace=True)"
   ]
  },
  {
   "cell_type": "code",
   "execution_count": 31,
   "metadata": {},
   "outputs": [
    {
     "data": {
      "text/html": [
       "<div>\n",
       "<style scoped>\n",
       "    .dataframe tbody tr th:only-of-type {\n",
       "        vertical-align: middle;\n",
       "    }\n",
       "\n",
       "    .dataframe tbody tr th {\n",
       "        vertical-align: top;\n",
       "    }\n",
       "\n",
       "    .dataframe thead th {\n",
       "        text-align: right;\n",
       "    }\n",
       "</style>\n",
       "<table border=\"1\" class=\"dataframe\">\n",
       "  <thead>\n",
       "    <tr style=\"text-align: right;\">\n",
       "      <th></th>\n",
       "      <th>idid</th>\n",
       "      <th>genre</th>\n",
       "      <th>runtime</th>\n",
       "      <th>rating</th>\n",
       "      <th>fresh</th>\n",
       "      <th>top_critic</th>\n",
       "      <th>date</th>\n",
       "    </tr>\n",
       "  </thead>\n",
       "  <tbody>\n",
       "    <tr>\n",
       "      <td>3</td>\n",
       "      <td>6</td>\n",
       "      <td>Drama|Mystery and Suspense</td>\n",
       "      <td>128 minutes</td>\n",
       "      <td>2</td>\n",
       "      <td>rotten</td>\n",
       "      <td>0</td>\n",
       "      <td>July 17, 2013</td>\n",
       "    </tr>\n",
       "  </tbody>\n",
       "</table>\n",
       "</div>"
      ],
      "text/plain": [
       "   idid                       genre      runtime rating   fresh  top_critic  \\\n",
       "3     6  Drama|Mystery and Suspense  128 minutes      2  rotten           0   \n",
       "\n",
       "            date  \n",
       "3  July 17, 2013  "
      ]
     },
     "execution_count": 31,
     "metadata": {},
     "output_type": "execute_result"
    }
   ],
   "source": [
    "change_rating8(joined_rotten.rating)\n",
    "joined_rotten.head(1)"
   ]
  },
  {
   "cell_type": "code",
   "execution_count": 32,
   "metadata": {},
   "outputs": [],
   "source": [
    "def change_rating11(df):\n",
    "    for strings in df:\n",
    "        df.replace('4/4', 5, regex=True, inplace=True)"
   ]
  },
  {
   "cell_type": "code",
   "execution_count": null,
   "metadata": {},
   "outputs": [],
   "source": []
  },
  {
   "cell_type": "code",
   "execution_count": 33,
   "metadata": {},
   "outputs": [],
   "source": [
    "def change_rating13(df):\n",
    "    for strings in df:\n",
    "        df.replace('2.5/4', 2.5, regex=True, inplace=True)"
   ]
  },
  {
   "cell_type": "code",
   "execution_count": 34,
   "metadata": {},
   "outputs": [],
   "source": [
    "def change_rating14(df):\n",
    "    for strings in df:\n",
    "        df.replace('2.0/5', 2, regex=True, inplace=True)"
   ]
  },
  {
   "cell_type": "code",
   "execution_count": 35,
   "metadata": {},
   "outputs": [
    {
     "data": {
      "text/html": [
       "<div>\n",
       "<style scoped>\n",
       "    .dataframe tbody tr th:only-of-type {\n",
       "        vertical-align: middle;\n",
       "    }\n",
       "\n",
       "    .dataframe tbody tr th {\n",
       "        vertical-align: top;\n",
       "    }\n",
       "\n",
       "    .dataframe thead th {\n",
       "        text-align: right;\n",
       "    }\n",
       "</style>\n",
       "<table border=\"1\" class=\"dataframe\">\n",
       "  <thead>\n",
       "    <tr style=\"text-align: right;\">\n",
       "      <th></th>\n",
       "      <th>idid</th>\n",
       "      <th>genre</th>\n",
       "      <th>runtime</th>\n",
       "      <th>rating</th>\n",
       "      <th>fresh</th>\n",
       "      <th>top_critic</th>\n",
       "      <th>date</th>\n",
       "    </tr>\n",
       "  </thead>\n",
       "  <tbody>\n",
       "    <tr>\n",
       "      <td>3</td>\n",
       "      <td>6</td>\n",
       "      <td>Drama|Mystery and Suspense</td>\n",
       "      <td>128 minutes</td>\n",
       "      <td>2</td>\n",
       "      <td>rotten</td>\n",
       "      <td>0</td>\n",
       "      <td>July 17, 2013</td>\n",
       "    </tr>\n",
       "  </tbody>\n",
       "</table>\n",
       "</div>"
      ],
      "text/plain": [
       "   idid                       genre      runtime rating   fresh  top_critic  \\\n",
       "3     6  Drama|Mystery and Suspense  128 minutes      2  rotten           0   \n",
       "\n",
       "            date  \n",
       "3  July 17, 2013  "
      ]
     },
     "execution_count": 35,
     "metadata": {},
     "output_type": "execute_result"
    }
   ],
   "source": [
    "change_rating14(joined_rotten.rating)\n",
    "joined_rotten.head(1)"
   ]
  },
  {
   "cell_type": "code",
   "execution_count": 36,
   "metadata": {},
   "outputs": [],
   "source": [
    "def change_rating16(df):\n",
    "    for strings in df:\n",
    "        df.replace('1/4', 1, regex=True, inplace=True)"
   ]
  },
  {
   "cell_type": "code",
   "execution_count": 37,
   "metadata": {},
   "outputs": [
    {
     "data": {
      "text/html": [
       "<div>\n",
       "<style scoped>\n",
       "    .dataframe tbody tr th:only-of-type {\n",
       "        vertical-align: middle;\n",
       "    }\n",
       "\n",
       "    .dataframe tbody tr th {\n",
       "        vertical-align: top;\n",
       "    }\n",
       "\n",
       "    .dataframe thead th {\n",
       "        text-align: right;\n",
       "    }\n",
       "</style>\n",
       "<table border=\"1\" class=\"dataframe\">\n",
       "  <thead>\n",
       "    <tr style=\"text-align: right;\">\n",
       "      <th></th>\n",
       "      <th>idid</th>\n",
       "      <th>genre</th>\n",
       "      <th>runtime</th>\n",
       "      <th>rating</th>\n",
       "      <th>fresh</th>\n",
       "      <th>top_critic</th>\n",
       "      <th>date</th>\n",
       "    </tr>\n",
       "  </thead>\n",
       "  <tbody>\n",
       "    <tr>\n",
       "      <td>3</td>\n",
       "      <td>6</td>\n",
       "      <td>Drama|Mystery and Suspense</td>\n",
       "      <td>128 minutes</td>\n",
       "      <td>2</td>\n",
       "      <td>rotten</td>\n",
       "      <td>0</td>\n",
       "      <td>July 17, 2013</td>\n",
       "    </tr>\n",
       "  </tbody>\n",
       "</table>\n",
       "</div>"
      ],
      "text/plain": [
       "   idid                       genre      runtime rating   fresh  top_critic  \\\n",
       "3     6  Drama|Mystery and Suspense  128 minutes      2  rotten           0   \n",
       "\n",
       "            date  \n",
       "3  July 17, 2013  "
      ]
     },
     "execution_count": 37,
     "metadata": {},
     "output_type": "execute_result"
    }
   ],
   "source": [
    "change_rating16(joined_rotten.rating)\n",
    "joined_rotten.head(1)"
   ]
  },
  {
   "cell_type": "code",
   "execution_count": null,
   "metadata": {},
   "outputs": [],
   "source": []
  },
  {
   "cell_type": "code",
   "execution_count": 38,
   "metadata": {},
   "outputs": [],
   "source": [
    "def change_rating15(df):\n",
    "    for strings in df:\n",
    "        df.replace('3.5/4', 4, regex=True, inplace=True)"
   ]
  },
  {
   "cell_type": "code",
   "execution_count": 39,
   "metadata": {},
   "outputs": [
    {
     "data": {
      "text/html": [
       "<div>\n",
       "<style scoped>\n",
       "    .dataframe tbody tr th:only-of-type {\n",
       "        vertical-align: middle;\n",
       "    }\n",
       "\n",
       "    .dataframe tbody tr th {\n",
       "        vertical-align: top;\n",
       "    }\n",
       "\n",
       "    .dataframe thead th {\n",
       "        text-align: right;\n",
       "    }\n",
       "</style>\n",
       "<table border=\"1\" class=\"dataframe\">\n",
       "  <thead>\n",
       "    <tr style=\"text-align: right;\">\n",
       "      <th></th>\n",
       "      <th>idid</th>\n",
       "      <th>genre</th>\n",
       "      <th>runtime</th>\n",
       "      <th>rating</th>\n",
       "      <th>fresh</th>\n",
       "      <th>top_critic</th>\n",
       "      <th>date</th>\n",
       "    </tr>\n",
       "  </thead>\n",
       "  <tbody>\n",
       "    <tr>\n",
       "      <td>3</td>\n",
       "      <td>6</td>\n",
       "      <td>Drama|Mystery and Suspense</td>\n",
       "      <td>128 minutes</td>\n",
       "      <td>2</td>\n",
       "      <td>rotten</td>\n",
       "      <td>0</td>\n",
       "      <td>July 17, 2013</td>\n",
       "    </tr>\n",
       "  </tbody>\n",
       "</table>\n",
       "</div>"
      ],
      "text/plain": [
       "   idid                       genre      runtime rating   fresh  top_critic  \\\n",
       "3     6  Drama|Mystery and Suspense  128 minutes      2  rotten           0   \n",
       "\n",
       "            date  \n",
       "3  July 17, 2013  "
      ]
     },
     "execution_count": 39,
     "metadata": {},
     "output_type": "execute_result"
    }
   ],
   "source": [
    "change_rating15(joined_rotten.rating)\n",
    "joined_rotten.head(1)"
   ]
  },
  {
   "cell_type": "code",
   "execution_count": null,
   "metadata": {},
   "outputs": [],
   "source": []
  },
  {
   "cell_type": "code",
   "execution_count": 40,
   "metadata": {},
   "outputs": [
    {
     "data": {
      "text/html": [
       "<div>\n",
       "<style scoped>\n",
       "    .dataframe tbody tr th:only-of-type {\n",
       "        vertical-align: middle;\n",
       "    }\n",
       "\n",
       "    .dataframe tbody tr th {\n",
       "        vertical-align: top;\n",
       "    }\n",
       "\n",
       "    .dataframe thead th {\n",
       "        text-align: right;\n",
       "    }\n",
       "</style>\n",
       "<table border=\"1\" class=\"dataframe\">\n",
       "  <thead>\n",
       "    <tr style=\"text-align: right;\">\n",
       "      <th></th>\n",
       "      <th>idid</th>\n",
       "      <th>genre</th>\n",
       "      <th>runtime</th>\n",
       "      <th>rating</th>\n",
       "      <th>fresh</th>\n",
       "      <th>top_critic</th>\n",
       "      <th>date</th>\n",
       "    </tr>\n",
       "  </thead>\n",
       "  <tbody>\n",
       "    <tr>\n",
       "      <td>3</td>\n",
       "      <td>6</td>\n",
       "      <td>Drama|Mystery and Suspense</td>\n",
       "      <td>128 minutes</td>\n",
       "      <td>2</td>\n",
       "      <td>rotten</td>\n",
       "      <td>0</td>\n",
       "      <td>July 17, 2013</td>\n",
       "    </tr>\n",
       "  </tbody>\n",
       "</table>\n",
       "</div>"
      ],
      "text/plain": [
       "   idid                       genre      runtime rating   fresh  top_critic  \\\n",
       "3     6  Drama|Mystery and Suspense  128 minutes      2  rotten           0   \n",
       "\n",
       "            date  \n",
       "3  July 17, 2013  "
      ]
     },
     "execution_count": 40,
     "metadata": {},
     "output_type": "execute_result"
    }
   ],
   "source": [
    "change_rating13(joined_rotten.rating)\n",
    "joined_rotten.head(1)"
   ]
  },
  {
   "cell_type": "code",
   "execution_count": 41,
   "metadata": {},
   "outputs": [],
   "source": [
    "def change_rating17(df):\n",
    "    for strings in df:\n",
    "        df.replace('2/4', 2, regex=True, inplace=True)"
   ]
  },
  {
   "cell_type": "code",
   "execution_count": 42,
   "metadata": {},
   "outputs": [
    {
     "data": {
      "text/html": [
       "<div>\n",
       "<style scoped>\n",
       "    .dataframe tbody tr th:only-of-type {\n",
       "        vertical-align: middle;\n",
       "    }\n",
       "\n",
       "    .dataframe tbody tr th {\n",
       "        vertical-align: top;\n",
       "    }\n",
       "\n",
       "    .dataframe thead th {\n",
       "        text-align: right;\n",
       "    }\n",
       "</style>\n",
       "<table border=\"1\" class=\"dataframe\">\n",
       "  <thead>\n",
       "    <tr style=\"text-align: right;\">\n",
       "      <th></th>\n",
       "      <th>idid</th>\n",
       "      <th>genre</th>\n",
       "      <th>runtime</th>\n",
       "      <th>rating</th>\n",
       "      <th>fresh</th>\n",
       "      <th>top_critic</th>\n",
       "      <th>date</th>\n",
       "    </tr>\n",
       "  </thead>\n",
       "  <tbody>\n",
       "    <tr>\n",
       "      <td>3</td>\n",
       "      <td>6</td>\n",
       "      <td>Drama|Mystery and Suspense</td>\n",
       "      <td>128 minutes</td>\n",
       "      <td>2</td>\n",
       "      <td>rotten</td>\n",
       "      <td>0</td>\n",
       "      <td>July 17, 2013</td>\n",
       "    </tr>\n",
       "  </tbody>\n",
       "</table>\n",
       "</div>"
      ],
      "text/plain": [
       "   idid                       genre      runtime rating   fresh  top_critic  \\\n",
       "3     6  Drama|Mystery and Suspense  128 minutes      2  rotten           0   \n",
       "\n",
       "            date  \n",
       "3  July 17, 2013  "
      ]
     },
     "execution_count": 42,
     "metadata": {},
     "output_type": "execute_result"
    }
   ],
   "source": [
    "change_rating17(joined_rotten.rating)\n",
    "joined_rotten.head(1)"
   ]
  },
  {
   "cell_type": "code",
   "execution_count": 43,
   "metadata": {},
   "outputs": [],
   "source": [
    "def change_rating18(df):\n",
    "    for strings in df:\n",
    "        df.replace('1.5/4', 1, regex=True, inplace=True)"
   ]
  },
  {
   "cell_type": "code",
   "execution_count": 44,
   "metadata": {},
   "outputs": [
    {
     "data": {
      "text/html": [
       "<div>\n",
       "<style scoped>\n",
       "    .dataframe tbody tr th:only-of-type {\n",
       "        vertical-align: middle;\n",
       "    }\n",
       "\n",
       "    .dataframe tbody tr th {\n",
       "        vertical-align: top;\n",
       "    }\n",
       "\n",
       "    .dataframe thead th {\n",
       "        text-align: right;\n",
       "    }\n",
       "</style>\n",
       "<table border=\"1\" class=\"dataframe\">\n",
       "  <thead>\n",
       "    <tr style=\"text-align: right;\">\n",
       "      <th></th>\n",
       "      <th>idid</th>\n",
       "      <th>genre</th>\n",
       "      <th>runtime</th>\n",
       "      <th>rating</th>\n",
       "      <th>fresh</th>\n",
       "      <th>top_critic</th>\n",
       "      <th>date</th>\n",
       "    </tr>\n",
       "  </thead>\n",
       "  <tbody>\n",
       "    <tr>\n",
       "      <td>3</td>\n",
       "      <td>6</td>\n",
       "      <td>Drama|Mystery and Suspense</td>\n",
       "      <td>128 minutes</td>\n",
       "      <td>2</td>\n",
       "      <td>rotten</td>\n",
       "      <td>0</td>\n",
       "      <td>July 17, 2013</td>\n",
       "    </tr>\n",
       "  </tbody>\n",
       "</table>\n",
       "</div>"
      ],
      "text/plain": [
       "   idid                       genre      runtime rating   fresh  top_critic  \\\n",
       "3     6  Drama|Mystery and Suspense  128 minutes      2  rotten           0   \n",
       "\n",
       "            date  \n",
       "3  July 17, 2013  "
      ]
     },
     "execution_count": 44,
     "metadata": {},
     "output_type": "execute_result"
    }
   ],
   "source": [
    "change_rating18(joined_rotten.rating)\n",
    "joined_rotten.head(1)"
   ]
  },
  {
   "cell_type": "code",
   "execution_count": 45,
   "metadata": {},
   "outputs": [],
   "source": [
    "def change_rating19(df):\n",
    "    for strings in df:\n",
    "        df.replace('8/10', 4, regex=True, inplace=True)"
   ]
  },
  {
   "cell_type": "code",
   "execution_count": 46,
   "metadata": {},
   "outputs": [
    {
     "data": {
      "text/html": [
       "<div>\n",
       "<style scoped>\n",
       "    .dataframe tbody tr th:only-of-type {\n",
       "        vertical-align: middle;\n",
       "    }\n",
       "\n",
       "    .dataframe tbody tr th {\n",
       "        vertical-align: top;\n",
       "    }\n",
       "\n",
       "    .dataframe thead th {\n",
       "        text-align: right;\n",
       "    }\n",
       "</style>\n",
       "<table border=\"1\" class=\"dataframe\">\n",
       "  <thead>\n",
       "    <tr style=\"text-align: right;\">\n",
       "      <th></th>\n",
       "      <th>idid</th>\n",
       "      <th>genre</th>\n",
       "      <th>runtime</th>\n",
       "      <th>rating</th>\n",
       "      <th>fresh</th>\n",
       "      <th>top_critic</th>\n",
       "      <th>date</th>\n",
       "    </tr>\n",
       "  </thead>\n",
       "  <tbody>\n",
       "    <tr>\n",
       "      <td>3</td>\n",
       "      <td>6</td>\n",
       "      <td>Drama|Mystery and Suspense</td>\n",
       "      <td>128 minutes</td>\n",
       "      <td>2</td>\n",
       "      <td>rotten</td>\n",
       "      <td>0</td>\n",
       "      <td>July 17, 2013</td>\n",
       "    </tr>\n",
       "  </tbody>\n",
       "</table>\n",
       "</div>"
      ],
      "text/plain": [
       "   idid                       genre      runtime rating   fresh  top_critic  \\\n",
       "3     6  Drama|Mystery and Suspense  128 minutes      2  rotten           0   \n",
       "\n",
       "            date  \n",
       "3  July 17, 2013  "
      ]
     },
     "execution_count": 46,
     "metadata": {},
     "output_type": "execute_result"
    }
   ],
   "source": [
    "change_rating19(joined_rotten.rating)\n",
    "joined_rotten.head(1)"
   ]
  },
  {
   "cell_type": "code",
   "execution_count": 47,
   "metadata": {},
   "outputs": [],
   "source": [
    "def change_rating20(df):\n",
    "    for strings in df:\n",
    "        df.replace('9/10', 4.5, regex=True, inplace=True)"
   ]
  },
  {
   "cell_type": "code",
   "execution_count": 48,
   "metadata": {},
   "outputs": [
    {
     "data": {
      "text/html": [
       "<div>\n",
       "<style scoped>\n",
       "    .dataframe tbody tr th:only-of-type {\n",
       "        vertical-align: middle;\n",
       "    }\n",
       "\n",
       "    .dataframe tbody tr th {\n",
       "        vertical-align: top;\n",
       "    }\n",
       "\n",
       "    .dataframe thead th {\n",
       "        text-align: right;\n",
       "    }\n",
       "</style>\n",
       "<table border=\"1\" class=\"dataframe\">\n",
       "  <thead>\n",
       "    <tr style=\"text-align: right;\">\n",
       "      <th></th>\n",
       "      <th>idid</th>\n",
       "      <th>genre</th>\n",
       "      <th>runtime</th>\n",
       "      <th>rating</th>\n",
       "      <th>fresh</th>\n",
       "      <th>top_critic</th>\n",
       "      <th>date</th>\n",
       "    </tr>\n",
       "  </thead>\n",
       "  <tbody>\n",
       "    <tr>\n",
       "      <td>3</td>\n",
       "      <td>6</td>\n",
       "      <td>Drama|Mystery and Suspense</td>\n",
       "      <td>128 minutes</td>\n",
       "      <td>2</td>\n",
       "      <td>rotten</td>\n",
       "      <td>0</td>\n",
       "      <td>July 17, 2013</td>\n",
       "    </tr>\n",
       "  </tbody>\n",
       "</table>\n",
       "</div>"
      ],
      "text/plain": [
       "   idid                       genre      runtime rating   fresh  top_critic  \\\n",
       "3     6  Drama|Mystery and Suspense  128 minutes      2  rotten           0   \n",
       "\n",
       "            date  \n",
       "3  July 17, 2013  "
      ]
     },
     "execution_count": 48,
     "metadata": {},
     "output_type": "execute_result"
    }
   ],
   "source": [
    "change_rating20(joined_rotten.rating)\n",
    "joined_rotten.head(1)"
   ]
  },
  {
   "cell_type": "code",
   "execution_count": 49,
   "metadata": {},
   "outputs": [],
   "source": [
    "def change_rating21(df):\n",
    "    for strings in df:\n",
    "        df.replace('6/10', 3, regex=True, inplace=True)"
   ]
  },
  {
   "cell_type": "code",
   "execution_count": 50,
   "metadata": {},
   "outputs": [
    {
     "data": {
      "text/html": [
       "<div>\n",
       "<style scoped>\n",
       "    .dataframe tbody tr th:only-of-type {\n",
       "        vertical-align: middle;\n",
       "    }\n",
       "\n",
       "    .dataframe tbody tr th {\n",
       "        vertical-align: top;\n",
       "    }\n",
       "\n",
       "    .dataframe thead th {\n",
       "        text-align: right;\n",
       "    }\n",
       "</style>\n",
       "<table border=\"1\" class=\"dataframe\">\n",
       "  <thead>\n",
       "    <tr style=\"text-align: right;\">\n",
       "      <th></th>\n",
       "      <th>idid</th>\n",
       "      <th>genre</th>\n",
       "      <th>runtime</th>\n",
       "      <th>rating</th>\n",
       "      <th>fresh</th>\n",
       "      <th>top_critic</th>\n",
       "      <th>date</th>\n",
       "    </tr>\n",
       "  </thead>\n",
       "  <tbody>\n",
       "    <tr>\n",
       "      <td>3</td>\n",
       "      <td>6</td>\n",
       "      <td>Drama|Mystery and Suspense</td>\n",
       "      <td>128 minutes</td>\n",
       "      <td>2</td>\n",
       "      <td>rotten</td>\n",
       "      <td>0</td>\n",
       "      <td>July 17, 2013</td>\n",
       "    </tr>\n",
       "  </tbody>\n",
       "</table>\n",
       "</div>"
      ],
      "text/plain": [
       "   idid                       genre      runtime rating   fresh  top_critic  \\\n",
       "3     6  Drama|Mystery and Suspense  128 minutes      2  rotten           0   \n",
       "\n",
       "            date  \n",
       "3  July 17, 2013  "
      ]
     },
     "execution_count": 50,
     "metadata": {},
     "output_type": "execute_result"
    }
   ],
   "source": [
    "change_rating21(joined_rotten.rating)\n",
    "joined_rotten.head(1)"
   ]
  },
  {
   "cell_type": "code",
   "execution_count": 51,
   "metadata": {},
   "outputs": [],
   "source": [
    "def change_rating22(df):\n",
    "    for strings in df:\n",
    "        df.replace('7/10', 3.5, regex=True, inplace=True)"
   ]
  },
  {
   "cell_type": "code",
   "execution_count": 52,
   "metadata": {},
   "outputs": [
    {
     "data": {
      "text/html": [
       "<div>\n",
       "<style scoped>\n",
       "    .dataframe tbody tr th:only-of-type {\n",
       "        vertical-align: middle;\n",
       "    }\n",
       "\n",
       "    .dataframe tbody tr th {\n",
       "        vertical-align: top;\n",
       "    }\n",
       "\n",
       "    .dataframe thead th {\n",
       "        text-align: right;\n",
       "    }\n",
       "</style>\n",
       "<table border=\"1\" class=\"dataframe\">\n",
       "  <thead>\n",
       "    <tr style=\"text-align: right;\">\n",
       "      <th></th>\n",
       "      <th>idid</th>\n",
       "      <th>genre</th>\n",
       "      <th>runtime</th>\n",
       "      <th>rating</th>\n",
       "      <th>fresh</th>\n",
       "      <th>top_critic</th>\n",
       "      <th>date</th>\n",
       "    </tr>\n",
       "  </thead>\n",
       "  <tbody>\n",
       "    <tr>\n",
       "      <td>3</td>\n",
       "      <td>6</td>\n",
       "      <td>Drama|Mystery and Suspense</td>\n",
       "      <td>128 minutes</td>\n",
       "      <td>2</td>\n",
       "      <td>rotten</td>\n",
       "      <td>0</td>\n",
       "      <td>July 17, 2013</td>\n",
       "    </tr>\n",
       "  </tbody>\n",
       "</table>\n",
       "</div>"
      ],
      "text/plain": [
       "   idid                       genre      runtime rating   fresh  top_critic  \\\n",
       "3     6  Drama|Mystery and Suspense  128 minutes      2  rotten           0   \n",
       "\n",
       "            date  \n",
       "3  July 17, 2013  "
      ]
     },
     "execution_count": 52,
     "metadata": {},
     "output_type": "execute_result"
    }
   ],
   "source": [
    "change_rating22(joined_rotten.rating)\n",
    "joined_rotten.head(1)"
   ]
  },
  {
   "cell_type": "code",
   "execution_count": 53,
   "metadata": {},
   "outputs": [],
   "source": [
    "def change_rating23(df):\n",
    "    for strings in df:\n",
    "        df.replace('4/10', 2, regex=True, inplace=True)"
   ]
  },
  {
   "cell_type": "code",
   "execution_count": 54,
   "metadata": {},
   "outputs": [
    {
     "data": {
      "text/html": [
       "<div>\n",
       "<style scoped>\n",
       "    .dataframe tbody tr th:only-of-type {\n",
       "        vertical-align: middle;\n",
       "    }\n",
       "\n",
       "    .dataframe tbody tr th {\n",
       "        vertical-align: top;\n",
       "    }\n",
       "\n",
       "    .dataframe thead th {\n",
       "        text-align: right;\n",
       "    }\n",
       "</style>\n",
       "<table border=\"1\" class=\"dataframe\">\n",
       "  <thead>\n",
       "    <tr style=\"text-align: right;\">\n",
       "      <th></th>\n",
       "      <th>idid</th>\n",
       "      <th>genre</th>\n",
       "      <th>runtime</th>\n",
       "      <th>rating</th>\n",
       "      <th>fresh</th>\n",
       "      <th>top_critic</th>\n",
       "      <th>date</th>\n",
       "    </tr>\n",
       "  </thead>\n",
       "  <tbody>\n",
       "    <tr>\n",
       "      <td>3</td>\n",
       "      <td>6</td>\n",
       "      <td>Drama|Mystery and Suspense</td>\n",
       "      <td>128 minutes</td>\n",
       "      <td>2</td>\n",
       "      <td>rotten</td>\n",
       "      <td>0</td>\n",
       "      <td>July 17, 2013</td>\n",
       "    </tr>\n",
       "  </tbody>\n",
       "</table>\n",
       "</div>"
      ],
      "text/plain": [
       "   idid                       genre      runtime rating   fresh  top_critic  \\\n",
       "3     6  Drama|Mystery and Suspense  128 minutes      2  rotten           0   \n",
       "\n",
       "            date  \n",
       "3  July 17, 2013  "
      ]
     },
     "execution_count": 54,
     "metadata": {},
     "output_type": "execute_result"
    }
   ],
   "source": [
    "change_rating23(joined_rotten.rating)\n",
    "joined_rotten.head(1)"
   ]
  },
  {
   "cell_type": "code",
   "execution_count": 55,
   "metadata": {},
   "outputs": [],
   "source": [
    "def change_rating24(df):\n",
    "    for strings in df:\n",
    "        df.replace('5/10', 2.5, regex=True, inplace=True)"
   ]
  },
  {
   "cell_type": "code",
   "execution_count": 56,
   "metadata": {},
   "outputs": [
    {
     "data": {
      "text/html": [
       "<div>\n",
       "<style scoped>\n",
       "    .dataframe tbody tr th:only-of-type {\n",
       "        vertical-align: middle;\n",
       "    }\n",
       "\n",
       "    .dataframe tbody tr th {\n",
       "        vertical-align: top;\n",
       "    }\n",
       "\n",
       "    .dataframe thead th {\n",
       "        text-align: right;\n",
       "    }\n",
       "</style>\n",
       "<table border=\"1\" class=\"dataframe\">\n",
       "  <thead>\n",
       "    <tr style=\"text-align: right;\">\n",
       "      <th></th>\n",
       "      <th>idid</th>\n",
       "      <th>genre</th>\n",
       "      <th>runtime</th>\n",
       "      <th>rating</th>\n",
       "      <th>fresh</th>\n",
       "      <th>top_critic</th>\n",
       "      <th>date</th>\n",
       "    </tr>\n",
       "  </thead>\n",
       "  <tbody>\n",
       "    <tr>\n",
       "      <td>3</td>\n",
       "      <td>6</td>\n",
       "      <td>Drama|Mystery and Suspense</td>\n",
       "      <td>128 minutes</td>\n",
       "      <td>2</td>\n",
       "      <td>rotten</td>\n",
       "      <td>0</td>\n",
       "      <td>July 17, 2013</td>\n",
       "    </tr>\n",
       "  </tbody>\n",
       "</table>\n",
       "</div>"
      ],
      "text/plain": [
       "   idid                       genre      runtime rating   fresh  top_critic  \\\n",
       "3     6  Drama|Mystery and Suspense  128 minutes      2  rotten           0   \n",
       "\n",
       "            date  \n",
       "3  July 17, 2013  "
      ]
     },
     "execution_count": 56,
     "metadata": {},
     "output_type": "execute_result"
    }
   ],
   "source": [
    "change_rating24(joined_rotten.rating)\n",
    "joined_rotten.head(1)"
   ]
  },
  {
   "cell_type": "code",
   "execution_count": 57,
   "metadata": {},
   "outputs": [],
   "source": [
    "def change_rating25(df):\n",
    "    for strings in df:\n",
    "        df.replace('3/10', 1.5, regex=True, inplace=True)"
   ]
  },
  {
   "cell_type": "code",
   "execution_count": 58,
   "metadata": {},
   "outputs": [
    {
     "data": {
      "text/html": [
       "<div>\n",
       "<style scoped>\n",
       "    .dataframe tbody tr th:only-of-type {\n",
       "        vertical-align: middle;\n",
       "    }\n",
       "\n",
       "    .dataframe tbody tr th {\n",
       "        vertical-align: top;\n",
       "    }\n",
       "\n",
       "    .dataframe thead th {\n",
       "        text-align: right;\n",
       "    }\n",
       "</style>\n",
       "<table border=\"1\" class=\"dataframe\">\n",
       "  <thead>\n",
       "    <tr style=\"text-align: right;\">\n",
       "      <th></th>\n",
       "      <th>idid</th>\n",
       "      <th>genre</th>\n",
       "      <th>runtime</th>\n",
       "      <th>rating</th>\n",
       "      <th>fresh</th>\n",
       "      <th>top_critic</th>\n",
       "      <th>date</th>\n",
       "    </tr>\n",
       "  </thead>\n",
       "  <tbody>\n",
       "    <tr>\n",
       "      <td>3</td>\n",
       "      <td>6</td>\n",
       "      <td>Drama|Mystery and Suspense</td>\n",
       "      <td>128 minutes</td>\n",
       "      <td>2</td>\n",
       "      <td>rotten</td>\n",
       "      <td>0</td>\n",
       "      <td>July 17, 2013</td>\n",
       "    </tr>\n",
       "  </tbody>\n",
       "</table>\n",
       "</div>"
      ],
      "text/plain": [
       "   idid                       genre      runtime rating   fresh  top_critic  \\\n",
       "3     6  Drama|Mystery and Suspense  128 minutes      2  rotten           0   \n",
       "\n",
       "            date  \n",
       "3  July 17, 2013  "
      ]
     },
     "execution_count": 58,
     "metadata": {},
     "output_type": "execute_result"
    }
   ],
   "source": [
    "change_rating25(joined_rotten.rating)\n",
    "joined_rotten.head(1)"
   ]
  },
  {
   "cell_type": "code",
   "execution_count": 59,
   "metadata": {},
   "outputs": [],
   "source": [
    "def change_rating26(df):\n",
    "    for strings in df:\n",
    "        df.replace('0/5', 0, regex=True, inplace=True)"
   ]
  },
  {
   "cell_type": "code",
   "execution_count": 60,
   "metadata": {},
   "outputs": [
    {
     "data": {
      "text/html": [
       "<div>\n",
       "<style scoped>\n",
       "    .dataframe tbody tr th:only-of-type {\n",
       "        vertical-align: middle;\n",
       "    }\n",
       "\n",
       "    .dataframe tbody tr th {\n",
       "        vertical-align: top;\n",
       "    }\n",
       "\n",
       "    .dataframe thead th {\n",
       "        text-align: right;\n",
       "    }\n",
       "</style>\n",
       "<table border=\"1\" class=\"dataframe\">\n",
       "  <thead>\n",
       "    <tr style=\"text-align: right;\">\n",
       "      <th></th>\n",
       "      <th>idid</th>\n",
       "      <th>genre</th>\n",
       "      <th>runtime</th>\n",
       "      <th>rating</th>\n",
       "      <th>fresh</th>\n",
       "      <th>top_critic</th>\n",
       "      <th>date</th>\n",
       "    </tr>\n",
       "  </thead>\n",
       "  <tbody>\n",
       "    <tr>\n",
       "      <td>3</td>\n",
       "      <td>6</td>\n",
       "      <td>Drama|Mystery and Suspense</td>\n",
       "      <td>128 minutes</td>\n",
       "      <td>2</td>\n",
       "      <td>rotten</td>\n",
       "      <td>0</td>\n",
       "      <td>July 17, 2013</td>\n",
       "    </tr>\n",
       "  </tbody>\n",
       "</table>\n",
       "</div>"
      ],
      "text/plain": [
       "   idid                       genre      runtime rating   fresh  top_critic  \\\n",
       "3     6  Drama|Mystery and Suspense  128 minutes      2  rotten           0   \n",
       "\n",
       "            date  \n",
       "3  July 17, 2013  "
      ]
     },
     "execution_count": 60,
     "metadata": {},
     "output_type": "execute_result"
    }
   ],
   "source": [
    "change_rating26(joined_rotten.rating)\n",
    "joined_rotten.head(1)"
   ]
  },
  {
   "cell_type": "code",
   "execution_count": 61,
   "metadata": {},
   "outputs": [],
   "source": [
    "def change_rating27(df):\n",
    "    for strings in df:\n",
    "        df.replace('0.5/5', 0, regex=True, inplace=True)"
   ]
  },
  {
   "cell_type": "code",
   "execution_count": 62,
   "metadata": {},
   "outputs": [
    {
     "data": {
      "text/html": [
       "<div>\n",
       "<style scoped>\n",
       "    .dataframe tbody tr th:only-of-type {\n",
       "        vertical-align: middle;\n",
       "    }\n",
       "\n",
       "    .dataframe tbody tr th {\n",
       "        vertical-align: top;\n",
       "    }\n",
       "\n",
       "    .dataframe thead th {\n",
       "        text-align: right;\n",
       "    }\n",
       "</style>\n",
       "<table border=\"1\" class=\"dataframe\">\n",
       "  <thead>\n",
       "    <tr style=\"text-align: right;\">\n",
       "      <th></th>\n",
       "      <th>idid</th>\n",
       "      <th>genre</th>\n",
       "      <th>runtime</th>\n",
       "      <th>rating</th>\n",
       "      <th>fresh</th>\n",
       "      <th>top_critic</th>\n",
       "      <th>date</th>\n",
       "    </tr>\n",
       "  </thead>\n",
       "  <tbody>\n",
       "    <tr>\n",
       "      <td>3</td>\n",
       "      <td>6</td>\n",
       "      <td>Drama|Mystery and Suspense</td>\n",
       "      <td>128 minutes</td>\n",
       "      <td>2</td>\n",
       "      <td>rotten</td>\n",
       "      <td>0</td>\n",
       "      <td>July 17, 2013</td>\n",
       "    </tr>\n",
       "  </tbody>\n",
       "</table>\n",
       "</div>"
      ],
      "text/plain": [
       "   idid                       genre      runtime rating   fresh  top_critic  \\\n",
       "3     6  Drama|Mystery and Suspense  128 minutes      2  rotten           0   \n",
       "\n",
       "            date  \n",
       "3  July 17, 2013  "
      ]
     },
     "execution_count": 62,
     "metadata": {},
     "output_type": "execute_result"
    }
   ],
   "source": [
    "change_rating27(joined_rotten.rating)\n",
    "joined_rotten.head(1)"
   ]
  },
  {
   "cell_type": "code",
   "execution_count": 63,
   "metadata": {},
   "outputs": [],
   "source": [
    "def change_rating28(df):\n",
    "    for strings in df:\n",
    "        df.replace('0.5/4', 0, regex=True, inplace=True)"
   ]
  },
  {
   "cell_type": "code",
   "execution_count": 64,
   "metadata": {},
   "outputs": [
    {
     "data": {
      "text/html": [
       "<div>\n",
       "<style scoped>\n",
       "    .dataframe tbody tr th:only-of-type {\n",
       "        vertical-align: middle;\n",
       "    }\n",
       "\n",
       "    .dataframe tbody tr th {\n",
       "        vertical-align: top;\n",
       "    }\n",
       "\n",
       "    .dataframe thead th {\n",
       "        text-align: right;\n",
       "    }\n",
       "</style>\n",
       "<table border=\"1\" class=\"dataframe\">\n",
       "  <thead>\n",
       "    <tr style=\"text-align: right;\">\n",
       "      <th></th>\n",
       "      <th>idid</th>\n",
       "      <th>genre</th>\n",
       "      <th>runtime</th>\n",
       "      <th>rating</th>\n",
       "      <th>fresh</th>\n",
       "      <th>top_critic</th>\n",
       "      <th>date</th>\n",
       "    </tr>\n",
       "  </thead>\n",
       "  <tbody>\n",
       "    <tr>\n",
       "      <td>3</td>\n",
       "      <td>6</td>\n",
       "      <td>Drama|Mystery and Suspense</td>\n",
       "      <td>128 minutes</td>\n",
       "      <td>2</td>\n",
       "      <td>rotten</td>\n",
       "      <td>0</td>\n",
       "      <td>July 17, 2013</td>\n",
       "    </tr>\n",
       "  </tbody>\n",
       "</table>\n",
       "</div>"
      ],
      "text/plain": [
       "   idid                       genre      runtime rating   fresh  top_critic  \\\n",
       "3     6  Drama|Mystery and Suspense  128 minutes      2  rotten           0   \n",
       "\n",
       "            date  \n",
       "3  July 17, 2013  "
      ]
     },
     "execution_count": 64,
     "metadata": {},
     "output_type": "execute_result"
    }
   ],
   "source": [
    "change_rating28(joined_rotten.rating)\n",
    "joined_rotten.head(1)"
   ]
  },
  {
   "cell_type": "code",
   "execution_count": 65,
   "metadata": {},
   "outputs": [],
   "source": [
    "def change_rating29(df):\n",
    "    for strings in df:\n",
    "        df.replace('2/10', 1, regex=True, inplace=True)"
   ]
  },
  {
   "cell_type": "code",
   "execution_count": 66,
   "metadata": {},
   "outputs": [
    {
     "data": {
      "text/html": [
       "<div>\n",
       "<style scoped>\n",
       "    .dataframe tbody tr th:only-of-type {\n",
       "        vertical-align: middle;\n",
       "    }\n",
       "\n",
       "    .dataframe tbody tr th {\n",
       "        vertical-align: top;\n",
       "    }\n",
       "\n",
       "    .dataframe thead th {\n",
       "        text-align: right;\n",
       "    }\n",
       "</style>\n",
       "<table border=\"1\" class=\"dataframe\">\n",
       "  <thead>\n",
       "    <tr style=\"text-align: right;\">\n",
       "      <th></th>\n",
       "      <th>idid</th>\n",
       "      <th>genre</th>\n",
       "      <th>runtime</th>\n",
       "      <th>rating</th>\n",
       "      <th>fresh</th>\n",
       "      <th>top_critic</th>\n",
       "      <th>date</th>\n",
       "    </tr>\n",
       "  </thead>\n",
       "  <tbody>\n",
       "    <tr>\n",
       "      <td>3</td>\n",
       "      <td>6</td>\n",
       "      <td>Drama|Mystery and Suspense</td>\n",
       "      <td>128 minutes</td>\n",
       "      <td>2</td>\n",
       "      <td>rotten</td>\n",
       "      <td>0</td>\n",
       "      <td>July 17, 2013</td>\n",
       "    </tr>\n",
       "  </tbody>\n",
       "</table>\n",
       "</div>"
      ],
      "text/plain": [
       "   idid                       genre      runtime rating   fresh  top_critic  \\\n",
       "3     6  Drama|Mystery and Suspense  128 minutes      2  rotten           0   \n",
       "\n",
       "            date  \n",
       "3  July 17, 2013  "
      ]
     },
     "execution_count": 66,
     "metadata": {},
     "output_type": "execute_result"
    }
   ],
   "source": [
    "change_rating29(joined_rotten.rating)\n",
    "joined_rotten.head(1)"
   ]
  },
  {
   "cell_type": "code",
   "execution_count": 67,
   "metadata": {},
   "outputs": [],
   "source": [
    "def change_rating30(df):\n",
    "    for strings in df:\n",
    "        df.replace('1/10', 0.5, regex=True, inplace=True)"
   ]
  },
  {
   "cell_type": "code",
   "execution_count": 68,
   "metadata": {},
   "outputs": [
    {
     "data": {
      "text/html": [
       "<div>\n",
       "<style scoped>\n",
       "    .dataframe tbody tr th:only-of-type {\n",
       "        vertical-align: middle;\n",
       "    }\n",
       "\n",
       "    .dataframe tbody tr th {\n",
       "        vertical-align: top;\n",
       "    }\n",
       "\n",
       "    .dataframe thead th {\n",
       "        text-align: right;\n",
       "    }\n",
       "</style>\n",
       "<table border=\"1\" class=\"dataframe\">\n",
       "  <thead>\n",
       "    <tr style=\"text-align: right;\">\n",
       "      <th></th>\n",
       "      <th>idid</th>\n",
       "      <th>genre</th>\n",
       "      <th>runtime</th>\n",
       "      <th>rating</th>\n",
       "      <th>fresh</th>\n",
       "      <th>top_critic</th>\n",
       "      <th>date</th>\n",
       "    </tr>\n",
       "  </thead>\n",
       "  <tbody>\n",
       "    <tr>\n",
       "      <td>3</td>\n",
       "      <td>6</td>\n",
       "      <td>Drama|Mystery and Suspense</td>\n",
       "      <td>128 minutes</td>\n",
       "      <td>2</td>\n",
       "      <td>rotten</td>\n",
       "      <td>0</td>\n",
       "      <td>July 17, 2013</td>\n",
       "    </tr>\n",
       "  </tbody>\n",
       "</table>\n",
       "</div>"
      ],
      "text/plain": [
       "   idid                       genre      runtime rating   fresh  top_critic  \\\n",
       "3     6  Drama|Mystery and Suspense  128 minutes      2  rotten           0   \n",
       "\n",
       "            date  \n",
       "3  July 17, 2013  "
      ]
     },
     "execution_count": 68,
     "metadata": {},
     "output_type": "execute_result"
    }
   ],
   "source": [
    "change_rating30(joined_rotten.rating)\n",
    "joined_rotten.head(1)"
   ]
  },
  {
   "cell_type": "code",
   "execution_count": 69,
   "metadata": {},
   "outputs": [],
   "source": [
    "def change_rating31(df):\n",
    "    for strings in df:\n",
    "        df.replace('4.0/4', 4, regex=True, inplace=True)"
   ]
  },
  {
   "cell_type": "code",
   "execution_count": 70,
   "metadata": {},
   "outputs": [
    {
     "data": {
      "text/html": [
       "<div>\n",
       "<style scoped>\n",
       "    .dataframe tbody tr th:only-of-type {\n",
       "        vertical-align: middle;\n",
       "    }\n",
       "\n",
       "    .dataframe tbody tr th {\n",
       "        vertical-align: top;\n",
       "    }\n",
       "\n",
       "    .dataframe thead th {\n",
       "        text-align: right;\n",
       "    }\n",
       "</style>\n",
       "<table border=\"1\" class=\"dataframe\">\n",
       "  <thead>\n",
       "    <tr style=\"text-align: right;\">\n",
       "      <th></th>\n",
       "      <th>idid</th>\n",
       "      <th>genre</th>\n",
       "      <th>runtime</th>\n",
       "      <th>rating</th>\n",
       "      <th>fresh</th>\n",
       "      <th>top_critic</th>\n",
       "      <th>date</th>\n",
       "    </tr>\n",
       "  </thead>\n",
       "  <tbody>\n",
       "    <tr>\n",
       "      <td>3</td>\n",
       "      <td>6</td>\n",
       "      <td>Drama|Mystery and Suspense</td>\n",
       "      <td>128 minutes</td>\n",
       "      <td>2</td>\n",
       "      <td>rotten</td>\n",
       "      <td>0</td>\n",
       "      <td>July 17, 2013</td>\n",
       "    </tr>\n",
       "  </tbody>\n",
       "</table>\n",
       "</div>"
      ],
      "text/plain": [
       "   idid                       genre      runtime rating   fresh  top_critic  \\\n",
       "3     6  Drama|Mystery and Suspense  128 minutes      2  rotten           0   \n",
       "\n",
       "            date  \n",
       "3  July 17, 2013  "
      ]
     },
     "execution_count": 70,
     "metadata": {},
     "output_type": "execute_result"
    }
   ],
   "source": [
    "change_rating31(joined_rotten.rating)\n",
    "joined_rotten.head(1)"
   ]
  },
  {
   "cell_type": "code",
   "execution_count": 71,
   "metadata": {},
   "outputs": [],
   "source": [
    "def change_rating32(df):\n",
    "    for strings in df:\n",
    "        df.replace('2.5', 2.5, regex=True, inplace=True)"
   ]
  },
  {
   "cell_type": "code",
   "execution_count": 72,
   "metadata": {},
   "outputs": [
    {
     "data": {
      "text/html": [
       "<div>\n",
       "<style scoped>\n",
       "    .dataframe tbody tr th:only-of-type {\n",
       "        vertical-align: middle;\n",
       "    }\n",
       "\n",
       "    .dataframe tbody tr th {\n",
       "        vertical-align: top;\n",
       "    }\n",
       "\n",
       "    .dataframe thead th {\n",
       "        text-align: right;\n",
       "    }\n",
       "</style>\n",
       "<table border=\"1\" class=\"dataframe\">\n",
       "  <thead>\n",
       "    <tr style=\"text-align: right;\">\n",
       "      <th></th>\n",
       "      <th>idid</th>\n",
       "      <th>genre</th>\n",
       "      <th>runtime</th>\n",
       "      <th>rating</th>\n",
       "      <th>fresh</th>\n",
       "      <th>top_critic</th>\n",
       "      <th>date</th>\n",
       "    </tr>\n",
       "  </thead>\n",
       "  <tbody>\n",
       "    <tr>\n",
       "      <td>3</td>\n",
       "      <td>6</td>\n",
       "      <td>Drama|Mystery and Suspense</td>\n",
       "      <td>128 minutes</td>\n",
       "      <td>2</td>\n",
       "      <td>rotten</td>\n",
       "      <td>0</td>\n",
       "      <td>July 17, 2013</td>\n",
       "    </tr>\n",
       "  </tbody>\n",
       "</table>\n",
       "</div>"
      ],
      "text/plain": [
       "   idid                       genre      runtime rating   fresh  top_critic  \\\n",
       "3     6  Drama|Mystery and Suspense  128 minutes      2  rotten           0   \n",
       "\n",
       "            date  \n",
       "3  July 17, 2013  "
      ]
     },
     "execution_count": 72,
     "metadata": {},
     "output_type": "execute_result"
    }
   ],
   "source": [
    "change_rating32(joined_rotten.rating)\n",
    "joined_rotten.head(1)"
   ]
  },
  {
   "cell_type": "code",
   "execution_count": 73,
   "metadata": {},
   "outputs": [],
   "source": [
    "def change_rating33(df):\n",
    "    for strings in df:\n",
    "        df.replace('3.7/5', 3.7, regex=True, inplace=True)"
   ]
  },
  {
   "cell_type": "code",
   "execution_count": 74,
   "metadata": {},
   "outputs": [
    {
     "data": {
      "text/html": [
       "<div>\n",
       "<style scoped>\n",
       "    .dataframe tbody tr th:only-of-type {\n",
       "        vertical-align: middle;\n",
       "    }\n",
       "\n",
       "    .dataframe tbody tr th {\n",
       "        vertical-align: top;\n",
       "    }\n",
       "\n",
       "    .dataframe thead th {\n",
       "        text-align: right;\n",
       "    }\n",
       "</style>\n",
       "<table border=\"1\" class=\"dataframe\">\n",
       "  <thead>\n",
       "    <tr style=\"text-align: right;\">\n",
       "      <th></th>\n",
       "      <th>idid</th>\n",
       "      <th>genre</th>\n",
       "      <th>runtime</th>\n",
       "      <th>rating</th>\n",
       "      <th>fresh</th>\n",
       "      <th>top_critic</th>\n",
       "      <th>date</th>\n",
       "    </tr>\n",
       "  </thead>\n",
       "  <tbody>\n",
       "    <tr>\n",
       "      <td>3</td>\n",
       "      <td>6</td>\n",
       "      <td>Drama|Mystery and Suspense</td>\n",
       "      <td>128 minutes</td>\n",
       "      <td>2</td>\n",
       "      <td>rotten</td>\n",
       "      <td>0</td>\n",
       "      <td>July 17, 2013</td>\n",
       "    </tr>\n",
       "  </tbody>\n",
       "</table>\n",
       "</div>"
      ],
      "text/plain": [
       "   idid                       genre      runtime rating   fresh  top_critic  \\\n",
       "3     6  Drama|Mystery and Suspense  128 minutes      2  rotten           0   \n",
       "\n",
       "            date  \n",
       "3  July 17, 2013  "
      ]
     },
     "execution_count": 74,
     "metadata": {},
     "output_type": "execute_result"
    }
   ],
   "source": [
    "change_rating33(joined_rotten.rating)\n",
    "joined_rotten.head(1)"
   ]
  },
  {
   "cell_type": "code",
   "execution_count": 75,
   "metadata": {},
   "outputs": [],
   "source": [
    "def change_rating34(df):\n",
    "    for strings in df:\n",
    "        df.replace('0/4', 0, regex=True, inplace=True)"
   ]
  },
  {
   "cell_type": "code",
   "execution_count": 76,
   "metadata": {},
   "outputs": [
    {
     "data": {
      "text/html": [
       "<div>\n",
       "<style scoped>\n",
       "    .dataframe tbody tr th:only-of-type {\n",
       "        vertical-align: middle;\n",
       "    }\n",
       "\n",
       "    .dataframe tbody tr th {\n",
       "        vertical-align: top;\n",
       "    }\n",
       "\n",
       "    .dataframe thead th {\n",
       "        text-align: right;\n",
       "    }\n",
       "</style>\n",
       "<table border=\"1\" class=\"dataframe\">\n",
       "  <thead>\n",
       "    <tr style=\"text-align: right;\">\n",
       "      <th></th>\n",
       "      <th>idid</th>\n",
       "      <th>genre</th>\n",
       "      <th>runtime</th>\n",
       "      <th>rating</th>\n",
       "      <th>fresh</th>\n",
       "      <th>top_critic</th>\n",
       "      <th>date</th>\n",
       "    </tr>\n",
       "  </thead>\n",
       "  <tbody>\n",
       "    <tr>\n",
       "      <td>3</td>\n",
       "      <td>6</td>\n",
       "      <td>Drama|Mystery and Suspense</td>\n",
       "      <td>128 minutes</td>\n",
       "      <td>2</td>\n",
       "      <td>rotten</td>\n",
       "      <td>0</td>\n",
       "      <td>July 17, 2013</td>\n",
       "    </tr>\n",
       "  </tbody>\n",
       "</table>\n",
       "</div>"
      ],
      "text/plain": [
       "   idid                       genre      runtime rating   fresh  top_critic  \\\n",
       "3     6  Drama|Mystery and Suspense  128 minutes      2  rotten           0   \n",
       "\n",
       "            date  \n",
       "3  July 17, 2013  "
      ]
     },
     "execution_count": 76,
     "metadata": {},
     "output_type": "execute_result"
    }
   ],
   "source": [
    "change_rating34(joined_rotten.rating)\n",
    "joined_rotten.head(1)"
   ]
  },
  {
   "cell_type": "code",
   "execution_count": 77,
   "metadata": {},
   "outputs": [],
   "source": [
    "def change_rating35(df):\n",
    "    for strings in df:\n",
    "        df.replace('7.7', 3.3, regex=True, inplace=True)"
   ]
  },
  {
   "cell_type": "code",
   "execution_count": 78,
   "metadata": {},
   "outputs": [
    {
     "data": {
      "text/html": [
       "<div>\n",
       "<style scoped>\n",
       "    .dataframe tbody tr th:only-of-type {\n",
       "        vertical-align: middle;\n",
       "    }\n",
       "\n",
       "    .dataframe tbody tr th {\n",
       "        vertical-align: top;\n",
       "    }\n",
       "\n",
       "    .dataframe thead th {\n",
       "        text-align: right;\n",
       "    }\n",
       "</style>\n",
       "<table border=\"1\" class=\"dataframe\">\n",
       "  <thead>\n",
       "    <tr style=\"text-align: right;\">\n",
       "      <th></th>\n",
       "      <th>idid</th>\n",
       "      <th>genre</th>\n",
       "      <th>runtime</th>\n",
       "      <th>rating</th>\n",
       "      <th>fresh</th>\n",
       "      <th>top_critic</th>\n",
       "      <th>date</th>\n",
       "    </tr>\n",
       "  </thead>\n",
       "  <tbody>\n",
       "    <tr>\n",
       "      <td>3</td>\n",
       "      <td>6</td>\n",
       "      <td>Drama|Mystery and Suspense</td>\n",
       "      <td>128 minutes</td>\n",
       "      <td>2</td>\n",
       "      <td>rotten</td>\n",
       "      <td>0</td>\n",
       "      <td>July 17, 2013</td>\n",
       "    </tr>\n",
       "  </tbody>\n",
       "</table>\n",
       "</div>"
      ],
      "text/plain": [
       "   idid                       genre      runtime rating   fresh  top_critic  \\\n",
       "3     6  Drama|Mystery and Suspense  128 minutes      2  rotten           0   \n",
       "\n",
       "            date  \n",
       "3  July 17, 2013  "
      ]
     },
     "execution_count": 78,
     "metadata": {},
     "output_type": "execute_result"
    }
   ],
   "source": [
    "change_rating35(joined_rotten.rating)\n",
    "joined_rotten.head(1)"
   ]
  },
  {
   "cell_type": "code",
   "execution_count": 79,
   "metadata": {},
   "outputs": [],
   "source": [
    "def change_rating36(df):\n",
    "    for strings in df:\n",
    "        df.replace('D+', 1, regex=True, inplace=True)"
   ]
  },
  {
   "cell_type": "code",
   "execution_count": 80,
   "metadata": {},
   "outputs": [
    {
     "data": {
      "text/html": [
       "<div>\n",
       "<style scoped>\n",
       "    .dataframe tbody tr th:only-of-type {\n",
       "        vertical-align: middle;\n",
       "    }\n",
       "\n",
       "    .dataframe tbody tr th {\n",
       "        vertical-align: top;\n",
       "    }\n",
       "\n",
       "    .dataframe thead th {\n",
       "        text-align: right;\n",
       "    }\n",
       "</style>\n",
       "<table border=\"1\" class=\"dataframe\">\n",
       "  <thead>\n",
       "    <tr style=\"text-align: right;\">\n",
       "      <th></th>\n",
       "      <th>idid</th>\n",
       "      <th>genre</th>\n",
       "      <th>runtime</th>\n",
       "      <th>rating</th>\n",
       "      <th>fresh</th>\n",
       "      <th>top_critic</th>\n",
       "      <th>date</th>\n",
       "    </tr>\n",
       "  </thead>\n",
       "  <tbody>\n",
       "    <tr>\n",
       "      <td>3</td>\n",
       "      <td>6</td>\n",
       "      <td>Drama|Mystery and Suspense</td>\n",
       "      <td>128 minutes</td>\n",
       "      <td>2</td>\n",
       "      <td>rotten</td>\n",
       "      <td>0</td>\n",
       "      <td>July 17, 2013</td>\n",
       "    </tr>\n",
       "  </tbody>\n",
       "</table>\n",
       "</div>"
      ],
      "text/plain": [
       "   idid                       genre      runtime rating   fresh  top_critic  \\\n",
       "3     6  Drama|Mystery and Suspense  128 minutes      2  rotten           0   \n",
       "\n",
       "            date  \n",
       "3  July 17, 2013  "
      ]
     },
     "execution_count": 80,
     "metadata": {},
     "output_type": "execute_result"
    }
   ],
   "source": [
    "change_rating36(joined_rotten.rating)\n",
    "joined_rotten.head(1)"
   ]
  },
  {
   "cell_type": "code",
   "execution_count": null,
   "metadata": {},
   "outputs": [],
   "source": []
  },
  {
   "cell_type": "code",
   "execution_count": 81,
   "metadata": {},
   "outputs": [
    {
     "data": {
      "text/html": [
       "<div>\n",
       "<style scoped>\n",
       "    .dataframe tbody tr th:only-of-type {\n",
       "        vertical-align: middle;\n",
       "    }\n",
       "\n",
       "    .dataframe tbody tr th {\n",
       "        vertical-align: top;\n",
       "    }\n",
       "\n",
       "    .dataframe thead th {\n",
       "        text-align: right;\n",
       "    }\n",
       "</style>\n",
       "<table border=\"1\" class=\"dataframe\">\n",
       "  <thead>\n",
       "    <tr style=\"text-align: right;\">\n",
       "      <th></th>\n",
       "      <th>idid</th>\n",
       "      <th>genre</th>\n",
       "      <th>runtime</th>\n",
       "      <th>rating</th>\n",
       "      <th>fresh</th>\n",
       "      <th>top_critic</th>\n",
       "      <th>date</th>\n",
       "    </tr>\n",
       "  </thead>\n",
       "  <tbody>\n",
       "    <tr>\n",
       "      <td>3</td>\n",
       "      <td>6</td>\n",
       "      <td>Drama|Mystery and Suspense</td>\n",
       "      <td>128 minutes</td>\n",
       "      <td>2</td>\n",
       "      <td>rotten</td>\n",
       "      <td>0</td>\n",
       "      <td>July 17, 2013</td>\n",
       "    </tr>\n",
       "  </tbody>\n",
       "</table>\n",
       "</div>"
      ],
      "text/plain": [
       "   idid                       genre      runtime rating   fresh  top_critic  \\\n",
       "3     6  Drama|Mystery and Suspense  128 minutes      2  rotten           0   \n",
       "\n",
       "            date  \n",
       "3  July 17, 2013  "
      ]
     },
     "execution_count": 81,
     "metadata": {},
     "output_type": "execute_result"
    }
   ],
   "source": [
    "change_rating19(joined_rotten.rating)\n",
    "joined_rotten.head(1)"
   ]
  },
  {
   "cell_type": "code",
   "execution_count": null,
   "metadata": {},
   "outputs": [],
   "source": []
  },
  {
   "cell_type": "code",
   "execution_count": 82,
   "metadata": {},
   "outputs": [
    {
     "data": {
      "text/html": [
       "<div>\n",
       "<style scoped>\n",
       "    .dataframe tbody tr th:only-of-type {\n",
       "        vertical-align: middle;\n",
       "    }\n",
       "\n",
       "    .dataframe tbody tr th {\n",
       "        vertical-align: top;\n",
       "    }\n",
       "\n",
       "    .dataframe thead th {\n",
       "        text-align: right;\n",
       "    }\n",
       "</style>\n",
       "<table border=\"1\" class=\"dataframe\">\n",
       "  <thead>\n",
       "    <tr style=\"text-align: right;\">\n",
       "      <th></th>\n",
       "      <th>idid</th>\n",
       "      <th>genre</th>\n",
       "      <th>runtime</th>\n",
       "      <th>rating</th>\n",
       "      <th>fresh</th>\n",
       "      <th>top_critic</th>\n",
       "      <th>date</th>\n",
       "    </tr>\n",
       "  </thead>\n",
       "  <tbody>\n",
       "    <tr>\n",
       "      <td>3</td>\n",
       "      <td>6</td>\n",
       "      <td>Drama|Mystery and Suspense</td>\n",
       "      <td>128 minutes</td>\n",
       "      <td>2</td>\n",
       "      <td>rotten</td>\n",
       "      <td>0</td>\n",
       "      <td>July 17, 2013</td>\n",
       "    </tr>\n",
       "    <tr>\n",
       "      <td>4</td>\n",
       "      <td>7</td>\n",
       "      <td>Drama|Romance</td>\n",
       "      <td>200 minutes</td>\n",
       "      <td>2</td>\n",
       "      <td>rotten</td>\n",
       "      <td>0</td>\n",
       "      <td>April 21, 2013</td>\n",
       "    </tr>\n",
       "  </tbody>\n",
       "</table>\n",
       "</div>"
      ],
      "text/plain": [
       "   idid                       genre      runtime rating   fresh  top_critic  \\\n",
       "3     6  Drama|Mystery and Suspense  128 minutes      2  rotten           0   \n",
       "4     7               Drama|Romance  200 minutes      2  rotten           0   \n",
       "\n",
       "             date  \n",
       "3   July 17, 2013  \n",
       "4  April 21, 2013  "
      ]
     },
     "execution_count": 82,
     "metadata": {},
     "output_type": "execute_result"
    }
   ],
   "source": [
    "change_rating11(joined_rotten.rating)\n",
    "joined_rotten.head(2)"
   ]
  },
  {
   "cell_type": "code",
   "execution_count": 83,
   "metadata": {},
   "outputs": [],
   "source": [
    "def change_rating40(df):\n",
    "    for strings in df:\n",
    "        df.replace(6, 3, regex = True, inplace=True)"
   ]
  },
  {
   "cell_type": "code",
   "execution_count": 84,
   "metadata": {},
   "outputs": [
    {
     "data": {
      "text/html": [
       "<div>\n",
       "<style scoped>\n",
       "    .dataframe tbody tr th:only-of-type {\n",
       "        vertical-align: middle;\n",
       "    }\n",
       "\n",
       "    .dataframe tbody tr th {\n",
       "        vertical-align: top;\n",
       "    }\n",
       "\n",
       "    .dataframe thead th {\n",
       "        text-align: right;\n",
       "    }\n",
       "</style>\n",
       "<table border=\"1\" class=\"dataframe\">\n",
       "  <thead>\n",
       "    <tr style=\"text-align: right;\">\n",
       "      <th></th>\n",
       "      <th>idid</th>\n",
       "      <th>genre</th>\n",
       "      <th>runtime</th>\n",
       "      <th>rating</th>\n",
       "      <th>fresh</th>\n",
       "      <th>top_critic</th>\n",
       "      <th>date</th>\n",
       "    </tr>\n",
       "  </thead>\n",
       "  <tbody>\n",
       "    <tr>\n",
       "      <td>3</td>\n",
       "      <td>6</td>\n",
       "      <td>Drama|Mystery and Suspense</td>\n",
       "      <td>128 minutes</td>\n",
       "      <td>2</td>\n",
       "      <td>rotten</td>\n",
       "      <td>0</td>\n",
       "      <td>July 17, 2013</td>\n",
       "    </tr>\n",
       "  </tbody>\n",
       "</table>\n",
       "</div>"
      ],
      "text/plain": [
       "   idid                       genre      runtime rating   fresh  top_critic  \\\n",
       "3     6  Drama|Mystery and Suspense  128 minutes      2  rotten           0   \n",
       "\n",
       "            date  \n",
       "3  July 17, 2013  "
      ]
     },
     "execution_count": 84,
     "metadata": {},
     "output_type": "execute_result"
    }
   ],
   "source": [
    "change_rating40(joined_rotten.rating)\n",
    "joined_rotten.head(1)"
   ]
  },
  {
   "cell_type": "code",
   "execution_count": 85,
   "metadata": {},
   "outputs": [],
   "source": [
    "def change_rating41(df):\n",
    "    for strings in df:\n",
    "        df.replace(7, 3.5, regex=True, inplace=True)"
   ]
  },
  {
   "cell_type": "code",
   "execution_count": 86,
   "metadata": {},
   "outputs": [
    {
     "data": {
      "text/html": [
       "<div>\n",
       "<style scoped>\n",
       "    .dataframe tbody tr th:only-of-type {\n",
       "        vertical-align: middle;\n",
       "    }\n",
       "\n",
       "    .dataframe tbody tr th {\n",
       "        vertical-align: top;\n",
       "    }\n",
       "\n",
       "    .dataframe thead th {\n",
       "        text-align: right;\n",
       "    }\n",
       "</style>\n",
       "<table border=\"1\" class=\"dataframe\">\n",
       "  <thead>\n",
       "    <tr style=\"text-align: right;\">\n",
       "      <th></th>\n",
       "      <th>idid</th>\n",
       "      <th>genre</th>\n",
       "      <th>runtime</th>\n",
       "      <th>rating</th>\n",
       "      <th>fresh</th>\n",
       "      <th>top_critic</th>\n",
       "      <th>date</th>\n",
       "    </tr>\n",
       "  </thead>\n",
       "  <tbody>\n",
       "    <tr>\n",
       "      <td>3</td>\n",
       "      <td>6</td>\n",
       "      <td>Drama|Mystery and Suspense</td>\n",
       "      <td>128 minutes</td>\n",
       "      <td>2</td>\n",
       "      <td>rotten</td>\n",
       "      <td>0</td>\n",
       "      <td>July 17, 2013</td>\n",
       "    </tr>\n",
       "  </tbody>\n",
       "</table>\n",
       "</div>"
      ],
      "text/plain": [
       "   idid                       genre      runtime rating   fresh  top_critic  \\\n",
       "3     6  Drama|Mystery and Suspense  128 minutes      2  rotten           0   \n",
       "\n",
       "            date  \n",
       "3  July 17, 2013  "
      ]
     },
     "execution_count": 86,
     "metadata": {},
     "output_type": "execute_result"
    }
   ],
   "source": [
    "change_rating41(joined_rotten.rating)\n",
    "joined_rotten.head(1)"
   ]
  },
  {
   "cell_type": "code",
   "execution_count": 87,
   "metadata": {},
   "outputs": [],
   "source": [
    "def change_rating42(df):\n",
    "    for strings in df:\n",
    "        df.replace(8, 4, regex=True, inplace=True)"
   ]
  },
  {
   "cell_type": "code",
   "execution_count": 88,
   "metadata": {},
   "outputs": [
    {
     "data": {
      "text/html": [
       "<div>\n",
       "<style scoped>\n",
       "    .dataframe tbody tr th:only-of-type {\n",
       "        vertical-align: middle;\n",
       "    }\n",
       "\n",
       "    .dataframe tbody tr th {\n",
       "        vertical-align: top;\n",
       "    }\n",
       "\n",
       "    .dataframe thead th {\n",
       "        text-align: right;\n",
       "    }\n",
       "</style>\n",
       "<table border=\"1\" class=\"dataframe\">\n",
       "  <thead>\n",
       "    <tr style=\"text-align: right;\">\n",
       "      <th></th>\n",
       "      <th>idid</th>\n",
       "      <th>genre</th>\n",
       "      <th>runtime</th>\n",
       "      <th>rating</th>\n",
       "      <th>fresh</th>\n",
       "      <th>top_critic</th>\n",
       "      <th>date</th>\n",
       "    </tr>\n",
       "  </thead>\n",
       "  <tbody>\n",
       "    <tr>\n",
       "      <td>3</td>\n",
       "      <td>6</td>\n",
       "      <td>Drama|Mystery and Suspense</td>\n",
       "      <td>128 minutes</td>\n",
       "      <td>2</td>\n",
       "      <td>rotten</td>\n",
       "      <td>0</td>\n",
       "      <td>July 17, 2013</td>\n",
       "    </tr>\n",
       "  </tbody>\n",
       "</table>\n",
       "</div>"
      ],
      "text/plain": [
       "   idid                       genre      runtime rating   fresh  top_critic  \\\n",
       "3     6  Drama|Mystery and Suspense  128 minutes      2  rotten           0   \n",
       "\n",
       "            date  \n",
       "3  July 17, 2013  "
      ]
     },
     "execution_count": 88,
     "metadata": {},
     "output_type": "execute_result"
    }
   ],
   "source": [
    "change_rating42(joined_rotten.rating)\n",
    "joined_rotten.head(1)"
   ]
  },
  {
   "cell_type": "code",
   "execution_count": 89,
   "metadata": {},
   "outputs": [],
   "source": [
    "def change_rating43(df):\n",
    "    for strings in df:\n",
    "        df.replace(9, 4.5, regex=True, inplace=True)"
   ]
  },
  {
   "cell_type": "code",
   "execution_count": 90,
   "metadata": {},
   "outputs": [
    {
     "data": {
      "text/html": [
       "<div>\n",
       "<style scoped>\n",
       "    .dataframe tbody tr th:only-of-type {\n",
       "        vertical-align: middle;\n",
       "    }\n",
       "\n",
       "    .dataframe tbody tr th {\n",
       "        vertical-align: top;\n",
       "    }\n",
       "\n",
       "    .dataframe thead th {\n",
       "        text-align: right;\n",
       "    }\n",
       "</style>\n",
       "<table border=\"1\" class=\"dataframe\">\n",
       "  <thead>\n",
       "    <tr style=\"text-align: right;\">\n",
       "      <th></th>\n",
       "      <th>idid</th>\n",
       "      <th>genre</th>\n",
       "      <th>runtime</th>\n",
       "      <th>rating</th>\n",
       "      <th>fresh</th>\n",
       "      <th>top_critic</th>\n",
       "      <th>date</th>\n",
       "    </tr>\n",
       "  </thead>\n",
       "  <tbody>\n",
       "    <tr>\n",
       "      <td>3</td>\n",
       "      <td>6</td>\n",
       "      <td>Drama|Mystery and Suspense</td>\n",
       "      <td>128 minutes</td>\n",
       "      <td>2</td>\n",
       "      <td>rotten</td>\n",
       "      <td>0</td>\n",
       "      <td>July 17, 2013</td>\n",
       "    </tr>\n",
       "  </tbody>\n",
       "</table>\n",
       "</div>"
      ],
      "text/plain": [
       "   idid                       genre      runtime rating   fresh  top_critic  \\\n",
       "3     6  Drama|Mystery and Suspense  128 minutes      2  rotten           0   \n",
       "\n",
       "            date  \n",
       "3  July 17, 2013  "
      ]
     },
     "execution_count": 90,
     "metadata": {},
     "output_type": "execute_result"
    }
   ],
   "source": [
    "change_rating43(joined_rotten.rating)\n",
    "joined_rotten.head(1)"
   ]
  },
  {
   "cell_type": "code",
   "execution_count": 91,
   "metadata": {},
   "outputs": [],
   "source": [
    "def change_rating44(df):\n",
    "    for strings in df:\n",
    "        df.replace(10, 5, regex=True, inplace=True)"
   ]
  },
  {
   "cell_type": "code",
   "execution_count": 92,
   "metadata": {},
   "outputs": [
    {
     "data": {
      "text/html": [
       "<div>\n",
       "<style scoped>\n",
       "    .dataframe tbody tr th:only-of-type {\n",
       "        vertical-align: middle;\n",
       "    }\n",
       "\n",
       "    .dataframe tbody tr th {\n",
       "        vertical-align: top;\n",
       "    }\n",
       "\n",
       "    .dataframe thead th {\n",
       "        text-align: right;\n",
       "    }\n",
       "</style>\n",
       "<table border=\"1\" class=\"dataframe\">\n",
       "  <thead>\n",
       "    <tr style=\"text-align: right;\">\n",
       "      <th></th>\n",
       "      <th>idid</th>\n",
       "      <th>genre</th>\n",
       "      <th>runtime</th>\n",
       "      <th>rating</th>\n",
       "      <th>fresh</th>\n",
       "      <th>top_critic</th>\n",
       "      <th>date</th>\n",
       "    </tr>\n",
       "  </thead>\n",
       "  <tbody>\n",
       "    <tr>\n",
       "      <td>3</td>\n",
       "      <td>6</td>\n",
       "      <td>Drama|Mystery and Suspense</td>\n",
       "      <td>128 minutes</td>\n",
       "      <td>2</td>\n",
       "      <td>rotten</td>\n",
       "      <td>0</td>\n",
       "      <td>July 17, 2013</td>\n",
       "    </tr>\n",
       "  </tbody>\n",
       "</table>\n",
       "</div>"
      ],
      "text/plain": [
       "   idid                       genre      runtime rating   fresh  top_critic  \\\n",
       "3     6  Drama|Mystery and Suspense  128 minutes      2  rotten           0   \n",
       "\n",
       "            date  \n",
       "3  July 17, 2013  "
      ]
     },
     "execution_count": 92,
     "metadata": {},
     "output_type": "execute_result"
    }
   ],
   "source": [
    "change_rating43(joined_rotten.rating)\n",
    "joined_rotten.head(1)"
   ]
  },
  {
   "cell_type": "code",
   "execution_count": null,
   "metadata": {},
   "outputs": [],
   "source": []
  },
  {
   "cell_type": "code",
   "execution_count": 93,
   "metadata": {},
   "outputs": [
    {
     "data": {
      "text/html": [
       "<div>\n",
       "<style scoped>\n",
       "    .dataframe tbody tr th:only-of-type {\n",
       "        vertical-align: middle;\n",
       "    }\n",
       "\n",
       "    .dataframe tbody tr th {\n",
       "        vertical-align: top;\n",
       "    }\n",
       "\n",
       "    .dataframe thead th {\n",
       "        text-align: right;\n",
       "    }\n",
       "</style>\n",
       "<table border=\"1\" class=\"dataframe\">\n",
       "  <thead>\n",
       "    <tr style=\"text-align: right;\">\n",
       "      <th></th>\n",
       "      <th>idid</th>\n",
       "      <th>genre</th>\n",
       "      <th>runtime</th>\n",
       "      <th>rating</th>\n",
       "      <th>fresh</th>\n",
       "      <th>top_critic</th>\n",
       "      <th>date</th>\n",
       "    </tr>\n",
       "  </thead>\n",
       "  <tbody>\n",
       "    <tr>\n",
       "      <td>3</td>\n",
       "      <td>6</td>\n",
       "      <td>Drama|Mystery and Suspense</td>\n",
       "      <td>128 minutes</td>\n",
       "      <td>2</td>\n",
       "      <td>rotten</td>\n",
       "      <td>0</td>\n",
       "      <td>July 17, 2013</td>\n",
       "    </tr>\n",
       "    <tr>\n",
       "      <td>4</td>\n",
       "      <td>7</td>\n",
       "      <td>Drama|Romance</td>\n",
       "      <td>200 minutes</td>\n",
       "      <td>2</td>\n",
       "      <td>rotten</td>\n",
       "      <td>0</td>\n",
       "      <td>April 21, 2013</td>\n",
       "    </tr>\n",
       "    <tr>\n",
       "      <td>7</td>\n",
       "      <td>13</td>\n",
       "      <td>Drama</td>\n",
       "      <td>123 minutes</td>\n",
       "      <td>3</td>\n",
       "      <td>fresh</td>\n",
       "      <td>0</td>\n",
       "      <td>January 7, 2013</td>\n",
       "    </tr>\n",
       "    <tr>\n",
       "      <td>8</td>\n",
       "      <td>14</td>\n",
       "      <td>Drama</td>\n",
       "      <td>117 minutes</td>\n",
       "      <td>3</td>\n",
       "      <td>fresh</td>\n",
       "      <td>0</td>\n",
       "      <td>October 20, 2012</td>\n",
       "    </tr>\n",
       "    <tr>\n",
       "      <td>9</td>\n",
       "      <td>15</td>\n",
       "      <td>Action and Adventure|Mystery and Suspense|Scie...</td>\n",
       "      <td>108 minutes</td>\n",
       "      <td>3</td>\n",
       "      <td>fresh</td>\n",
       "      <td>0</td>\n",
       "      <td>September 27, 2012</td>\n",
       "    </tr>\n",
       "  </tbody>\n",
       "</table>\n",
       "</div>"
      ],
      "text/plain": [
       "   idid                                              genre      runtime  \\\n",
       "3     6                         Drama|Mystery and Suspense  128 minutes   \n",
       "4     7                                      Drama|Romance  200 minutes   \n",
       "7    13                                              Drama  123 minutes   \n",
       "8    14                                              Drama  117 minutes   \n",
       "9    15  Action and Adventure|Mystery and Suspense|Scie...  108 minutes   \n",
       "\n",
       "   rating   fresh  top_critic                date  \n",
       "3       2  rotten           0       July 17, 2013  \n",
       "4       2  rotten           0      April 21, 2013  \n",
       "7       3   fresh           0     January 7, 2013  \n",
       "8       3   fresh           0    October 20, 2012  \n",
       "9       3   fresh           0  September 27, 2012  "
      ]
     },
     "execution_count": 93,
     "metadata": {},
     "output_type": "execute_result"
    }
   ],
   "source": [
    "joined_rotten['rating'] = joined_rotten.rating.astype(int)\n",
    "change_rating3(joined_rotten.rating)\n",
    "joined_rotten.head()"
   ]
  },
  {
   "cell_type": "code",
   "execution_count": null,
   "metadata": {},
   "outputs": [],
   "source": []
  },
  {
   "cell_type": "code",
   "execution_count": null,
   "metadata": {},
   "outputs": [],
   "source": []
  },
  {
   "cell_type": "code",
   "execution_count": null,
   "metadata": {},
   "outputs": [],
   "source": []
  },
  {
   "cell_type": "code",
   "execution_count": 94,
   "metadata": {},
   "outputs": [],
   "source": [
    "def remove_format(df):\n",
    "    for strings in df:\n",
    "        df.replace('minutes', '', regex=True, inplace=True)"
   ]
  },
  {
   "cell_type": "code",
   "execution_count": 95,
   "metadata": {},
   "outputs": [],
   "source": []
  },
  {
   "cell_type": "code",
   "execution_count": null,
   "metadata": {},
   "outputs": [],
   "source": []
  },
  {
   "cell_type": "code",
   "execution_count": 96,
   "metadata": {},
   "outputs": [
    {
     "name": "stdout",
     "output_type": "stream",
     "text": [
      "<class 'pandas.core.frame.DataFrame'>\n",
      "Int64Index: 1135 entries, 3 to 1559\n",
      "Data columns (total 7 columns):\n",
      "idid          1135 non-null int64\n",
      "genre         1135 non-null object\n",
      "runtime       1135 non-null int64\n",
      "rating        1135 non-null int64\n",
      "fresh         1135 non-null object\n",
      "top_critic    1135 non-null int64\n",
      "date          1135 non-null object\n",
      "dtypes: int64(4), object(3)\n",
      "memory usage: 70.9+ KB\n"
     ]
    }
   ],
   "source": [
    "# Changing runtime to intg\n",
    "joined_rotten['runtime'] = joined_rotten.runtime.astype(int)\n",
    "joined_rotten.info()"
   ]
  },
  {
   "cell_type": "code",
   "execution_count": null,
   "metadata": {},
   "outputs": [],
   "source": []
  },
  {
   "cell_type": "code",
   "execution_count": 97,
   "metadata": {},
   "outputs": [
    {
     "data": {
      "text/plain": [
       "Text(0.5, 0, 'Rating')"
      ]
     },
     "execution_count": 97,
     "metadata": {},
     "output_type": "execute_result"
    },
    {
     "data": {
      "image/png": "[encoded data removed]",
      "text/plain": [
       "<Figure size 720x576 with 1 Axes>"
      ]
     },
     "metadata": {},
     "output_type": "display_data"
    }
   ],
   "source": [
    "x = joined_rotten.rating\n",
    "y = joined_rotten.runtime\n",
    "\n",
    "plt.figure(figsize=(10, 8))\n",
    "sns.boxplot(x, y, color='tomato')\n",
    "plt.title('Rotten Tomatoes Runtime')\n",
    "plt.ylabel('Runtime by Mins')\n",
    "sns.set(context='notebook',\n",
    "        style='darkgrid',\n",
    "        palette='deep',\n",
    "        font='sans-serif',\n",
    "        font_scale=2)\n",
    "plt.xlabel('Rating')"
   ]
  },
  {
   "cell_type": "code",
   "execution_count": null,
   "metadata": {},
   "outputs": [],
   "source": []
  },
  {
   "cell_type": "code",
   "execution_count": null,
   "metadata": {},
   "outputs": [],
   "source": []
  },
  {
   "cell_type": "code",
   "execution_count": null,
   "metadata": {},
   "outputs": [],
   "source": []
  },
  {
   "cell_type": "code",
   "execution_count": 98,
   "metadata": {},
   "outputs": [
    {
     "data": {
      "text/plain": [
       "Drama                                               46\n",
       "Comedy                                              31\n",
       "Comedy|Drama                                        27\n",
       "Drama|Mystery and Suspense                          18\n",
       "Art House and International|Drama                   17\n",
       "Action and Adventure|Drama|Mystery and Suspense     17\n",
       "Action and Adventure|Drama                          11\n",
       "Art House and International|Comedy|Drama            11\n",
       "Classics|Drama|Mystery and Suspense                 10\n",
       "Action and Adventure|Science Fiction and Fantasy     9\n",
       "Name: genre, dtype: int64"
      ]
     },
     "execution_count": 98,
     "metadata": {},
     "output_type": "execute_result"
    }
   ],
   "source": [
    "top_rated_rotten = joined_rotten.loc[joined_rotten['rating'] > 3]\n",
    "top_rated_rotten.genre.value_counts().head(10)"
   ]
  },
  {
   "cell_type": "code",
   "execution_count": null,
   "metadata": {},
   "outputs": [],
   "source": []
  },
  {
   "cell_type": "code",
   "execution_count": null,
   "metadata": {},
   "outputs": [],
   "source": []
  },
  {
   "cell_type": "code",
   "execution_count": null,
   "metadata": {},
   "outputs": [],
   "source": []
  },
  {
   "cell_type": "code",
   "execution_count": 101,
   "metadata": {},
   "outputs": [
    {
     "data": {
      "text/plain": [
       "Text(0.5, 0, 'No. of Movies')"
      ]
     },
     "execution_count": 101,
     "metadata": {},
     "output_type": "execute_result"
    },
    {
     "data": {
      "image/png": "[encoded data removed]",
      "text/plain": [
       "<Figure size 720x576 with 1 Axes>"
      ]
     },
     "metadata": {},
     "output_type": "display_data"
    }
   ],
   "source": [
    "y = ['Drama', 'Comedy', 'Action|Adventure', 'Mystery|Suspense', 'Romance']\n",
    "\n",
    "x = [59, 42, 27, 16, 9]\n",
    "\n",
    "plt.figure(figsize=(10, 8))\n",
    "sns.barplot(x, y, color='lightseagreen')\n",
    "plt.title('Rotten Tomatoes Top Rated Genres')\n",
    "plt.ylabel('Genres')\n",
    "sns.set(context='notebook',\n",
    "        style='darkgrid',\n",
    "        palette='deep',\n",
    "        font='sans-serif',\n",
    "        font_scale=2)\n",
    "plt.xlabel('No. of Movies')"
   ]
  },
  {
   "cell_type": "code",
   "execution_count": null,
   "metadata": {},
   "outputs": [],
   "source": []
  },
  {
   "cell_type": "code",
   "execution_count": null,
   "metadata": {},
   "outputs": [],
   "source": []
  },
  {
   "cell_type": "code",
   "execution_count": null,
   "metadata": {},
   "outputs": [],
   "source": []
  },
  {
   "cell_type": "code",
   "execution_count": null,
   "metadata": {},
   "outputs": [],
   "source": []
  }
 ],
 "metadata": {
  "kernelspec": {
   "display_name": "Python 3",
   "language": "python",
   "name": "python3"
  },
  "language_info": {
   "codemirror_mode": {
    "name": "ipython",
    "version": 3
   },
   "file_extension": ".py",
   "mimetype": "text/x-python",
   "name": "python",
   "nbconvert_exporter": "python",
   "pygments_lexer": "ipython3",
   "version": "3.7.4"
  }
 },
 "nbformat": 4,
 "nbformat_minor": 4
}
