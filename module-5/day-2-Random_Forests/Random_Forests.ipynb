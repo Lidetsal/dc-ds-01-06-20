{
 "cells": [
  {
   "cell_type": "markdown",
   "metadata": {},
   "source": [
    "> To live! like a tree alone and free,\n",
    "> and like a forest in solidarity...\n",
    "> Nazim Hikmet\n",
    "\n",
    "<center> <h1> Random Forests (Yes! No Forest Image) </h1> </center>\n",
    "\n",
    "\n",
    "\n",
    "__Objectives__\n",
    "\n",
    "- Introduction of 'bagging' procedure.\n",
    "\n",
    "- Identifying the need for bootstrapping for random forests\n",
    "\n",
    "- Comparing Random forests and bagging methods\n",
    "\n",
    "- Evaluating a model by random forest model\n",
    "\n",
    "# Review: Bootstrapping\n"
   ]
  },
  {
   "cell_type": "markdown",
   "metadata": {},
   "source": [
    "<img src= \"img/bootstrap1.png\" style=\"height:250px\">\n"
   ]
  },
  {
   "cell_type": "markdown",
   "metadata": {},
   "source": [
    "# Bagging\n",
    "\n",
    "\n",
    "Let's us one more time recall that if $Z_{1}, \\cdots, Z_{n}$ are independent observations with variance $\\sigma^{2}$ then the variance of the mean $\\bar{Z}$ is given by $\\frac{\\sigma^{2}}{n}$. \n",
    "\n",
    "__How is this relevant now?__\n",
    "\n"
   ]
  },
  {
   "cell_type": "markdown",
   "metadata": {},
   "source": [
    "We will use this idea calculate $$ \\hat{f}^{1}(x), \\cdots, \\hat{f}^{B}(x)$$ where each $\\hat{f}^{i}$ represents a decision tree fitted to the bootstrapped data.\n",
    "\n",
    "Then we will make a prediction by: \n",
    "\n",
    "$$ \\hat{f}_{\\text{avg}}(x) = \\frac{1}{B}\\sum_{b=1}^{B} \\hat{f}^{b}(x)$$\n",
    "\n",
    "Note that this is for regression and for the classification we can get majority vote.\n",
    "\n",
    "[sklearn averages over probabilities not majority vote](https://scikit-learn.org/stable/modules/ensemble.html#forest)\n"
   ]
  },
  {
   "cell_type": "markdown",
   "metadata": {},
   "source": [
    "## Random Forests\n",
    "\n",
    "__Problem__ We still have some problem with this approach and random forests will address this problem. Can you see the issue?\n",
    "\n",
    "- If we have a strong predictor then this will dominate in each tree.\n",
    "\n",
    "Hint: Correlated trees"
   ]
  },
  {
   "cell_type": "markdown",
   "metadata": {},
   "source": [
    "## Sklearn for RandomForests"
   ]
  },
  {
   "cell_type": "code",
   "execution_count": 1,
   "metadata": {},
   "outputs": [],
   "source": [
    "import pandas as pd"
   ]
  },
  {
   "cell_type": "code",
   "execution_count": 16,
   "metadata": {},
   "outputs": [
    {
     "name": "stdout",
     "output_type": "stream",
     "text": [
      "(303, 14)\n"
     ]
    },
    {
     "data": {
      "text/html": [
       "<div>\n",
       "<style scoped>\n",
       "    .dataframe tbody tr th:only-of-type {\n",
       "        vertical-align: middle;\n",
       "    }\n",
       "\n",
       "    .dataframe tbody tr th {\n",
       "        vertical-align: top;\n",
       "    }\n",
       "\n",
       "    .dataframe thead th {\n",
       "        text-align: right;\n",
       "    }\n",
       "</style>\n",
       "<table border=\"1\" class=\"dataframe\">\n",
       "  <thead>\n",
       "    <tr style=\"text-align: right;\">\n",
       "      <th></th>\n",
       "      <th>Age</th>\n",
       "      <th>Sex</th>\n",
       "      <th>ChestPain</th>\n",
       "      <th>RestBP</th>\n",
       "      <th>Chol</th>\n",
       "      <th>Fbs</th>\n",
       "      <th>RestECG</th>\n",
       "      <th>MaxHR</th>\n",
       "      <th>ExAng</th>\n",
       "      <th>Oldpeak</th>\n",
       "      <th>Slope</th>\n",
       "      <th>Ca</th>\n",
       "      <th>Thal</th>\n",
       "      <th>AHD</th>\n",
       "    </tr>\n",
       "  </thead>\n",
       "  <tbody>\n",
       "    <tr>\n",
       "      <th>1</th>\n",
       "      <td>63</td>\n",
       "      <td>1</td>\n",
       "      <td>typical</td>\n",
       "      <td>145</td>\n",
       "      <td>233</td>\n",
       "      <td>1</td>\n",
       "      <td>2</td>\n",
       "      <td>150</td>\n",
       "      <td>0</td>\n",
       "      <td>2.3</td>\n",
       "      <td>3</td>\n",
       "      <td>0.0</td>\n",
       "      <td>fixed</td>\n",
       "      <td>No</td>\n",
       "    </tr>\n",
       "    <tr>\n",
       "      <th>2</th>\n",
       "      <td>67</td>\n",
       "      <td>1</td>\n",
       "      <td>asymptomatic</td>\n",
       "      <td>160</td>\n",
       "      <td>286</td>\n",
       "      <td>0</td>\n",
       "      <td>2</td>\n",
       "      <td>108</td>\n",
       "      <td>1</td>\n",
       "      <td>1.5</td>\n",
       "      <td>2</td>\n",
       "      <td>3.0</td>\n",
       "      <td>normal</td>\n",
       "      <td>Yes</td>\n",
       "    </tr>\n",
       "    <tr>\n",
       "      <th>3</th>\n",
       "      <td>67</td>\n",
       "      <td>1</td>\n",
       "      <td>asymptomatic</td>\n",
       "      <td>120</td>\n",
       "      <td>229</td>\n",
       "      <td>0</td>\n",
       "      <td>2</td>\n",
       "      <td>129</td>\n",
       "      <td>1</td>\n",
       "      <td>2.6</td>\n",
       "      <td>2</td>\n",
       "      <td>2.0</td>\n",
       "      <td>reversable</td>\n",
       "      <td>Yes</td>\n",
       "    </tr>\n",
       "    <tr>\n",
       "      <th>4</th>\n",
       "      <td>37</td>\n",
       "      <td>1</td>\n",
       "      <td>nonanginal</td>\n",
       "      <td>130</td>\n",
       "      <td>250</td>\n",
       "      <td>0</td>\n",
       "      <td>0</td>\n",
       "      <td>187</td>\n",
       "      <td>0</td>\n",
       "      <td>3.5</td>\n",
       "      <td>3</td>\n",
       "      <td>0.0</td>\n",
       "      <td>normal</td>\n",
       "      <td>No</td>\n",
       "    </tr>\n",
       "    <tr>\n",
       "      <th>5</th>\n",
       "      <td>41</td>\n",
       "      <td>0</td>\n",
       "      <td>nontypical</td>\n",
       "      <td>130</td>\n",
       "      <td>204</td>\n",
       "      <td>0</td>\n",
       "      <td>2</td>\n",
       "      <td>172</td>\n",
       "      <td>0</td>\n",
       "      <td>1.4</td>\n",
       "      <td>1</td>\n",
       "      <td>0.0</td>\n",
       "      <td>normal</td>\n",
       "      <td>No</td>\n",
       "    </tr>\n",
       "  </tbody>\n",
       "</table>\n",
       "</div>"
      ],
      "text/plain": [
       "   Age  Sex     ChestPain  RestBP  Chol  Fbs  RestECG  MaxHR  ExAng  Oldpeak  \\\n",
       "1   63    1       typical     145   233    1        2    150      0      2.3   \n",
       "2   67    1  asymptomatic     160   286    0        2    108      1      1.5   \n",
       "3   67    1  asymptomatic     120   229    0        2    129      1      2.6   \n",
       "4   37    1    nonanginal     130   250    0        0    187      0      3.5   \n",
       "5   41    0    nontypical     130   204    0        2    172      0      1.4   \n",
       "\n",
       "   Slope   Ca        Thal  AHD  \n",
       "1      3  0.0       fixed   No  \n",
       "2      2  3.0      normal  Yes  \n",
       "3      2  2.0  reversable  Yes  \n",
       "4      3  0.0      normal   No  \n",
       "5      1  0.0      normal   No  "
      ]
     },
     "execution_count": 16,
     "metadata": {},
     "output_type": "execute_result"
    }
   ],
   "source": [
    "## you can download the data from -- https://www.kaggle.com/ishaanv/ISLR-Auto#Heart.csv\n",
    "\n",
    "## or http://faculty.marshall.usc.edu/gareth-james/ISL/data.html\n",
    "heart = pd.read_csv('data/Heart.csv', index_col = 0)\n",
    "print(heart.shape)\n",
    "heart.head()\n"
   ]
  },
  {
   "cell_type": "code",
   "execution_count": null,
   "metadata": {},
   "outputs": [],
   "source": []
  },
  {
   "cell_type": "code",
   "execution_count": 3,
   "metadata": {},
   "outputs": [],
   "source": [
    "heart.dropna(axis= 0, how= 'any', inplace = True)\n",
    "y = heart.AHD\n",
    "heart.drop(columns= 'AHD', inplace = True)"
   ]
  },
  {
   "cell_type": "code",
   "execution_count": 4,
   "metadata": {},
   "outputs": [
    {
     "data": {
      "text/html": [
       "<div>\n",
       "<style scoped>\n",
       "    .dataframe tbody tr th:only-of-type {\n",
       "        vertical-align: middle;\n",
       "    }\n",
       "\n",
       "    .dataframe tbody tr th {\n",
       "        vertical-align: top;\n",
       "    }\n",
       "\n",
       "    .dataframe thead th {\n",
       "        text-align: right;\n",
       "    }\n",
       "</style>\n",
       "<table border=\"1\" class=\"dataframe\">\n",
       "  <thead>\n",
       "    <tr style=\"text-align: right;\">\n",
       "      <th></th>\n",
       "      <th>Age</th>\n",
       "      <th>Sex</th>\n",
       "      <th>ChestPain</th>\n",
       "      <th>RestBP</th>\n",
       "      <th>Chol</th>\n",
       "      <th>Fbs</th>\n",
       "      <th>RestECG</th>\n",
       "      <th>MaxHR</th>\n",
       "      <th>ExAng</th>\n",
       "      <th>Oldpeak</th>\n",
       "      <th>Slope</th>\n",
       "      <th>Ca</th>\n",
       "      <th>Thal</th>\n",
       "    </tr>\n",
       "  </thead>\n",
       "  <tbody>\n",
       "    <tr>\n",
       "      <th>1</th>\n",
       "      <td>63</td>\n",
       "      <td>1</td>\n",
       "      <td>typical</td>\n",
       "      <td>145</td>\n",
       "      <td>233</td>\n",
       "      <td>1</td>\n",
       "      <td>2</td>\n",
       "      <td>150</td>\n",
       "      <td>0</td>\n",
       "      <td>2.3</td>\n",
       "      <td>3</td>\n",
       "      <td>0.0</td>\n",
       "      <td>fixed</td>\n",
       "    </tr>\n",
       "    <tr>\n",
       "      <th>2</th>\n",
       "      <td>67</td>\n",
       "      <td>1</td>\n",
       "      <td>asymptomatic</td>\n",
       "      <td>160</td>\n",
       "      <td>286</td>\n",
       "      <td>0</td>\n",
       "      <td>2</td>\n",
       "      <td>108</td>\n",
       "      <td>1</td>\n",
       "      <td>1.5</td>\n",
       "      <td>2</td>\n",
       "      <td>3.0</td>\n",
       "      <td>normal</td>\n",
       "    </tr>\n",
       "    <tr>\n",
       "      <th>3</th>\n",
       "      <td>67</td>\n",
       "      <td>1</td>\n",
       "      <td>asymptomatic</td>\n",
       "      <td>120</td>\n",
       "      <td>229</td>\n",
       "      <td>0</td>\n",
       "      <td>2</td>\n",
       "      <td>129</td>\n",
       "      <td>1</td>\n",
       "      <td>2.6</td>\n",
       "      <td>2</td>\n",
       "      <td>2.0</td>\n",
       "      <td>reversable</td>\n",
       "    </tr>\n",
       "    <tr>\n",
       "      <th>4</th>\n",
       "      <td>37</td>\n",
       "      <td>1</td>\n",
       "      <td>nonanginal</td>\n",
       "      <td>130</td>\n",
       "      <td>250</td>\n",
       "      <td>0</td>\n",
       "      <td>0</td>\n",
       "      <td>187</td>\n",
       "      <td>0</td>\n",
       "      <td>3.5</td>\n",
       "      <td>3</td>\n",
       "      <td>0.0</td>\n",
       "      <td>normal</td>\n",
       "    </tr>\n",
       "    <tr>\n",
       "      <th>5</th>\n",
       "      <td>41</td>\n",
       "      <td>0</td>\n",
       "      <td>nontypical</td>\n",
       "      <td>130</td>\n",
       "      <td>204</td>\n",
       "      <td>0</td>\n",
       "      <td>2</td>\n",
       "      <td>172</td>\n",
       "      <td>0</td>\n",
       "      <td>1.4</td>\n",
       "      <td>1</td>\n",
       "      <td>0.0</td>\n",
       "      <td>normal</td>\n",
       "    </tr>\n",
       "  </tbody>\n",
       "</table>\n",
       "</div>"
      ],
      "text/plain": [
       "   Age  Sex     ChestPain  RestBP  Chol  Fbs  RestECG  MaxHR  ExAng  Oldpeak  \\\n",
       "1   63    1       typical     145   233    1        2    150      0      2.3   \n",
       "2   67    1  asymptomatic     160   286    0        2    108      1      1.5   \n",
       "3   67    1  asymptomatic     120   229    0        2    129      1      2.6   \n",
       "4   37    1    nonanginal     130   250    0        0    187      0      3.5   \n",
       "5   41    0    nontypical     130   204    0        2    172      0      1.4   \n",
       "\n",
       "   Slope   Ca        Thal  \n",
       "1      3  0.0       fixed  \n",
       "2      2  3.0      normal  \n",
       "3      2  2.0  reversable  \n",
       "4      3  0.0      normal  \n",
       "5      1  0.0      normal  "
      ]
     },
     "execution_count": 4,
     "metadata": {},
     "output_type": "execute_result"
    }
   ],
   "source": [
    "heart.head()"
   ]
  },
  {
   "cell_type": "code",
   "execution_count": 5,
   "metadata": {},
   "outputs": [
    {
     "name": "stdout",
     "output_type": "stream",
     "text": [
      "<class 'pandas.core.frame.DataFrame'>\n",
      "Int64Index: 297 entries, 1 to 302\n",
      "Data columns (total 13 columns):\n",
      " #   Column     Non-Null Count  Dtype  \n",
      "---  ------     --------------  -----  \n",
      " 0   Age        297 non-null    int64  \n",
      " 1   Sex        297 non-null    int64  \n",
      " 2   ChestPain  297 non-null    object \n",
      " 3   RestBP     297 non-null    int64  \n",
      " 4   Chol       297 non-null    int64  \n",
      " 5   Fbs        297 non-null    int64  \n",
      " 6   RestECG    297 non-null    int64  \n",
      " 7   MaxHR      297 non-null    int64  \n",
      " 8   ExAng      297 non-null    int64  \n",
      " 9   Oldpeak    297 non-null    float64\n",
      " 10  Slope      297 non-null    int64  \n",
      " 11  Ca         297 non-null    float64\n",
      " 12  Thal       297 non-null    object \n",
      "dtypes: float64(2), int64(9), object(2)\n",
      "memory usage: 32.5+ KB\n"
     ]
    }
   ],
   "source": [
    "heart.info()"
   ]
  },
  {
   "cell_type": "code",
   "execution_count": 6,
   "metadata": {},
   "outputs": [
    {
     "data": {
      "text/plain": [
       "normal        164\n",
       "reversable    115\n",
       "fixed          18\n",
       "Name: Thal, dtype: int64"
      ]
     },
     "metadata": {},
     "output_type": "display_data"
    },
    {
     "data": {
      "text/plain": [
       "asymptomatic    142\n",
       "nonanginal       83\n",
       "nontypical       49\n",
       "typical          23\n",
       "Name: ChestPain, dtype: int64"
      ]
     },
     "metadata": {},
     "output_type": "display_data"
    }
   ],
   "source": [
    "display(heart.Thal.value_counts())\n",
    "display(heart.ChestPain.value_counts())"
   ]
  },
  {
   "cell_type": "code",
   "execution_count": 7,
   "metadata": {},
   "outputs": [],
   "source": [
    "from sklearn.model_selection import train_test_split \n",
    "X_train, X_test,y_train, y_test = train_test_split(heart, y, test_size= 0.20, stratify = y)"
   ]
  },
  {
   "cell_type": "code",
   "execution_count": 8,
   "metadata": {},
   "outputs": [],
   "source": [
    "from sklearn.preprocessing import OneHotEncoder"
   ]
  },
  {
   "cell_type": "code",
   "execution_count": 9,
   "metadata": {},
   "outputs": [],
   "source": [
    "categorical_variables = X_train.select_dtypes(include=['object']).columns\n",
    "numerical_variables = X_train.select_dtypes(include = ['int64', 'float64']).columns"
   ]
  },
  {
   "cell_type": "code",
   "execution_count": 10,
   "metadata": {},
   "outputs": [],
   "source": [
    "import numpy as np"
   ]
  },
  {
   "cell_type": "code",
   "execution_count": 33,
   "metadata": {},
   "outputs": [
    {
     "data": {
      "text/plain": [
       "(237, 16)"
      ]
     },
     "execution_count": 33,
     "metadata": {},
     "output_type": "execute_result"
    }
   ],
   "source": [
    "ohe = OneHotEncoder(drop = 'first')\n",
    "X_categ = ohe.fit_transform(X_train[categorical_variables]).toarray()\n",
    "X_num = X_train[numerical_variables].values\n",
    "Xtrain = np.concatenate((X_categ, X_num), axis = -1,)\n",
    "Xtrain.shape"
   ]
  },
  {
   "cell_type": "code",
   "execution_count": 34,
   "metadata": {},
   "outputs": [
    {
     "data": {
      "text/plain": [
       "(60, 16)"
      ]
     },
     "execution_count": 34,
     "metadata": {},
     "output_type": "execute_result"
    }
   ],
   "source": [
    "## now we should transform the test data \n",
    "## to be able to use it for the prediction\n",
    "\n",
    "X_test_categ = ohe.transform(X_test[categorical_variables]).toarray()\n",
    "X_test_num = X_test[numerical_variables].values\n",
    "Xtest = np.concatenate((X_test_categ, X_test_num), axis = -1,)\n",
    "Xtest.shape"
   ]
  },
  {
   "cell_type": "code",
   "execution_count": 35,
   "metadata": {},
   "outputs": [],
   "source": [
    "from sklearn.ensemble import RandomForestClassifier"
   ]
  },
  {
   "cell_type": "code",
   "execution_count": 72,
   "metadata": {},
   "outputs": [],
   "source": [
    "clf = RandomForestClassifier(n_estimators= 500, \n",
    "                             criterion= 'gini', \n",
    "                             max_depth= 4,\n",
    "                             max_features= 'auto',\n",
    "                             oob_score= True)"
   ]
  },
  {
   "cell_type": "code",
   "execution_count": 73,
   "metadata": {},
   "outputs": [],
   "source": [
    "a = clf.fit(Xtrain, y_train)\n",
    "\n"
   ]
  },
  {
   "cell_type": "code",
   "execution_count": 74,
   "metadata": {},
   "outputs": [
    {
     "data": {
      "text/plain": [
       "0.9071729957805907"
      ]
     },
     "execution_count": 74,
     "metadata": {},
     "output_type": "execute_result"
    }
   ],
   "source": [
    "a.score(Xtrain, y_train)"
   ]
  },
  {
   "cell_type": "code",
   "execution_count": 75,
   "metadata": {},
   "outputs": [
    {
     "data": {
      "text/plain": [
       "0.8312236286919831"
      ]
     },
     "execution_count": 75,
     "metadata": {},
     "output_type": "execute_result"
    }
   ],
   "source": [
    "clf.oob_score_"
   ]
  },
  {
   "cell_type": "code",
   "execution_count": 76,
   "metadata": {},
   "outputs": [
    {
     "data": {
      "text/plain": [
       "array([[0.16811814, 0.83188186],\n",
       "       [0.2277708 , 0.7722292 ],\n",
       "       [0.78040797, 0.21959203],\n",
       "       [0.03704212, 0.96295788],\n",
       "       [0.06330795, 0.93669205],\n",
       "       [0.90996094, 0.09003906],\n",
       "       [0.93864623, 0.06135377],\n",
       "       [0.12832317, 0.87167683],\n",
       "       [0.0954932 , 0.9045068 ],\n",
       "       [0.91312252, 0.08687748],\n",
       "       [0.66833809, 0.33166191],\n",
       "       [0.9327234 , 0.0672766 ],\n",
       "       [0.29454353, 0.70545647],\n",
       "       [0.91011116, 0.08988884],\n",
       "       [0.81976349, 0.18023651],\n",
       "       [0.71955872, 0.28044128],\n",
       "       [0.4125306 , 0.5874694 ],\n",
       "       [0.25780935, 0.74219065],\n",
       "       [0.04318291, 0.95681709],\n",
       "       [0.21492726, 0.78507274],\n",
       "       [0.77658316, 0.22341684],\n",
       "       [0.93174368, 0.06825632],\n",
       "       [0.77915377, 0.22084623],\n",
       "       [0.04235956, 0.95764044],\n",
       "       [0.92474611, 0.07525389],\n",
       "       [0.9261962 , 0.0738038 ],\n",
       "       [0.15084536, 0.84915464],\n",
       "       [0.54956419, 0.45043581],\n",
       "       [0.9201463 , 0.0798537 ],\n",
       "       [0.74599938, 0.25400062],\n",
       "       [0.54868158, 0.45131842],\n",
       "       [0.61017378, 0.38982622],\n",
       "       [0.61801898, 0.38198102],\n",
       "       [0.15846922, 0.84153078],\n",
       "       [0.70632563, 0.29367437],\n",
       "       [0.64289838, 0.35710162],\n",
       "       [0.90828952, 0.09171048],\n",
       "       [0.73141745, 0.26858255],\n",
       "       [0.07869105, 0.92130895],\n",
       "       [0.04650907, 0.95349093],\n",
       "       [0.87730438, 0.12269562],\n",
       "       [0.90616408, 0.09383592],\n",
       "       [0.90943816, 0.09056184],\n",
       "       [0.64570232, 0.35429768],\n",
       "       [0.03362176, 0.96637824],\n",
       "       [0.15551277, 0.84448723],\n",
       "       [0.72646709, 0.27353291],\n",
       "       [0.20630564, 0.79369436],\n",
       "       [0.7182239 , 0.2817761 ],\n",
       "       [0.11880973, 0.88119027],\n",
       "       [0.06158915, 0.93841085],\n",
       "       [0.79809526, 0.20190474],\n",
       "       [0.62159808, 0.37840192],\n",
       "       [0.92842429, 0.07157571],\n",
       "       [0.30180369, 0.69819631],\n",
       "       [0.13169462, 0.86830538],\n",
       "       [0.19269755, 0.80730245],\n",
       "       [0.70640423, 0.29359577],\n",
       "       [0.70912952, 0.29087048],\n",
       "       [0.05258007, 0.94741993],\n",
       "       [0.88870513, 0.11129487],\n",
       "       [0.1284156 , 0.8715844 ],\n",
       "       [0.72506926, 0.27493074],\n",
       "       [0.87207152, 0.12792848],\n",
       "       [0.53890418, 0.46109582],\n",
       "       [0.92812304, 0.07187696],\n",
       "       [0.73522784, 0.26477216],\n",
       "       [0.60931627, 0.39068373],\n",
       "       [0.7747574 , 0.2252426 ],\n",
       "       [0.16282818, 0.83717182],\n",
       "       [0.63292218, 0.36707782],\n",
       "       [0.60273017, 0.39726983],\n",
       "       [0.63910484, 0.36089516],\n",
       "       [0.82543394, 0.17456606],\n",
       "       [0.29467002, 0.70532998],\n",
       "       [0.09107126, 0.90892874],\n",
       "       [0.32013811, 0.67986189],\n",
       "       [0.73288226, 0.26711774],\n",
       "       [0.19382393, 0.80617607],\n",
       "       [0.81218337, 0.18781663],\n",
       "       [0.9181461 , 0.0818539 ],\n",
       "       [0.85963301, 0.14036699],\n",
       "       [0.17857197, 0.82142803],\n",
       "       [0.12967202, 0.87032798],\n",
       "       [0.5349643 , 0.4650357 ],\n",
       "       [0.04023605, 0.95976395],\n",
       "       [0.85831785, 0.14168215],\n",
       "       [0.08590324, 0.91409676],\n",
       "       [0.31124883, 0.68875117],\n",
       "       [0.06665823, 0.93334177],\n",
       "       [0.59200588, 0.40799412],\n",
       "       [0.64285537, 0.35714463],\n",
       "       [0.187801  , 0.812199  ],\n",
       "       [0.1291586 , 0.8708414 ],\n",
       "       [0.93559259, 0.06440741],\n",
       "       [0.88620748, 0.11379252],\n",
       "       [0.82047033, 0.17952967],\n",
       "       [0.04337944, 0.95662056],\n",
       "       [0.07772705, 0.92227295],\n",
       "       [0.65673539, 0.34326461],\n",
       "       [0.25014992, 0.74985008],\n",
       "       [0.7682124 , 0.2317876 ],\n",
       "       [0.82232283, 0.17767717],\n",
       "       [0.92862902, 0.07137098],\n",
       "       [0.48208064, 0.51791936],\n",
       "       [0.3381122 , 0.6618878 ],\n",
       "       [0.08886424, 0.91113576],\n",
       "       [0.93590333, 0.06409667],\n",
       "       [0.93183753, 0.06816247],\n",
       "       [0.89169131, 0.10830869],\n",
       "       [0.93590024, 0.06409976],\n",
       "       [0.80962751, 0.19037249],\n",
       "       [0.58700014, 0.41299986],\n",
       "       [0.03482149, 0.96517851],\n",
       "       [0.72205017, 0.27794983],\n",
       "       [0.78691884, 0.21308116],\n",
       "       [0.15091347, 0.84908653],\n",
       "       [0.75542304, 0.24457696],\n",
       "       [0.09687934, 0.90312066],\n",
       "       [0.88443653, 0.11556347],\n",
       "       [0.56381417, 0.43618583],\n",
       "       [0.8175871 , 0.1824129 ],\n",
       "       [0.38299738, 0.61700262],\n",
       "       [0.89752136, 0.10247864],\n",
       "       [0.52331138, 0.47668862],\n",
       "       [0.7447931 , 0.2552069 ],\n",
       "       [0.04708582, 0.95291418],\n",
       "       [0.85643523, 0.14356477],\n",
       "       [0.58230248, 0.41769752],\n",
       "       [0.93727905, 0.06272095],\n",
       "       [0.60080068, 0.39919932],\n",
       "       [0.87620059, 0.12379941],\n",
       "       [0.20733759, 0.79266241],\n",
       "       [0.71890932, 0.28109068],\n",
       "       [0.60467697, 0.39532303],\n",
       "       [0.59826486, 0.40173514],\n",
       "       [0.07530198, 0.92469802],\n",
       "       [0.5541501 , 0.4458499 ],\n",
       "       [0.79696178, 0.20303822],\n",
       "       [0.72564099, 0.27435901],\n",
       "       [0.90705748, 0.09294252],\n",
       "       [0.65149792, 0.34850208],\n",
       "       [0.15075645, 0.84924355],\n",
       "       [0.29723967, 0.70276033],\n",
       "       [0.87849687, 0.12150313],\n",
       "       [0.28990852, 0.71009148],\n",
       "       [0.7894606 , 0.2105394 ],\n",
       "       [0.28266005, 0.71733995],\n",
       "       [0.82690574, 0.17309426],\n",
       "       [0.12641254, 0.87358746],\n",
       "       [0.82752103, 0.17247897],\n",
       "       [0.9154604 , 0.0845396 ],\n",
       "       [0.25059692, 0.74940308],\n",
       "       [0.60151231, 0.39848769],\n",
       "       [0.68282575, 0.31717425],\n",
       "       [0.84598768, 0.15401232],\n",
       "       [0.93593264, 0.06406736],\n",
       "       [0.90221467, 0.09778533],\n",
       "       [0.55609319, 0.44390681],\n",
       "       [0.47942834, 0.52057166],\n",
       "       [0.03159577, 0.96840423],\n",
       "       [0.92606354, 0.07393646],\n",
       "       [0.90487755, 0.09512245],\n",
       "       [0.89153821, 0.10846179],\n",
       "       [0.22127658, 0.77872342],\n",
       "       [0.45153356, 0.54846644],\n",
       "       [0.87578972, 0.12421028],\n",
       "       [0.80576347, 0.19423653],\n",
       "       [0.83605709, 0.16394291],\n",
       "       [0.84738882, 0.15261118],\n",
       "       [0.26040775, 0.73959225],\n",
       "       [0.67588348, 0.32411652],\n",
       "       [0.74668396, 0.25331604],\n",
       "       [0.6762596 , 0.3237404 ],\n",
       "       [0.93632147, 0.06367853],\n",
       "       [0.07024656, 0.92975344],\n",
       "       [0.71800296, 0.28199704],\n",
       "       [0.88685394, 0.11314606],\n",
       "       [0.07352518, 0.92647482],\n",
       "       [0.11773081, 0.88226919],\n",
       "       [0.06449136, 0.93550864],\n",
       "       [0.72927258, 0.27072742],\n",
       "       [0.90223703, 0.09776297],\n",
       "       [0.77958446, 0.22041554],\n",
       "       [0.07401081, 0.92598919],\n",
       "       [0.43118318, 0.56881682],\n",
       "       [0.48726243, 0.51273757],\n",
       "       [0.06077032, 0.93922968],\n",
       "       [0.79468446, 0.20531554],\n",
       "       [0.80682641, 0.19317359],\n",
       "       [0.27203515, 0.72796485],\n",
       "       [0.07446947, 0.92553053],\n",
       "       [0.92037274, 0.07962726],\n",
       "       [0.01915125, 0.98084875],\n",
       "       [0.14086956, 0.85913044],\n",
       "       [0.64755313, 0.35244687],\n",
       "       [0.20192126, 0.79807874],\n",
       "       [0.18020431, 0.81979569],\n",
       "       [0.15211597, 0.84788403],\n",
       "       [0.65188525, 0.34811475],\n",
       "       [0.85305364, 0.14694636],\n",
       "       [0.93270513, 0.06729487],\n",
       "       [0.1668552 , 0.8331448 ],\n",
       "       [0.75998933, 0.24001067],\n",
       "       [0.87116402, 0.12883598],\n",
       "       [0.6361407 , 0.3638593 ],\n",
       "       [0.91503582, 0.08496418],\n",
       "       [0.07425103, 0.92574897],\n",
       "       [0.7377524 , 0.2622476 ],\n",
       "       [0.93918943, 0.06081057],\n",
       "       [0.77985827, 0.22014173],\n",
       "       [0.02457047, 0.97542953],\n",
       "       [0.21730779, 0.78269221],\n",
       "       [0.19031034, 0.80968966],\n",
       "       [0.2190397 , 0.7809603 ],\n",
       "       [0.0371741 , 0.9628259 ],\n",
       "       [0.91019944, 0.08980056],\n",
       "       [0.49352918, 0.50647082],\n",
       "       [0.24580903, 0.75419097],\n",
       "       [0.80040275, 0.19959725],\n",
       "       [0.7956013 , 0.2043987 ],\n",
       "       [0.32988615, 0.67011385],\n",
       "       [0.20768416, 0.79231584],\n",
       "       [0.11536274, 0.88463726],\n",
       "       [0.78142915, 0.21857085],\n",
       "       [0.43919493, 0.56080507],\n",
       "       [0.09334561, 0.90665439],\n",
       "       [0.91561798, 0.08438202],\n",
       "       [0.6275035 , 0.3724965 ],\n",
       "       [0.12047003, 0.87952997],\n",
       "       [0.92083272, 0.07916728],\n",
       "       [0.70898052, 0.29101948],\n",
       "       [0.93719391, 0.06280609],\n",
       "       [0.22991317, 0.77008683],\n",
       "       [0.78183116, 0.21816884],\n",
       "       [0.30356666, 0.69643334],\n",
       "       [0.92519527, 0.07480473]])"
      ]
     },
     "execution_count": 76,
     "metadata": {},
     "output_type": "execute_result"
    }
   ],
   "source": [
    "clf.predict_proba(Xtrain) #probability of getting 0s and 1s"
   ]
  },
  {
   "cell_type": "code",
   "execution_count": 79,
   "metadata": {},
   "outputs": [],
   "source": [
    "from sklearn import tree"
   ]
  },
  {
   "cell_type": "code",
   "execution_count": 80,
   "metadata": {},
   "outputs": [],
   "source": [
    "a_tree = clf.estimators_[5]\n"
   ]
  },
  {
   "cell_type": "code",
   "execution_count": 81,
   "metadata": {},
   "outputs": [
    {
     "data": {
      "image/png": "[encoded data removed]",
      "text/plain": [
       "<Figure size 432x288 with 1 Axes>"
      ]
     },
     "metadata": {
      "needs_background": "light"
     },
     "output_type": "display_data"
    }
   ],
   "source": [
    "tree.plot_tree(a_tree.fit(Xtrain, y_train), filled=True,);"
   ]
  },
  {
   "cell_type": "code",
   "execution_count": null,
   "metadata": {},
   "outputs": [],
   "source": []
  },
  {
   "cell_type": "markdown",
   "metadata": {},
   "source": [
    "__Your Turn__\n",
    "\n",
    "- Use 5 fold cross_validation to fit random forest classifier we created above.\n",
    "- Don't forget to return training scores and trained estimators."
   ]
  },
  {
   "cell_type": "code",
   "execution_count": 48,
   "metadata": {},
   "outputs": [],
   "source": [
    "from sklearn.model_selection import cross_validate"
   ]
  },
  {
   "cell_type": "code",
   "execution_count": 18,
   "metadata": {},
   "outputs": [],
   "source": [
    "import math as m"
   ]
  },
  {
   "cell_type": "code",
   "execution_count": 19,
   "metadata": {},
   "outputs": [
    {
     "data": {
      "text/plain": [
       "3.7416573867739413"
      ]
     },
     "execution_count": 19,
     "metadata": {},
     "output_type": "execute_result"
    }
   ],
   "source": [
    "m.sqrt(14)"
   ]
  },
  {
   "cell_type": "code",
   "execution_count": null,
   "metadata": {},
   "outputs": [],
   "source": []
  },
  {
   "cell_type": "code",
   "execution_count": 53,
   "metadata": {},
   "outputs": [],
   "source": [
    "# %load -r 1-6 supplement.py\n",
    "cv = cross_validate(estimator = clf,\n",
    "                    X = Xtrain,\n",
    "                    y = y_train,\n",
    "                    return_train_score=True,\n",
    "                    return_estimator=True,\n",
    "                    cv=5)"
   ]
  },
  {
   "cell_type": "markdown",
   "metadata": {},
   "source": [
    "__Your Turn__\n",
    "\n",
    "- What is the type of validator above?\n",
    "\n",
    "- Check test vs train(validation) scores.\n",
    "\n",
    "- Print \"mean +/- std\" for both train and test scores\n",
    "\n",
    "- Also print oob_scores and compare them with cross_validation scores"
   ]
  },
  {
   "cell_type": "code",
   "execution_count": 54,
   "metadata": {},
   "outputs": [
    {
     "name": "stdout",
     "output_type": "stream",
     "text": [
      "Train score: 1.000 +/- 0.000\n",
      "Test score: 0.790 +/- 0.053\n"
     ]
    }
   ],
   "source": [
    "# %load -r 9-17 supplement.py\n",
    "mean_test = np.mean(cv['test_score'])\n",
    "std_test = np.std(cv['test_score'])\n",
    "\n",
    "mean_train = np.mean(cv['train_score'])\n",
    "std_train = np.std(cv['train_score'])\n",
    "\n",
    "\n",
    "print(\"Train score: %.3f +/- %.3f\"%(mean_train, std_train))\n",
    "print(\"Test score: %.3f +/- %.3f\"%(mean_test, std_test))"
   ]
  },
  {
   "cell_type": "code",
   "execution_count": 55,
   "metadata": {},
   "outputs": [
    {
     "data": {
      "text/plain": [
       "0.7510548523206751"
      ]
     },
     "execution_count": 55,
     "metadata": {},
     "output_type": "execute_result"
    }
   ],
   "source": [
    "clf.fit(Xtrain, y_train)\n",
    "clf.oob_score_"
   ]
  },
  {
   "cell_type": "code",
   "execution_count": null,
   "metadata": {},
   "outputs": [],
   "source": []
  },
  {
   "cell_type": "markdown",
   "metadata": {},
   "source": [
    "__Your Turn__\n",
    "\n",
    "- Note that we have over-fitting problem. \n",
    "\n",
    "- Let's try to reduce over-fitting"
   ]
  },
  {
   "cell_type": "code",
   "execution_count": 44,
   "metadata": {},
   "outputs": [
    {
     "data": {
      "text/plain": [
       "No     128\n",
       "Yes    109\n",
       "Name: AHD, dtype: int64"
      ]
     },
     "execution_count": 44,
     "metadata": {},
     "output_type": "execute_result"
    }
   ],
   "source": [
    "y_train.value_counts()"
   ]
  },
  {
   "cell_type": "code",
   "execution_count": 60,
   "metadata": {},
   "outputs": [
    {
     "data": {
      "text/plain": [
       "0.7637130801687764"
      ]
     },
     "execution_count": 60,
     "metadata": {},
     "output_type": "execute_result"
    }
   ],
   "source": [
    "# %load -r 20-27 supplement.py\n",
    "clf = RandomForestClassifier(n_estimators= 300,\n",
    "                             criterion= 'gini',\n",
    "                             max_features= 'auto', max_depth= 7,\n",
    "                             oob_score= True)\n",
    "\n",
    "clf.fit(Xtrain, y_train);\n",
    "clf.score(Xtrain, y_train)\n",
    "clf.oob_score_"
   ]
  },
  {
   "cell_type": "markdown",
   "metadata": {},
   "source": [
    "### Extra: Pipelines?"
   ]
  },
  {
   "cell_type": "code",
   "execution_count": 18,
   "metadata": {},
   "outputs": [],
   "source": [
    "## There is an \"easier\" way to do this\n",
    "from sklearn.pipeline import Pipeline\n",
    "from sklearn.compose import ColumnTransformer\n",
    "from sklearn.impute import SimpleImputer\n",
    "from sklearn.preprocessing import StandardScaler\n",
    "\n",
    "from sklearn.ensemble import RandomForestClassifier"
   ]
  },
  {
   "cell_type": "code",
   "execution_count": 29,
   "metadata": {},
   "outputs": [],
   "source": [
    "numeric_transformer = Pipeline(steps=[\n",
    "    ('imputer', SimpleImputer(strategy='median')),\n",
    "    ('scaler', StandardScaler())])\n",
    "\n",
    "categorical_transformer = Pipeline(steps=[\n",
    "    ('onehot', OneHotEncoder(drop='first'))])\n",
    "\n",
    "preprocessor = ColumnTransformer(\n",
    "        transformers=[\n",
    "        ('num', numeric_transformer, numerical_variables),\n",
    "        ('cat', categorical_transformer, categorical_variables)],)\n",
    "\n",
    "rf = Pipeline(steps=[('preprocessor', preprocessor),\n",
    "                      ('classifier', RandomForestClassifier(n_estimators =100,\n",
    "                                                            oob_score = True))])"
   ]
  },
  {
   "cell_type": "code",
   "execution_count": 58,
   "metadata": {},
   "outputs": [],
   "source": [
    "pipe_validator = cross_validate(rf, \n",
    "                    X_train, \n",
    "                    y_train, \n",
    "                    return_train_score= True, \n",
    "                    return_estimator= True,\n",
    "                    cv = 5)"
   ]
  },
  {
   "cell_type": "code",
   "execution_count": 31,
   "metadata": {
    "scrolled": true
   },
   "outputs": [
    {
     "name": "stdout",
     "output_type": "stream",
     "text": [
      "[1. 1. 1. 1. 1.]\n",
      "[0.83333333 0.8125     0.70833333 0.78723404 0.86956522]\n"
     ]
    }
   ],
   "source": [
    "## train scores\n",
    "print(cv['train_score'])\n",
    "## validation scores\n",
    "print(cv['test_score'])\n",
    "\n",
    "## let's pick one of the estimator for further investigation\n",
    "\n",
    "est = cv['estimator'][0]"
   ]
  },
  {
   "cell_type": "code",
   "execution_count": 216,
   "metadata": {},
   "outputs": [
    {
     "data": {
      "text/plain": [
       "0.6931216931216931"
      ]
     },
     "execution_count": 216,
     "metadata": {},
     "output_type": "execute_result"
    }
   ],
   "source": [
    "est['classifier'].oob_score_"
   ]
  },
  {
   "cell_type": "markdown",
   "metadata": {},
   "source": [
    "## Continue..."
   ]
  },
  {
   "cell_type": "code",
   "execution_count": 61,
   "metadata": {},
   "outputs": [],
   "source": [
    "feature_importances = clf.feature_importances_"
   ]
  },
  {
   "cell_type": "code",
   "execution_count": 62,
   "metadata": {},
   "outputs": [
    {
     "data": {
      "text/plain": [
       "array([0.04346569, 0.02221601, 0.01686114, 0.11053086, 0.06494023,\n",
       "       0.09076995, 0.02765893, 0.06729764, 0.06547854, 0.00834202,\n",
       "       0.01619441, 0.134579  , 0.07879943, 0.10948582, 0.04939825,\n",
       "       0.09398206])"
      ]
     },
     "execution_count": 62,
     "metadata": {},
     "output_type": "execute_result"
    }
   ],
   "source": [
    "feature_importances"
   ]
  },
  {
   "cell_type": "code",
   "execution_count": 63,
   "metadata": {},
   "outputs": [],
   "source": [
    "# be careful with the order of columns\n",
    "columns = ohe.get_feature_names().tolist() +numerical_variables.tolist()"
   ]
  },
  {
   "cell_type": "code",
   "execution_count": 64,
   "metadata": {},
   "outputs": [
    {
     "data": {
      "text/html": [
       "<div>\n",
       "<style scoped>\n",
       "    .dataframe tbody tr th:only-of-type {\n",
       "        vertical-align: middle;\n",
       "    }\n",
       "\n",
       "    .dataframe tbody tr th {\n",
       "        vertical-align: top;\n",
       "    }\n",
       "\n",
       "    .dataframe thead th {\n",
       "        text-align: right;\n",
       "    }\n",
       "</style>\n",
       "<table border=\"1\" class=\"dataframe\">\n",
       "  <thead>\n",
       "    <tr style=\"text-align: right;\">\n",
       "      <th></th>\n",
       "      <th>feature_importances</th>\n",
       "    </tr>\n",
       "  </thead>\n",
       "  <tbody>\n",
       "    <tr>\n",
       "      <th>MaxHR</th>\n",
       "      <td>0.134579</td>\n",
       "    </tr>\n",
       "    <tr>\n",
       "      <th>x1_normal</th>\n",
       "      <td>0.110531</td>\n",
       "    </tr>\n",
       "    <tr>\n",
       "      <th>Oldpeak</th>\n",
       "      <td>0.109486</td>\n",
       "    </tr>\n",
       "    <tr>\n",
       "      <th>Ca</th>\n",
       "      <td>0.093982</td>\n",
       "    </tr>\n",
       "    <tr>\n",
       "      <th>Age</th>\n",
       "      <td>0.090770</td>\n",
       "    </tr>\n",
       "    <tr>\n",
       "      <th>ExAng</th>\n",
       "      <td>0.078799</td>\n",
       "    </tr>\n",
       "    <tr>\n",
       "      <th>RestBP</th>\n",
       "      <td>0.067298</td>\n",
       "    </tr>\n",
       "    <tr>\n",
       "      <th>Chol</th>\n",
       "      <td>0.065479</td>\n",
       "    </tr>\n",
       "    <tr>\n",
       "      <th>x1_reversable</th>\n",
       "      <td>0.064940</td>\n",
       "    </tr>\n",
       "    <tr>\n",
       "      <th>Slope</th>\n",
       "      <td>0.049398</td>\n",
       "    </tr>\n",
       "    <tr>\n",
       "      <th>x0_nonanginal</th>\n",
       "      <td>0.043466</td>\n",
       "    </tr>\n",
       "    <tr>\n",
       "      <th>Sex</th>\n",
       "      <td>0.027659</td>\n",
       "    </tr>\n",
       "    <tr>\n",
       "      <th>x0_nontypical</th>\n",
       "      <td>0.022216</td>\n",
       "    </tr>\n",
       "    <tr>\n",
       "      <th>x0_typical</th>\n",
       "      <td>0.016861</td>\n",
       "    </tr>\n",
       "    <tr>\n",
       "      <th>RestECG</th>\n",
       "      <td>0.016194</td>\n",
       "    </tr>\n",
       "    <tr>\n",
       "      <th>Fbs</th>\n",
       "      <td>0.008342</td>\n",
       "    </tr>\n",
       "  </tbody>\n",
       "</table>\n",
       "</div>"
      ],
      "text/plain": [
       "               feature_importances\n",
       "MaxHR                     0.134579\n",
       "x1_normal                 0.110531\n",
       "Oldpeak                   0.109486\n",
       "Ca                        0.093982\n",
       "Age                       0.090770\n",
       "ExAng                     0.078799\n",
       "RestBP                    0.067298\n",
       "Chol                      0.065479\n",
       "x1_reversable             0.064940\n",
       "Slope                     0.049398\n",
       "x0_nonanginal             0.043466\n",
       "Sex                       0.027659\n",
       "x0_nontypical             0.022216\n",
       "x0_typical                0.016861\n",
       "RestECG                   0.016194\n",
       "Fbs                       0.008342"
      ]
     },
     "execution_count": 64,
     "metadata": {},
     "output_type": "execute_result"
    }
   ],
   "source": [
    "importances = pd.DataFrame(data= feature_importances, index = columns, columns= ['feature_importances'])\n",
    "\n",
    "importances.sort_values(by = 'feature_importances', ascending = False)"
   ]
  },
  {
   "cell_type": "markdown",
   "metadata": {},
   "source": [
    "### Extra Material \n",
    "\n",
    "- [Sklearn averages probabilities in RF implementation](https://scikit-learn.org/stable/modules/ensemble.html#forest)\n",
    "\n",
    "- [On the variance](https://newonlinecourses.science.psu.edu/stat414/node/167/)\n",
    "\n",
    "- [Do RF immune to overfitting?](https://en.wikipedia.org/wiki/Talk%3ARandom_forest)\n",
    "\n",
    "- [Tricky stuff with respect to feature importance](http://rnowling.github.io/machine/learning/2015/08/10/random-forest-bias.html)\n",
    "\n",
    "- [An interesting implementation of feature importance](https://scikit-learn.org/stable/auto_examples/ensemble/plot_forest_importances_faces.html#sphx-glr-auto-examples-ensemble-plot-forest-importances-faces-py)\n",
    "\n",
    "- [Different Ensemble Methods in sklearn](https://scikit-learn.org/stable/modules/ensemble.html#forest)\n",
    "\n",
    "- [ISLR - section 8.2](http://faculty.marshall.usc.edu/gareth-james/ISL/ISLR%20Seventh%20Printing.pdf)\n",
    "\n",
    "- [Another library for RF: H2o](http://docs.h2o.ai/h2o/latest-stable/h2o-docs/data-science/drf.html)"
   ]
  },
  {
   "cell_type": "code",
   "execution_count": null,
   "metadata": {},
   "outputs": [],
   "source": []
  }
 ],
 "metadata": {
  "kernelspec": {
   "display_name": "Python 3",
   "language": "python",
   "name": "python3"
  },
  "language_info": {
   "codemirror_mode": {
    "name": "ipython",
    "version": 3
   },
   "file_extension": ".py",
   "mimetype": "text/x-python",
   "name": "python",
   "nbconvert_exporter": "python",
   "pygments_lexer": "ipython3",
   "version": "3.7.4"
  },
  "toc": {
   "base_numbering": 1,
   "nav_menu": {},
   "number_sections": true,
   "sideBar": true,
   "skip_h1_title": false,
   "title_cell": "Table of Contents",
   "title_sidebar": "Contents",
   "toc_cell": false,
   "toc_position": {},
   "toc_section_display": true,
   "toc_window_display": false
  }
 },
 "nbformat": 4,
 "nbformat_minor": 2
}
